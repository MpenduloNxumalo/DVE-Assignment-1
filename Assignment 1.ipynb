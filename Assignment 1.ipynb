{
 "cells": [
  {
   "cell_type": "markdown",
   "id": "718d1773",
   "metadata": {},
   "source": [
    "<h1> Initialisation Cell</h1>"
   ]
  },
  {
   "cell_type": "code",
   "execution_count": 150,
   "id": "b2a06c09",
   "metadata": {},
   "outputs": [],
   "source": [
    "import numpy as np\n",
    "import pandas as pd\n",
    "import re\n",
    "from datetime import date\n",
    "import matplotlib.pyplot as plt\n",
    "import seaborn as sns\n",
    "import math"
   ]
  },
  {
   "cell_type": "markdown",
   "id": "22f9f9c8",
   "metadata": {},
   "source": [
    "<h1> Importing the Data</h1>"
   ]
  },
  {
   "cell_type": "code",
   "execution_count": 151,
   "id": "fbfbc4c1",
   "metadata": {},
   "outputs": [
    {
     "name": "stderr",
     "output_type": "stream",
     "text": [
      "C:\\Users\\Mpendulo\\anaconda3\\lib\\site-packages\\IPython\\core\\interactiveshell.py:3437: DtypeWarning: Columns (3,6) have mixed types.Specify dtype option on import or set low_memory=False.\n",
      "  exec(code_obj, self.user_global_ns, self.user_ns)\n"
     ]
    },
    {
     "name": "stdout",
     "output_type": "stream",
     "text": [
      "<class 'pandas.core.frame.DataFrame'>\n",
      "RangeIndex: 1174870 entries, 0 to 1174869\n",
      "Data columns (total 9 columns):\n",
      " #   Column           Non-Null Count    Dtype \n",
      "---  ------           --------------    ----- \n",
      " 0   date_fueled      1125700 non-null  object\n",
      " 1   date_captured    1174870 non-null  object\n",
      " 2   odometer         1025716 non-null  object\n",
      " 3   gallons          1100660 non-null  object\n",
      " 4   cost_per_gallon  1094110 non-null  object\n",
      " 5   total_spent      1100660 non-null  object\n",
      " 6   mpg              1100660 non-null  object\n",
      " 7   miles            146274 non-null   object\n",
      " 8   user_url         1174870 non-null  object\n",
      "dtypes: object(9)\n",
      "memory usage: 80.7+ MB\n"
     ]
    },
    {
     "data": {
      "text/html": [
       "<div>\n",
       "<style scoped>\n",
       "    .dataframe tbody tr th:only-of-type {\n",
       "        vertical-align: middle;\n",
       "    }\n",
       "\n",
       "    .dataframe tbody tr th {\n",
       "        vertical-align: top;\n",
       "    }\n",
       "\n",
       "    .dataframe thead th {\n",
       "        text-align: right;\n",
       "    }\n",
       "</style>\n",
       "<table border=\"1\" class=\"dataframe\">\n",
       "  <thead>\n",
       "    <tr style=\"text-align: right;\">\n",
       "      <th></th>\n",
       "      <th>date_fueled</th>\n",
       "      <th>date_captured</th>\n",
       "      <th>odometer</th>\n",
       "      <th>gallons</th>\n",
       "      <th>cost_per_gallon</th>\n",
       "      <th>total_spent</th>\n",
       "      <th>mpg</th>\n",
       "      <th>miles</th>\n",
       "      <th>user_url</th>\n",
       "    </tr>\n",
       "  </thead>\n",
       "  <tbody>\n",
       "    <tr>\n",
       "      <th>0</th>\n",
       "      <td>Cooling System, Heating System, Lights, Spark ...</td>\n",
       "      <td>Apr 7 2022</td>\n",
       "      <td>73,370</td>\n",
       "      <td>NaN</td>\n",
       "      <td>NaN</td>\n",
       "      <td>NaN</td>\n",
       "      <td>NaN</td>\n",
       "      <td>NaN</td>\n",
       "      <td>https://www.somewebsite.com/suzuki/swift/2015/...</td>\n",
       "    </tr>\n",
       "    <tr>\n",
       "      <th>1</th>\n",
       "      <td>Nov 7 2012</td>\n",
       "      <td>Aug 30 2016</td>\n",
       "      <td>11,983</td>\n",
       "      <td>12.120</td>\n",
       "      <td>$5.599</td>\n",
       "      <td>$67.86</td>\n",
       "      <td>31.6</td>\n",
       "      <td>NaN</td>\n",
       "      <td>https://www.somewebsite.com/bmw/x3/2009/461150</td>\n",
       "    </tr>\n",
       "    <tr>\n",
       "      <th>2</th>\n",
       "      <td>Sep 22 2012</td>\n",
       "      <td>Sep 28 2012</td>\n",
       "      <td>98,233</td>\n",
       "      <td>7.991</td>\n",
       "      <td>£5.45</td>\n",
       "      <td>£43.53</td>\n",
       "      <td>28.5</td>\n",
       "      <td>NaN</td>\n",
       "      <td>https://www.somewebsite.com/mercedes-benz/e300...</td>\n",
       "    </tr>\n",
       "    <tr>\n",
       "      <th>3</th>\n",
       "      <td>May 4 2019</td>\n",
       "      <td>May 4 2019</td>\n",
       "      <td>163,802</td>\n",
       "      <td>10.575</td>\n",
       "      <td>£5.11</td>\n",
       "      <td>£54.00</td>\n",
       "      <td>46.8</td>\n",
       "      <td>NaN</td>\n",
       "      <td>https://www.somewebsite.com/bmw/320d/2010/247233</td>\n",
       "    </tr>\n",
       "    <tr>\n",
       "      <th>4</th>\n",
       "      <td>Feb 15 2022</td>\n",
       "      <td>Feb 15 2022</td>\n",
       "      <td>NaN</td>\n",
       "      <td>11.651</td>\n",
       "      <td>$3.029</td>\n",
       "      <td>$35.29</td>\n",
       "      <td>21.0</td>\n",
       "      <td>244.4</td>\n",
       "      <td>https://www.somewebsite.com/honda/passport/201...</td>\n",
       "    </tr>\n",
       "    <tr>\n",
       "      <th>...</th>\n",
       "      <td>...</td>\n",
       "      <td>...</td>\n",
       "      <td>...</td>\n",
       "      <td>...</td>\n",
       "      <td>...</td>\n",
       "      <td>...</td>\n",
       "      <td>...</td>\n",
       "      <td>...</td>\n",
       "      <td>...</td>\n",
       "    </tr>\n",
       "    <tr>\n",
       "      <th>1174865</th>\n",
       "      <td>Feb 19 2020</td>\n",
       "      <td>Feb 19 2020</td>\n",
       "      <td>118,237</td>\n",
       "      <td>13.046</td>\n",
       "      <td>$1.999</td>\n",
       "      <td>$26.08</td>\n",
       "      <td>25.7</td>\n",
       "      <td>NaN</td>\n",
       "      <td>https://www.somewebsite.com/volkswagen/beetle/...</td>\n",
       "    </tr>\n",
       "    <tr>\n",
       "      <th>1174866</th>\n",
       "      <td>Dec 6 2019</td>\n",
       "      <td>Dec 6 2019</td>\n",
       "      <td>141,761</td>\n",
       "      <td>12.637</td>\n",
       "      <td>$2.449</td>\n",
       "      <td>$30.95</td>\n",
       "      <td>20.0</td>\n",
       "      <td>NaN</td>\n",
       "      <td>https://www.somewebsite.com/toyota/avalon/2000...</td>\n",
       "    </tr>\n",
       "    <tr>\n",
       "      <th>1174867</th>\n",
       "      <td>Oct 4 2021</td>\n",
       "      <td>Oct 4 2021</td>\n",
       "      <td>65,029</td>\n",
       "      <td>10.002</td>\n",
       "      <td>$3.449</td>\n",
       "      <td>$34.50</td>\n",
       "      <td>28.5</td>\n",
       "      <td>NaN</td>\n",
       "      <td>https://www.somewebsite.com/fiat/500/2013/909694</td>\n",
       "    </tr>\n",
       "    <tr>\n",
       "      <th>1174868</th>\n",
       "      <td>Jul 26 2021</td>\n",
       "      <td>Jul 26 2021</td>\n",
       "      <td>15,255</td>\n",
       "      <td>10.493</td>\n",
       "      <td>$3.539</td>\n",
       "      <td>$37.13</td>\n",
       "      <td>36.5</td>\n",
       "      <td>NaN</td>\n",
       "      <td>https://www.somewebsite.com/mini/cooper/2019/9...</td>\n",
       "    </tr>\n",
       "    <tr>\n",
       "      <th>1174869</th>\n",
       "      <td>Mar 12 2019</td>\n",
       "      <td>Mar 12 2019</td>\n",
       "      <td>204,774</td>\n",
       "      <td>17.350</td>\n",
       "      <td>$3.199</td>\n",
       "      <td>$55.50</td>\n",
       "      <td>0.0</td>\n",
       "      <td>NaN</td>\n",
       "      <td>https://www.somewebsite.com/lexus/lx470/2001/8...</td>\n",
       "    </tr>\n",
       "  </tbody>\n",
       "</table>\n",
       "<p>1174870 rows × 9 columns</p>\n",
       "</div>"
      ],
      "text/plain": [
       "                                               date_fueled date_captured  \\\n",
       "0        Cooling System, Heating System, Lights, Spark ...    Apr 7 2022   \n",
       "1                                               Nov 7 2012   Aug 30 2016   \n",
       "2                                              Sep 22 2012   Sep 28 2012   \n",
       "3                                               May 4 2019    May 4 2019   \n",
       "4                                              Feb 15 2022   Feb 15 2022   \n",
       "...                                                    ...           ...   \n",
       "1174865                                        Feb 19 2020   Feb 19 2020   \n",
       "1174866                                         Dec 6 2019    Dec 6 2019   \n",
       "1174867                                         Oct 4 2021    Oct 4 2021   \n",
       "1174868                                        Jul 26 2021   Jul 26 2021   \n",
       "1174869                                        Mar 12 2019   Mar 12 2019   \n",
       "\n",
       "         odometer gallons cost_per_gallon total_spent   mpg    miles  \\\n",
       "0         73,370      NaN             NaN         NaN   NaN      NaN   \n",
       "1         11,983   12.120          $5.599      $67.86  31.6      NaN   \n",
       "2         98,233    7.991           £5.45      £43.53  28.5      NaN   \n",
       "3        163,802   10.575           £5.11      £54.00  46.8      NaN   \n",
       "4             NaN  11.651          $3.029      $35.29  21.0   244.4    \n",
       "...           ...     ...             ...         ...   ...      ...   \n",
       "1174865  118,237   13.046          $1.999      $26.08  25.7      NaN   \n",
       "1174866  141,761   12.637          $2.449      $30.95  20.0      NaN   \n",
       "1174867   65,029   10.002          $3.449      $34.50  28.5      NaN   \n",
       "1174868   15,255   10.493          $3.539      $37.13  36.5      NaN   \n",
       "1174869  204,774   17.350          $3.199      $55.50   0.0      NaN   \n",
       "\n",
       "                                                  user_url  \n",
       "0        https://www.somewebsite.com/suzuki/swift/2015/...  \n",
       "1           https://www.somewebsite.com/bmw/x3/2009/461150  \n",
       "2        https://www.somewebsite.com/mercedes-benz/e300...  \n",
       "3         https://www.somewebsite.com/bmw/320d/2010/247233  \n",
       "4        https://www.somewebsite.com/honda/passport/201...  \n",
       "...                                                    ...  \n",
       "1174865  https://www.somewebsite.com/volkswagen/beetle/...  \n",
       "1174866  https://www.somewebsite.com/toyota/avalon/2000...  \n",
       "1174867   https://www.somewebsite.com/fiat/500/2013/909694  \n",
       "1174868  https://www.somewebsite.com/mini/cooper/2019/9...  \n",
       "1174869  https://www.somewebsite.com/lexus/lx470/2001/8...  \n",
       "\n",
       "[1174870 rows x 9 columns]"
      ]
     },
     "execution_count": 151,
     "metadata": {},
     "output_type": "execute_result"
    }
   ],
   "source": [
    "dataset = pd.read_csv(\"logbook_assignment1.csv\")\n",
    "dataset.info()\n",
    "dataset"
   ]
  },
  {
   "cell_type": "markdown",
   "id": "6a7cbc45",
   "metadata": {},
   "source": [
    "<h1>Helper Functions</h1>"
   ]
  },
  {
   "cell_type": "code",
   "execution_count": null,
   "id": "84d7904a",
   "metadata": {},
   "outputs": [],
   "source": []
  },
  {
   "cell_type": "markdown",
   "id": "0d6d9f1a",
   "metadata": {},
   "source": [
    "<h1>Data Cleaning</h1>"
   ]
  },
  {
   "cell_type": "markdown",
   "id": "beed827a",
   "metadata": {},
   "source": [
    "<h2>1.date_fueled</h2>"
   ]
  },
  {
   "cell_type": "code",
   "execution_count": 152,
   "id": "6c9a9d2a",
   "metadata": {},
   "outputs": [],
   "source": [
    "dataset[\"date_fueled\"] = dataset[\"date_fueled\"].str.replace(\" \",\"-\")\n",
    "dataset[\"date_fueled\"] = dataset[\"date_fueled\"].str.replace(\"Jan\",\"01\")\n",
    "dataset[\"date_fueled\"] = dataset[\"date_fueled\"].str.replace(\"Feb\",\"02\")\n",
    "dataset[\"date_fueled\"] = dataset[\"date_fueled\"].str.replace(\"Mar\",\"03\")\n",
    "dataset[\"date_fueled\"] = dataset[\"date_fueled\"].str.replace(\"Apr\",\"04\")\n",
    "dataset[\"date_fueled\"] = dataset[\"date_fueled\"].str.replace(\"May\",\"05\")\n",
    "dataset[\"date_fueled\"] = dataset[\"date_fueled\"].str.replace(\"Jun\",\"06\")\n",
    "dataset[\"date_fueled\"] = dataset[\"date_fueled\"].str.replace(\"Jul\",\"07\")\n",
    "dataset[\"date_fueled\"] = dataset[\"date_fueled\"].str.replace(\"Aug\",\"08\")\n",
    "dataset[\"date_fueled\"] = dataset[\"date_fueled\"].str.replace(\"Sep\",\"09\")\n",
    "dataset[\"date_fueled\"] = dataset[\"date_fueled\"].str.replace(\"Oct\",\"10\")\n",
    "dataset[\"date_fueled\"] = dataset[\"date_fueled\"].str.replace(\"Nov\",\"11\")\n",
    "dataset[\"date_fueled\"] = dataset[\"date_fueled\"].str.replace(\"Dec\",\"12\")\n",
    "dataset[\"date_fueled\"] = pd.to_datetime(dataset[\"date_fueled\"],format='%m-%d-%Y',errors='coerce')"
   ]
  },
  {
   "cell_type": "code",
   "execution_count": 153,
   "id": "7a7bff26",
   "metadata": {},
   "outputs": [
    {
     "name": "stdout",
     "output_type": "stream",
     "text": [
      "The date_fueled entries that were in the future or that are earlier than 2005:\n"
     ]
    },
    {
     "data": {
      "text/plain": [
       "6953      2001-05-24\n",
       "7568      1997-09-29\n",
       "10812     2003-09-22\n",
       "14771     2002-08-21\n",
       "16159     1997-08-15\n",
       "             ...    \n",
       "1170218   2002-02-21\n",
       "1170962   2000-03-12\n",
       "1171685   2002-02-21\n",
       "1172630   2001-05-06\n",
       "1173873   2003-03-07\n",
       "Name: date_fueled, Length: 688, dtype: datetime64[ns]"
      ]
     },
     "metadata": {},
     "output_type": "display_data"
    },
    {
     "name": "stderr",
     "output_type": "stream",
     "text": [
      "<ipython-input-153-073270bfe6d9>:11: FutureWarning: Comparison of NaT with datetime.date is deprecated in order to match the standard library behavior.  In a future version these will be considered non-comparable.\n",
      "  idx2 = np.where(pd.DatetimeIndex(dataset['date_fueled']).date >= today)\n"
     ]
    },
    {
     "data": {
      "text/plain": [
       "63905     2027-11-17\n",
       "149865    2025-04-20\n",
       "272941    2025-08-09\n",
       "317064    2030-07-10\n",
       "439193    2027-10-10\n",
       "503983    2024-12-10\n",
       "517188    2023-01-02\n",
       "554936    2028-06-07\n",
       "631252    2028-05-09\n",
       "640350    2024-11-10\n",
       "772677    2022-05-10\n",
       "789614    2025-04-19\n",
       "813760    2028-08-10\n",
       "819005    2023-01-26\n",
       "866309    2024-04-20\n",
       "877449    2029-12-09\n",
       "879772    2022-12-01\n",
       "911075    2030-04-07\n",
       "932935    2028-09-09\n",
       "938007    2024-12-07\n",
       "1001628   2029-03-10\n",
       "1029376   2030-04-09\n",
       "1086018   2030-11-08\n",
       "1092503   2022-06-15\n",
       "1100247   2022-12-26\n",
       "1162369   2023-03-08\n",
       "Name: date_fueled, dtype: datetime64[ns]"
      ]
     },
     "metadata": {},
     "output_type": "display_data"
    },
    {
     "name": "stdout",
     "output_type": "stream",
     "text": [
      "Entries that were in the future or that are earlier than 2005 constitute  0.06077268123281725 % of the dataset\n"
     ]
    }
   ],
   "source": [
    "today = date.today()\n",
    "\n",
    "print(\"The date_fueled entries that were in the future or that are earlier than 2005:\")\n",
    "\n",
    "\n",
    "#Years below 2005\n",
    "idx = np.where(pd.DatetimeIndex(dataset['date_fueled']).year <= 2005)\n",
    "display(dataset[\"date_fueled\"].iloc[idx])\n",
    "\n",
    "#Future dates\n",
    "idx2 = np.where(pd.DatetimeIndex(dataset['date_fueled']).date >= today)\n",
    "display(dataset[\"date_fueled\"].iloc[idx2])\n",
    "\n",
    "print(\"Entries that were in the future or that are earlier than 2005 constitute \",((len(idx[0])+len(idx2[0]))/dataset.shape[0])*100,\"% of the dataset\")\n",
    "\n",
    "dataset.drop(idx[0], axis=0, inplace=True)\n",
    "dataset.drop(idx2[0], axis=0, inplace=True)\n",
    "\n"
   ]
  },
  {
   "cell_type": "code",
   "execution_count": 154,
   "id": "f72c9ad7",
   "metadata": {},
   "outputs": [
    {
     "data": {
      "text/plain": [
       "Series([], Name: date_fueled, dtype: datetime64[ns])"
      ]
     },
     "metadata": {},
     "output_type": "display_data"
    },
    {
     "name": "stderr",
     "output_type": "stream",
     "text": [
      "<ipython-input-154-16ce151a2330>:6: FutureWarning: Comparison of NaT with datetime.date is deprecated in order to match the standard library behavior.  In a future version these will be considered non-comparable.\n",
      "  idx2 = np.where(pd.DatetimeIndex(dataset['date_fueled']).date >= today)\n"
     ]
    },
    {
     "data": {
      "text/plain": [
       "Series([], Name: date_fueled, dtype: datetime64[ns])"
      ]
     },
     "metadata": {},
     "output_type": "display_data"
    },
    {
     "name": "stdout",
     "output_type": "stream",
     "text": [
      "Entries that were in the future or that are earlier than 2005 have been removed\n"
     ]
    }
   ],
   "source": [
    "#Years below 2005\n",
    "idx = np.where(pd.DatetimeIndex(dataset['date_fueled']).year <= 2005)\n",
    "display(dataset[\"date_fueled\"].iloc[idx])\n",
    "\n",
    "#Future dates\n",
    "idx2 = np.where(pd.DatetimeIndex(dataset['date_fueled']).date >= today)\n",
    "display(dataset[\"date_fueled\"].iloc[idx2])\n",
    "\n",
    "print('Entries that were in the future or that are earlier than 2005 have been removed')"
   ]
  },
  {
   "cell_type": "code",
   "execution_count": 155,
   "id": "ad24af36",
   "metadata": {},
   "outputs": [
    {
     "name": "stdout",
     "output_type": "stream",
     "text": [
      "The unique value count for the date_fueled column is given by:\n"
     ]
    },
    {
     "data": {
      "text/plain": [
       "NaT           137209\n",
       "2022-04-09      2375\n",
       "2022-04-08      2283\n",
       "2022-04-10      2165\n",
       "2022-04-01      2029\n",
       "               ...  \n",
       "2006-03-14         1\n",
       "2007-03-21         1\n",
       "2006-12-27         1\n",
       "2008-07-31         1\n",
       "2007-05-28         1\n",
       "Name: date_fueled, Length: 5530, dtype: int64"
      ]
     },
     "metadata": {},
     "output_type": "display_data"
    },
    {
     "name": "stdout",
     "output_type": "stream",
     "text": [
      "\n",
      "\n",
      "The number of invalid dates =  137209\n",
      "The percentage of invalid dates =  11.685755555479851 %\n"
     ]
    }
   ],
   "source": [
    "print(\"The unique value count for the date_fueled column is given by:\")\n",
    "unique_values = dataset[\"date_fueled\"].isnull()\n",
    "\n",
    "unique_values_count = dataset[\"date_fueled\"].value_counts(dropna=False)\n",
    "display(unique_values_count)\n",
    "u_count = len(np.where(unique_values == True)[0])\n",
    "print(\"\\n\")\n",
    "print(\"The number of invalid dates = \",u_count)\n",
    "print(\"The percentage of invalid dates = \",(u_count/dataset.shape[0])*100,\"%\")"
   ]
  },
  {
   "cell_type": "code",
   "execution_count": 156,
   "id": "63931fec",
   "metadata": {},
   "outputs": [
    {
     "name": "stdout",
     "output_type": "stream",
     "text": [
      "The unique value count by year for the date_fueled column is given by:\n"
     ]
    },
    {
     "data": {
      "text/plain": [
       "<AxesSubplot:title={'center':'Unique value count by year for the date_fueled'}, ylabel='Year'>"
      ]
     },
     "execution_count": 156,
     "metadata": {},
     "output_type": "execute_result"
    },
    {
     "data": {
      "image/png": "[encoded data removed]",
      "text/plain": [
       "<Figure size 720x720 with 1 Axes>"
      ]
     },
     "metadata": {},
     "output_type": "display_data"
    }
   ],
   "source": [
    "print(\"The unique value count by year for the date_fueled column is given by:\")\n",
    "year = pd.DatetimeIndex(dataset['date_fueled']).year.value_counts()\n",
    "year.plot.barh(figsize=(10,10) , title='Unique value count by year for the date_fueled', ylabel='Year')"
   ]
  },
  {
   "cell_type": "code",
   "execution_count": 157,
   "id": "8abe9704",
   "metadata": {},
   "outputs": [
    {
     "name": "stdout",
     "output_type": "stream",
     "text": [
      "The unique value count by month for the date_fueled column is given by:\n"
     ]
    },
    {
     "data": {
      "text/plain": [
       "<AxesSubplot:title={'center':'Unique value count by month'}, ylabel='Month'>"
      ]
     },
     "execution_count": 157,
     "metadata": {},
     "output_type": "execute_result"
    },
    {
     "data": {
      "image/png": "[encoded data removed]",
      "text/plain": [
       "<Figure size 720x720 with 1 Axes>"
      ]
     },
     "metadata": {},
     "output_type": "display_data"
    }
   ],
   "source": [
    "print(\"The unique value count by month for the date_fueled column is given by:\")\n",
    "year = pd.DatetimeIndex(dataset['date_fueled']).month.value_counts()\n",
    "year.plot.barh(figsize=(10,10), title='Unique value count by month', ylabel='Month')"
   ]
  },
  {
   "cell_type": "code",
   "execution_count": 158,
   "id": "ee5cbd16",
   "metadata": {},
   "outputs": [
    {
     "name": "stdout",
     "output_type": "stream",
     "text": [
      "The unique value count by day for the date_fueled column is given by:\n"
     ]
    },
    {
     "data": {
      "text/plain": [
       "<AxesSubplot:title={'center':'Unique value count by day'}, ylabel='Day'>"
      ]
     },
     "execution_count": 158,
     "metadata": {},
     "output_type": "execute_result"
    },
    {
     "data": {
      "image/png": "[encoded data removed]",
      "text/plain": [
       "<Figure size 720x720 with 1 Axes>"
      ]
     },
     "metadata": {},
     "output_type": "display_data"
    }
   ],
   "source": [
    "print(\"The unique value count by day for the date_fueled column is given by:\")\n",
    "days = dataset[\"date_fueled\"].dt.day_name()\n",
    "days.value_counts().plot.barh(figsize=(10,10),title='Unique value count by day',ylabel='Day')"
   ]
  },
  {
   "cell_type": "markdown",
   "id": "b305e231",
   "metadata": {},
   "source": [
    "<h3>Conclusion</h3>"
   ]
  },
  {
   "cell_type": "markdown",
   "id": "bed03787",
   "metadata": {},
   "source": [
    "<p>After completing the necessary processing, we obtain the following information:/p>\n",
    "\n",
    "<ul>\n",
    "    <li>The invalid dates constitute 11.685765507961046% of the dataset</li>\n",
    "    <li>Entries that were in the future or that are earlier than 2005 constitute  0.06085779703286321 % of the dataset</li>\n",
    "    <li> As the years progress more users refuel their vehicles with 2021 being the year with the most users refueling their vehicles. This indicates as the years progress more individuals have been purchasing vehicles.</li>\n",
    "    <li> The month of March(i.e 3.0) is the month in which most users were refueling their vehicles.</li>\n",
    "    <li> Most users refueled their vehicles on a Friday and Saturday. This could be due to the fact that most individual travel from Friday and Saturday</li>\n",
    "</ul>"
   ]
  },
  {
   "cell_type": "markdown",
   "id": "85f1837c",
   "metadata": {},
   "source": [
    "<h2>2.Date_captured</h2>"
   ]
  },
  {
   "cell_type": "code",
   "execution_count": 159,
   "id": "b88276e9",
   "metadata": {},
   "outputs": [
    {
     "data": {
      "text/plain": [
       "0         2022-04-07\n",
       "1         2016-08-30\n",
       "2         2012-09-28\n",
       "3         2019-05-04\n",
       "4         2022-02-15\n",
       "             ...    \n",
       "1174865   2020-02-19\n",
       "1174866   2019-12-06\n",
       "1174867   2021-10-04\n",
       "1174868   2021-07-26\n",
       "1174869   2019-03-12\n",
       "Name: date_captured, Length: 1174156, dtype: datetime64[ns]"
      ]
     },
     "execution_count": 159,
     "metadata": {},
     "output_type": "execute_result"
    }
   ],
   "source": [
    "dataset[\"date_captured\"] = dataset[\"date_captured\"].str.replace(\" \",\"-\")\n",
    "dataset[\"date_captured\"] = dataset[\"date_captured\"].str.replace(\"Jan\",\"01\")\n",
    "dataset[\"date_captured\"] = dataset[\"date_captured\"].str.replace(\"Feb\",\"02\")\n",
    "dataset[\"date_captured\"] = dataset[\"date_captured\"].str.replace(\"Mar\",\"03\")\n",
    "dataset[\"date_captured\"] = dataset[\"date_captured\"].str.replace(\"Apr\",\"04\")\n",
    "dataset[\"date_captured\"] = dataset[\"date_captured\"].str.replace(\"May\",\"05\")\n",
    "dataset[\"date_captured\"] = dataset[\"date_captured\"].str.replace(\"Jun\",\"06\")\n",
    "dataset[\"date_captured\"] = dataset[\"date_captured\"].str.replace(\"Jul\",\"07\")\n",
    "dataset[\"date_captured\"] = dataset[\"date_captured\"].str.replace(\"Aug\",\"08\")\n",
    "dataset[\"date_captured\"] = dataset[\"date_captured\"].str.replace(\"Sep\",\"09\")\n",
    "dataset[\"date_captured\"] = dataset[\"date_captured\"].str.replace(\"Oct\",\"10\")\n",
    "dataset[\"date_captured\"] = dataset[\"date_captured\"].str.replace(\"Nov\",\"11\")\n",
    "dataset[\"date_captured\"] = dataset[\"date_captured\"].str.replace(\"Dec\",\"12\")\n",
    "dataset[\"date_captured\"] = pd.to_datetime(dataset[\"date_captured\"],format='%m-%d-%Y',errors='coerce')\n",
    "dataset[\"date_captured\"]\n"
   ]
  },
  {
   "cell_type": "code",
   "execution_count": 160,
   "id": "203a5669",
   "metadata": {},
   "outputs": [
    {
     "name": "stdout",
     "output_type": "stream",
     "text": [
      "The date_captured entries that were in the future or that are earlier than 2005:\n"
     ]
    },
    {
     "data": {
      "text/plain": [
       "Series([], Name: date_captured, dtype: datetime64[ns])"
      ]
     },
     "metadata": {},
     "output_type": "display_data"
    },
    {
     "data": {
      "text/plain": [
       "Series([], Name: date_captured, dtype: datetime64[ns])"
      ]
     },
     "metadata": {},
     "output_type": "display_data"
    },
    {
     "name": "stdout",
     "output_type": "stream",
     "text": [
      "Entries that were in the future or that are earlier than 2005 constitute  0.0 % of the dataset\n"
     ]
    }
   ],
   "source": [
    "today = date.today()\n",
    "\n",
    "print(\"The date_captured entries that were in the future or that are earlier than 2005:\")\n",
    "\n",
    "\n",
    "#Years below 2005\n",
    "idx = np.where(pd.DatetimeIndex(dataset['date_captured']).year <= 2005)\n",
    "display(dataset[\"date_captured\"].iloc[idx])\n",
    "\n",
    "#Future dates\n",
    "idx2 = np.where(pd.DatetimeIndex(dataset['date_captured']).date >= today)\n",
    "display(dataset[\"date_captured\"].iloc[idx2])\n",
    "\n",
    "print(\"Entries that were in the future or that are earlier than 2005 constitute \",((len(idx[0])+len(idx2[0]))/dataset.shape[0])*100,\"% of the dataset\")\n",
    "\n",
    "dataset.drop(idx[0], axis=0, inplace=True)\n",
    "dataset.drop(idx2[0], axis=0, inplace=True)"
   ]
  },
  {
   "cell_type": "code",
   "execution_count": 161,
   "id": "7a65a2ad",
   "metadata": {},
   "outputs": [
    {
     "name": "stdout",
     "output_type": "stream",
     "text": [
      "The unique value count for the date_captured column is given by:\n"
     ]
    },
    {
     "data": {
      "text/plain": [
       "2016-08-31    4346\n",
       "2017-03-06    3363\n",
       "2016-09-01    3311\n",
       "2022-04-09    2888\n",
       "2022-04-10    2737\n",
       "              ... \n",
       "2008-11-15       1\n",
       "2009-08-13       1\n",
       "2008-08-17       1\n",
       "2008-10-18       1\n",
       "2008-12-26       1\n",
       "Name: date_captured, Length: 4999, dtype: int64"
      ]
     },
     "metadata": {},
     "output_type": "display_data"
    },
    {
     "name": "stdout",
     "output_type": "stream",
     "text": [
      "\n",
      "\n",
      "The number of invalid dates =  0\n",
      "The percentage of invalid dates =  0.0 %\n"
     ]
    }
   ],
   "source": [
    "print(\"The unique value count for the date_captured column is given by:\")\n",
    "unique_values = dataset[\"date_captured\"].isnull()\n",
    "display(dataset[\"date_captured\"].value_counts(dropna=False))\n",
    "u_count = len(np.where(unique_values == True)[0])\n",
    "\n",
    "print(\"\\n\")\n",
    "print(\"The number of invalid dates = \",u_count)\n",
    "print(\"The percentage of invalid dates = \",(u_count/dataset.shape[0])*100,\"%\")"
   ]
  },
  {
   "cell_type": "code",
   "execution_count": 162,
   "id": "8a85066f",
   "metadata": {},
   "outputs": [
    {
     "name": "stdout",
     "output_type": "stream",
     "text": [
      "The unique value count by year for the date_captured column is given by:\n"
     ]
    },
    {
     "data": {
      "text/plain": [
       "<AxesSubplot:title={'center':'Unique value count by year for the date_captured'}, ylabel='Year'>"
      ]
     },
     "execution_count": 162,
     "metadata": {},
     "output_type": "execute_result"
    },
    {
     "data": {
      "image/png": "[encoded data removed]",
      "text/plain": [
       "<Figure size 720x720 with 1 Axes>"
      ]
     },
     "metadata": {},
     "output_type": "display_data"
    }
   ],
   "source": [
    "print(\"The unique value count by year for the date_captured column is given by:\")\n",
    "year = pd.DatetimeIndex(dataset['date_captured']).year.value_counts()\n",
    "year.plot.barh(figsize=(10,10) , title='Unique value count by year for the date_captured', ylabel='Year')"
   ]
  },
  {
   "cell_type": "code",
   "execution_count": 163,
   "id": "83df5d7c",
   "metadata": {},
   "outputs": [
    {
     "name": "stdout",
     "output_type": "stream",
     "text": [
      "The unique value count by month for the date_captured column is given by:\n"
     ]
    },
    {
     "data": {
      "text/plain": [
       "<AxesSubplot:title={'center':'Unique value count by month'}, ylabel='Month'>"
      ]
     },
     "execution_count": 163,
     "metadata": {},
     "output_type": "execute_result"
    },
    {
     "data": {
      "image/png": "[encoded data removed]",
      "text/plain": [
       "<Figure size 720x720 with 1 Axes>"
      ]
     },
     "metadata": {},
     "output_type": "display_data"
    }
   ],
   "source": [
    "print(\"The unique value count by month for the date_captured column is given by:\")\n",
    "month = pd.DatetimeIndex(dataset['date_captured']).month.value_counts()\n",
    "month.plot.barh(figsize=(10,10), title='Unique value count by month', ylabel='Month')"
   ]
  },
  {
   "cell_type": "code",
   "execution_count": 164,
   "id": "4823fdf0",
   "metadata": {},
   "outputs": [
    {
     "name": "stdout",
     "output_type": "stream",
     "text": [
      "The unique value count by day for the date_captured column is given by:\n"
     ]
    },
    {
     "data": {
      "text/plain": [
       "<AxesSubplot:title={'center':'Unique value count by day'}, ylabel='Day'>"
      ]
     },
     "execution_count": 164,
     "metadata": {},
     "output_type": "execute_result"
    },
    {
     "data": {
      "image/png": "[encoded data removed]",
      "text/plain": [
       "<Figure size 720x720 with 1 Axes>"
      ]
     },
     "metadata": {},
     "output_type": "display_data"
    }
   ],
   "source": [
    "print(\"The unique value count by day for the date_captured column is given by:\")\n",
    "days = dataset[\"date_captured\"].dt.day_name()\n",
    "days.value_counts().plot.barh(figsize=(10,10),title='Unique value count by day',ylabel='Day')"
   ]
  },
  {
   "cell_type": "markdown",
   "id": "52bc2572",
   "metadata": {},
   "source": [
    "<h3>Conclusion</h3>"
   ]
  },
  {
   "cell_type": "code",
   "execution_count": null,
   "id": "63c790d2",
   "metadata": {},
   "outputs": [],
   "source": []
  },
  {
   "cell_type": "markdown",
   "id": "0aa3f12b",
   "metadata": {},
   "source": [
    "<h2>3.Odometer</h2>"
   ]
  },
  {
   "cell_type": "code",
   "execution_count": 165,
   "id": "f733b25b",
   "metadata": {},
   "outputs": [
    {
     "data": {
      "text/plain": [
       "0           73370 \n",
       "1           11983 \n",
       "2           98233 \n",
       "3          163802 \n",
       "4              NaN\n",
       "            ...   \n",
       "1174865    118237 \n",
       "1174866    141761 \n",
       "1174867     65029 \n",
       "1174868     15255 \n",
       "1174869    204774 \n",
       "Name: odometer, Length: 1174156, dtype: object"
      ]
     },
     "execution_count": 165,
     "metadata": {},
     "output_type": "execute_result"
    }
   ],
   "source": [
    "#Remove the delimiter\n",
    "dataset[\"odometer\"] = dataset[\"odometer\"].str.replace(\",\",\"\")\n",
    "dataset[\"odometer\"]"
   ]
  },
  {
   "cell_type": "code",
   "execution_count": 166,
   "id": "94e7ca24",
   "metadata": {},
   "outputs": [
    {
     "data": {
      "text/plain": [
       "0           73370.0\n",
       "1           11983.0\n",
       "2           98233.0\n",
       "3          163802.0\n",
       "4               NaN\n",
       "             ...   \n",
       "1174865    118237.0\n",
       "1174866    141761.0\n",
       "1174867     65029.0\n",
       "1174868     15255.0\n",
       "1174869    204774.0\n",
       "Name: odometer, Length: 1174156, dtype: float64"
      ]
     },
     "execution_count": 166,
     "metadata": {},
     "output_type": "execute_result"
    }
   ],
   "source": [
    "#Convert to appropriate dtype(i.e float64)\n",
    "dataset[\"odometer\"] = pd.to_numeric(dataset['odometer'],errors = 'coerce')\n",
    "dataset[\"odometer\"]"
   ]
  },
  {
   "cell_type": "code",
   "execution_count": 167,
   "id": "5a21662a",
   "metadata": {},
   "outputs": [
    {
     "name": "stdout",
     "output_type": "stream",
     "text": [
      "The odometer column consist of  149004  missing values which constitute  12.69030690981437 % of the odometer column\n"
     ]
    }
   ],
   "source": [
    "#Assess number of missing values\n",
    "NaN_count = dataset[\"odometer\"].isna().sum()\n",
    "print(\"The odometer column consist of \",NaN_count,\" missing values which constitute \",(NaN_count/dataset['odometer'].shape[0])*100,\"% of the odometer column\")"
   ]
  },
  {
   "cell_type": "code",
   "execution_count": 168,
   "id": "d13741fd",
   "metadata": {},
   "outputs": [
    {
     "data": {
      "text/plain": [
       "count    1.025152e+06\n",
       "mean     1.040020e+05\n",
       "std      3.406155e+05\n",
       "min      0.000000e+00\n",
       "25%      4.592400e+04\n",
       "50%      9.188700e+04\n",
       "75%      1.469260e+05\n",
       "max      2.543621e+08\n",
       "Name: odometer, dtype: float64"
      ]
     },
     "metadata": {},
     "output_type": "display_data"
    }
   ],
   "source": [
    "#Provide Statistical Summary of odometer column\n",
    "display(dataset[\"odometer\"].describe())"
   ]
  },
  {
   "cell_type": "markdown",
   "id": "20261926",
   "metadata": {},
   "source": [
    "<h2>4.Gallons</h2>"
   ]
  },
  {
   "cell_type": "code",
   "execution_count": 169,
   "id": "a99e924d",
   "metadata": {},
   "outputs": [
    {
     "data": {
      "text/plain": [
       "0             NaN\n",
       "1          12.120\n",
       "2           7.991\n",
       "3          10.575\n",
       "4          11.651\n",
       "            ...  \n",
       "1174865    13.046\n",
       "1174866    12.637\n",
       "1174867    10.002\n",
       "1174868    10.493\n",
       "1174869    17.350\n",
       "Name: gallons, Length: 1174156, dtype: object"
      ]
     },
     "execution_count": 169,
     "metadata": {},
     "output_type": "execute_result"
    }
   ],
   "source": [
    "#Remove the delimiter\n",
    "dataset[\"gallons\"] = dataset[\"gallons\"].str.replace(\",\",\"\")\n",
    "dataset[\"gallons\"]"
   ]
  },
  {
   "cell_type": "code",
   "execution_count": 170,
   "id": "e6175d69",
   "metadata": {},
   "outputs": [
    {
     "data": {
      "text/plain": [
       "0             NaN\n",
       "1          12.120\n",
       "2           7.991\n",
       "3          10.575\n",
       "4          11.651\n",
       "            ...  \n",
       "1174865    13.046\n",
       "1174866    12.637\n",
       "1174867    10.002\n",
       "1174868    10.493\n",
       "1174869    17.350\n",
       "Name: gallons, Length: 1174156, dtype: float64"
      ]
     },
     "execution_count": 170,
     "metadata": {},
     "output_type": "execute_result"
    }
   ],
   "source": [
    "#Convert to appropriate dtype(i.e float64)\n",
    "dataset[\"gallons\"] = pd.to_numeric(dataset['gallons'],errors = 'coerce')\n",
    "dataset[\"gallons\"]"
   ]
  },
  {
   "cell_type": "code",
   "execution_count": null,
   "id": "29d49245",
   "metadata": {},
   "outputs": [],
   "source": []
  },
  {
   "cell_type": "code",
   "execution_count": 171,
   "id": "fe3285ab",
   "metadata": {},
   "outputs": [
    {
     "data": {
      "text/plain": [
       "count    1.038672e+06\n",
       "mean     1.282238e+01\n",
       "std      7.663733e+01\n",
       "min      0.000000e+00\n",
       "25%      8.991000e+00\n",
       "50%      1.195400e+01\n",
       "75%      1.493900e+01\n",
       "max      2.838000e+04\n",
       "Name: gallons, dtype: float64"
      ]
     },
     "metadata": {},
     "output_type": "display_data"
    }
   ],
   "source": [
    "#Provide Statistical Summary of odometer column\n",
    "display(dataset[\"gallons\"].describe())"
   ]
  },
  {
   "cell_type": "code",
   "execution_count": null,
   "id": "7a304e62",
   "metadata": {},
   "outputs": [],
   "source": []
  },
  {
   "cell_type": "markdown",
   "id": "64a7182c",
   "metadata": {},
   "source": [
    "<h2>5.Mile per gallon</h2>"
   ]
  },
  {
   "cell_type": "code",
   "execution_count": 172,
   "id": "e0d72e48",
   "metadata": {},
   "outputs": [
    {
     "data": {
      "text/plain": [
       "0           NaN\n",
       "1          31.6\n",
       "2          28.5\n",
       "3          46.8\n",
       "4          21.0\n",
       "           ... \n",
       "1174865     NaN\n",
       "1174866     NaN\n",
       "1174867     NaN\n",
       "1174868     NaN\n",
       "1174869     NaN\n",
       "Name: mpg, Length: 1174156, dtype: object"
      ]
     },
     "execution_count": 172,
     "metadata": {},
     "output_type": "execute_result"
    }
   ],
   "source": [
    "#Remove the delimiter\n",
    "dataset[\"mpg\"] = dataset[\"mpg\"].str.replace(\",\",\"\")\n",
    "dataset[\"mpg\"]"
   ]
  },
  {
   "cell_type": "code",
   "execution_count": 173,
   "id": "dc7540c1",
   "metadata": {},
   "outputs": [
    {
     "data": {
      "text/plain": [
       "0           NaN\n",
       "1          31.6\n",
       "2          28.5\n",
       "3          46.8\n",
       "4          21.0\n",
       "           ... \n",
       "1174865     NaN\n",
       "1174866     NaN\n",
       "1174867     NaN\n",
       "1174868     NaN\n",
       "1174869     NaN\n",
       "Name: mpg, Length: 1174156, dtype: float64"
      ]
     },
     "execution_count": 173,
     "metadata": {},
     "output_type": "execute_result"
    }
   ],
   "source": [
    "#Convert to appropriate dtype(i.e float64)\n",
    "dataset[\"mpg\"] = pd.to_numeric(dataset['mpg'],errors = 'coerce')\n",
    "dataset[\"mpg\"]"
   ]
  },
  {
   "cell_type": "markdown",
   "id": "6ea69d1d",
   "metadata": {},
   "source": [
    "<h2>6.Miles</h2>"
   ]
  },
  {
   "cell_type": "code",
   "execution_count": 175,
   "id": "52e577b9",
   "metadata": {},
   "outputs": [
    {
     "data": {
      "text/plain": [
       "0              NaN\n",
       "1              NaN\n",
       "2              NaN\n",
       "3              NaN\n",
       "4           244.4 \n",
       "            ...   \n",
       "1174865        NaN\n",
       "1174866        NaN\n",
       "1174867        NaN\n",
       "1174868        NaN\n",
       "1174869        NaN\n",
       "Name: miles, Length: 1174156, dtype: object"
      ]
     },
     "execution_count": 175,
     "metadata": {},
     "output_type": "execute_result"
    }
   ],
   "source": [
    "#Remove the delimiter\n",
    "dataset[\"miles\"] = dataset[\"miles\"].str.replace(\",\",\"\")\n",
    "dataset[\"miles\"]"
   ]
  },
  {
   "cell_type": "code",
   "execution_count": 176,
   "id": "a60a8e3f",
   "metadata": {},
   "outputs": [
    {
     "data": {
      "text/plain": [
       "0            NaN\n",
       "1            NaN\n",
       "2            NaN\n",
       "3            NaN\n",
       "4          244.4\n",
       "           ...  \n",
       "1174865      NaN\n",
       "1174866      NaN\n",
       "1174867      NaN\n",
       "1174868      NaN\n",
       "1174869      NaN\n",
       "Name: miles, Length: 1174156, dtype: float64"
      ]
     },
     "execution_count": 176,
     "metadata": {},
     "output_type": "execute_result"
    }
   ],
   "source": [
    "#Convert to appropriate dtype(i.e float64)\n",
    "dataset[\"miles\"] = pd.to_numeric(dataset['miles'],errors = 'coerce')\n",
    "dataset[\"miles\"]"
   ]
  },
  {
   "cell_type": "markdown",
   "id": "4255c08f",
   "metadata": {},
   "source": [
    "<h3>Before Adding Constructable Values</h3>"
   ]
  },
  {
   "cell_type": "code",
   "execution_count": 177,
   "id": "bdf900e9",
   "metadata": {},
   "outputs": [
    {
     "name": "stdout",
     "output_type": "stream",
     "text": [
      "The gallons column consist of  135484  missing values which constitute  11.538841516800153 % of the gallons column\n",
      "The mpg column consist of  990163  missing values which constitute  84.32976538040941 % of the mpg column\n",
      "The miles column consist of  1028031  missing values which constitute  87.55489049155308 % of the miles column\n"
     ]
    }
   ],
   "source": [
    "#Assess number of missing values\n",
    "NaN_count = dataset[\"gallons\"].isna().sum()\n",
    "print(\"The gallons column consist of \",NaN_count,\" missing values which constitute \",(NaN_count/dataset['gallons'].shape[0])*100,\"% of the gallons column\")\n",
    "#Assess number of missing values\n",
    "NaN_count = dataset[\"mpg\"].isna().sum()\n",
    "print(\"The mpg column consist of \",NaN_count,\" missing values which constitute \",(NaN_count/dataset['mpg'].shape[0])*100,\"% of the mpg column\")\n",
    "#Assess number of missing values\n",
    "NaN_count = dataset[\"miles\"].isna().sum()\n",
    "print(\"The miles column consist of \",NaN_count,\" missing values which constitute \",(NaN_count/dataset['miles'].shape[0])*100,\"% of the miles column\")"
   ]
  },
  {
   "cell_type": "markdown",
   "id": "f3b2e471",
   "metadata": {},
   "source": [
    "<h4>Plots</h4>"
   ]
  },
  {
   "cell_type": "code",
   "execution_count": 178,
   "id": "3c85a290",
   "metadata": {},
   "outputs": [
    {
     "data": {
      "text/plain": [
       "<AxesSubplot:>"
      ]
     },
     "execution_count": 178,
     "metadata": {},
     "output_type": "execute_result"
    },
    {
     "data": {
      "image/png": "[encoded data removed]",
      "text/plain": [
       "<Figure size 720x720 with 1 Axes>"
      ]
     },
     "metadata": {},
     "output_type": "display_data"
    }
   ],
   "source": [
    "#Boxplots\n",
    "dataset.plot.box(logy=True,figsize=(10,10))"
   ]
  },
  {
   "cell_type": "code",
   "execution_count": 179,
   "id": "2b94a474",
   "metadata": {},
   "outputs": [
    {
     "data": {
      "text/plain": [
       "<AxesSubplot:title={'center':'Histogram for odometer'}, ylabel='Frequency'>"
      ]
     },
     "execution_count": 179,
     "metadata": {},
     "output_type": "execute_result"
    },
    {
     "data": {
      "image/png": "[encoded data removed]",
      "text/plain": [
       "<Figure size 720x720 with 1 Axes>"
      ]
     },
     "metadata": {},
     "output_type": "display_data"
    }
   ],
   "source": [
    "#Assess Distribution\n",
    "dataset[\"odometer\"].plot.hist(logy=True,figsize=(10,10), title='Histogram for odometer',bins=100)\n"
   ]
  },
  {
   "cell_type": "code",
   "execution_count": 180,
   "id": "8a9a91a9",
   "metadata": {},
   "outputs": [
    {
     "data": {
      "text/plain": [
       "<AxesSubplot:title={'center':'Histogram for gallons'}, ylabel='Frequency'>"
      ]
     },
     "execution_count": 180,
     "metadata": {},
     "output_type": "execute_result"
    },
    {
     "data": {
      "image/png": "[encoded data removed]",
      "text/plain": [
       "<Figure size 720x720 with 1 Axes>"
      ]
     },
     "metadata": {},
     "output_type": "display_data"
    }
   ],
   "source": [
    "dataset[\"gallons\"].plot.hist(logy=True,figsize=(10,10), title='Histogram for gallons',bins=100,color='red')"
   ]
  },
  {
   "cell_type": "code",
   "execution_count": 181,
   "id": "483cb415",
   "metadata": {},
   "outputs": [
    {
     "data": {
      "text/plain": [
       "<AxesSubplot:title={'center':'Histogram for mpg'}, ylabel='Frequency'>"
      ]
     },
     "execution_count": 181,
     "metadata": {},
     "output_type": "execute_result"
    },
    {
     "data": {
      "image/png": "[encoded data removed]",
      "text/plain": [
       "<Figure size 720x720 with 1 Axes>"
      ]
     },
     "metadata": {},
     "output_type": "display_data"
    }
   ],
   "source": [
    "dataset[\"mpg\"].plot.hist(logy=True,figsize=(10,10), title='Histogram for mpg',bins=100,color='green')"
   ]
  },
  {
   "cell_type": "code",
   "execution_count": 182,
   "id": "f62a4a67",
   "metadata": {},
   "outputs": [
    {
     "data": {
      "text/plain": [
       "<AxesSubplot:title={'center':'Histogram for miles'}, ylabel='Frequency'>"
      ]
     },
     "execution_count": 182,
     "metadata": {},
     "output_type": "execute_result"
    },
    {
     "data": {
      "image/png": "[encoded data removed]",
      "text/plain": [
       "<Figure size 720x720 with 1 Axes>"
      ]
     },
     "metadata": {},
     "output_type": "display_data"
    }
   ],
   "source": [
    "dataset[\"miles\"].plot.hist(logy=True,figsize=(10,10), title='Histogram for miles',bins=100,color='orange')"
   ]
  },
  {
   "cell_type": "markdown",
   "id": "0a640659",
   "metadata": {},
   "source": [
    "<h4>Statistical description</h4>"
   ]
  },
  {
   "cell_type": "code",
   "execution_count": 183,
   "id": "7f70f965",
   "metadata": {},
   "outputs": [
    {
     "data": {
      "text/html": [
       "<div>\n",
       "<style scoped>\n",
       "    .dataframe tbody tr th:only-of-type {\n",
       "        vertical-align: middle;\n",
       "    }\n",
       "\n",
       "    .dataframe tbody tr th {\n",
       "        vertical-align: top;\n",
       "    }\n",
       "\n",
       "    .dataframe thead th {\n",
       "        text-align: right;\n",
       "    }\n",
       "</style>\n",
       "<table border=\"1\" class=\"dataframe\">\n",
       "  <thead>\n",
       "    <tr style=\"text-align: right;\">\n",
       "      <th></th>\n",
       "      <th>miles</th>\n",
       "      <th>gallons</th>\n",
       "      <th>mpg</th>\n",
       "    </tr>\n",
       "  </thead>\n",
       "  <tbody>\n",
       "    <tr>\n",
       "      <th>count</th>\n",
       "      <td>146125.000000</td>\n",
       "      <td>1.038672e+06</td>\n",
       "      <td>183993.000000</td>\n",
       "    </tr>\n",
       "    <tr>\n",
       "      <th>mean</th>\n",
       "      <td>342.644088</td>\n",
       "      <td>1.282238e+01</td>\n",
       "      <td>22.202054</td>\n",
       "    </tr>\n",
       "    <tr>\n",
       "      <th>std</th>\n",
       "      <td>1915.601601</td>\n",
       "      <td>7.663733e+01</td>\n",
       "      <td>16.297303</td>\n",
       "    </tr>\n",
       "    <tr>\n",
       "      <th>min</th>\n",
       "      <td>0.100000</td>\n",
       "      <td>0.000000e+00</td>\n",
       "      <td>0.000000</td>\n",
       "    </tr>\n",
       "    <tr>\n",
       "      <th>25%</th>\n",
       "      <td>225.500000</td>\n",
       "      <td>8.991000e+00</td>\n",
       "      <td>15.500000</td>\n",
       "    </tr>\n",
       "    <tr>\n",
       "      <th>50%</th>\n",
       "      <td>291.600000</td>\n",
       "      <td>1.195400e+01</td>\n",
       "      <td>21.800000</td>\n",
       "    </tr>\n",
       "    <tr>\n",
       "      <th>75%</th>\n",
       "      <td>367.000000</td>\n",
       "      <td>1.493900e+01</td>\n",
       "      <td>28.500000</td>\n",
       "    </tr>\n",
       "    <tr>\n",
       "      <th>max</th>\n",
       "      <td>195321.200000</td>\n",
       "      <td>2.838000e+04</td>\n",
       "      <td>1214.300000</td>\n",
       "    </tr>\n",
       "  </tbody>\n",
       "</table>\n",
       "</div>"
      ],
      "text/plain": [
       "               miles       gallons            mpg\n",
       "count  146125.000000  1.038672e+06  183993.000000\n",
       "mean      342.644088  1.282238e+01      22.202054\n",
       "std      1915.601601  7.663733e+01      16.297303\n",
       "min         0.100000  0.000000e+00       0.000000\n",
       "25%       225.500000  8.991000e+00      15.500000\n",
       "50%       291.600000  1.195400e+01      21.800000\n",
       "75%       367.000000  1.493900e+01      28.500000\n",
       "max    195321.200000  2.838000e+04    1214.300000"
      ]
     },
     "execution_count": 183,
     "metadata": {},
     "output_type": "execute_result"
    }
   ],
   "source": [
    "dataset[[\"miles\",'gallons','mpg']].describe()"
   ]
  },
  {
   "cell_type": "markdown",
   "id": "779de4a9",
   "metadata": {},
   "source": [
    "<h3>Adding Constructable Values</h3>"
   ]
  },
  {
   "cell_type": "code",
   "execution_count": 184,
   "id": "f3aeab79",
   "metadata": {},
   "outputs": [
    {
     "data": {
      "text/html": [
       "<div>\n",
       "<style scoped>\n",
       "    .dataframe tbody tr th:only-of-type {\n",
       "        vertical-align: middle;\n",
       "    }\n",
       "\n",
       "    .dataframe tbody tr th {\n",
       "        vertical-align: top;\n",
       "    }\n",
       "\n",
       "    .dataframe thead th {\n",
       "        text-align: right;\n",
       "    }\n",
       "</style>\n",
       "<table border=\"1\" class=\"dataframe\">\n",
       "  <thead>\n",
       "    <tr style=\"text-align: right;\">\n",
       "      <th></th>\n",
       "      <th>miles</th>\n",
       "      <th>gallons</th>\n",
       "      <th>mpg</th>\n",
       "    </tr>\n",
       "  </thead>\n",
       "  <tbody>\n",
       "    <tr>\n",
       "      <th>1</th>\n",
       "      <td>NaN</td>\n",
       "      <td>12.120</td>\n",
       "      <td>31.6</td>\n",
       "    </tr>\n",
       "    <tr>\n",
       "      <th>2</th>\n",
       "      <td>NaN</td>\n",
       "      <td>7.991</td>\n",
       "      <td>28.5</td>\n",
       "    </tr>\n",
       "    <tr>\n",
       "      <th>3</th>\n",
       "      <td>NaN</td>\n",
       "      <td>10.575</td>\n",
       "      <td>46.8</td>\n",
       "    </tr>\n",
       "    <tr>\n",
       "      <th>5</th>\n",
       "      <td>NaN</td>\n",
       "      <td>3.413</td>\n",
       "      <td>29.0</td>\n",
       "    </tr>\n",
       "    <tr>\n",
       "      <th>6</th>\n",
       "      <td>NaN</td>\n",
       "      <td>9.044</td>\n",
       "      <td>29.5</td>\n",
       "    </tr>\n",
       "    <tr>\n",
       "      <th>...</th>\n",
       "      <td>...</td>\n",
       "      <td>...</td>\n",
       "      <td>...</td>\n",
       "    </tr>\n",
       "    <tr>\n",
       "      <th>983033</th>\n",
       "      <td>NaN</td>\n",
       "      <td>12.593</td>\n",
       "      <td>33.3</td>\n",
       "    </tr>\n",
       "    <tr>\n",
       "      <th>983035</th>\n",
       "      <td>NaN</td>\n",
       "      <td>11.208</td>\n",
       "      <td>0.0</td>\n",
       "    </tr>\n",
       "    <tr>\n",
       "      <th>983036</th>\n",
       "      <td>NaN</td>\n",
       "      <td>13.118</td>\n",
       "      <td>0.0</td>\n",
       "    </tr>\n",
       "    <tr>\n",
       "      <th>983038</th>\n",
       "      <td>NaN</td>\n",
       "      <td>13.079</td>\n",
       "      <td>41.2</td>\n",
       "    </tr>\n",
       "    <tr>\n",
       "      <th>983039</th>\n",
       "      <td>NaN</td>\n",
       "      <td>13.032</td>\n",
       "      <td>18.3</td>\n",
       "    </tr>\n",
       "  </tbody>\n",
       "</table>\n",
       "<p>159806 rows × 3 columns</p>\n",
       "</div>"
      ],
      "text/plain": [
       "        miles  gallons   mpg\n",
       "1         NaN   12.120  31.6\n",
       "2         NaN    7.991  28.5\n",
       "3         NaN   10.575  46.8\n",
       "5         NaN    3.413  29.0\n",
       "6         NaN    9.044  29.5\n",
       "...       ...      ...   ...\n",
       "983033    NaN   12.593  33.3\n",
       "983035    NaN   11.208   0.0\n",
       "983036    NaN   13.118   0.0\n",
       "983038    NaN   13.079  41.2\n",
       "983039    NaN   13.032  18.3\n",
       "\n",
       "[159806 rows x 3 columns]"
      ]
     },
     "metadata": {},
     "output_type": "display_data"
    },
    {
     "name": "stderr",
     "output_type": "stream",
     "text": [
      "C:\\Users\\Mpendulo\\anaconda3\\lib\\site-packages\\pandas\\core\\indexing.py:1732: SettingWithCopyWarning: \n",
      "A value is trying to be set on a copy of a slice from a DataFrame\n",
      "\n",
      "See the caveats in the documentation: https://pandas.pydata.org/pandas-docs/stable/user_guide/indexing.html#returning-a-view-versus-a-copy\n",
      "  self._setitem_single_block(indexer, value, name)\n"
     ]
    },
    {
     "data": {
      "text/html": [
       "<div>\n",
       "<style scoped>\n",
       "    .dataframe tbody tr th:only-of-type {\n",
       "        vertical-align: middle;\n",
       "    }\n",
       "\n",
       "    .dataframe tbody tr th {\n",
       "        vertical-align: top;\n",
       "    }\n",
       "\n",
       "    .dataframe thead th {\n",
       "        text-align: right;\n",
       "    }\n",
       "</style>\n",
       "<table border=\"1\" class=\"dataframe\">\n",
       "  <thead>\n",
       "    <tr style=\"text-align: right;\">\n",
       "      <th></th>\n",
       "      <th>miles</th>\n",
       "      <th>gallons</th>\n",
       "      <th>mpg</th>\n",
       "    </tr>\n",
       "  </thead>\n",
       "  <tbody>\n",
       "    <tr>\n",
       "      <th>1</th>\n",
       "      <td>382.9920</td>\n",
       "      <td>12.120</td>\n",
       "      <td>31.6</td>\n",
       "    </tr>\n",
       "    <tr>\n",
       "      <th>2</th>\n",
       "      <td>227.7435</td>\n",
       "      <td>7.991</td>\n",
       "      <td>28.5</td>\n",
       "    </tr>\n",
       "    <tr>\n",
       "      <th>3</th>\n",
       "      <td>494.9100</td>\n",
       "      <td>10.575</td>\n",
       "      <td>46.8</td>\n",
       "    </tr>\n",
       "    <tr>\n",
       "      <th>5</th>\n",
       "      <td>98.9770</td>\n",
       "      <td>3.413</td>\n",
       "      <td>29.0</td>\n",
       "    </tr>\n",
       "    <tr>\n",
       "      <th>6</th>\n",
       "      <td>266.7980</td>\n",
       "      <td>9.044</td>\n",
       "      <td>29.5</td>\n",
       "    </tr>\n",
       "    <tr>\n",
       "      <th>...</th>\n",
       "      <td>...</td>\n",
       "      <td>...</td>\n",
       "      <td>...</td>\n",
       "    </tr>\n",
       "    <tr>\n",
       "      <th>983033</th>\n",
       "      <td>419.3469</td>\n",
       "      <td>12.593</td>\n",
       "      <td>33.3</td>\n",
       "    </tr>\n",
       "    <tr>\n",
       "      <th>983035</th>\n",
       "      <td>0.0000</td>\n",
       "      <td>11.208</td>\n",
       "      <td>0.0</td>\n",
       "    </tr>\n",
       "    <tr>\n",
       "      <th>983036</th>\n",
       "      <td>0.0000</td>\n",
       "      <td>13.118</td>\n",
       "      <td>0.0</td>\n",
       "    </tr>\n",
       "    <tr>\n",
       "      <th>983038</th>\n",
       "      <td>538.8548</td>\n",
       "      <td>13.079</td>\n",
       "      <td>41.2</td>\n",
       "    </tr>\n",
       "    <tr>\n",
       "      <th>983039</th>\n",
       "      <td>238.4856</td>\n",
       "      <td>13.032</td>\n",
       "      <td>18.3</td>\n",
       "    </tr>\n",
       "  </tbody>\n",
       "</table>\n",
       "<p>159806 rows × 3 columns</p>\n",
       "</div>"
      ],
      "text/plain": [
       "           miles  gallons   mpg\n",
       "1       382.9920   12.120  31.6\n",
       "2       227.7435    7.991  28.5\n",
       "3       494.9100   10.575  46.8\n",
       "5        98.9770    3.413  29.0\n",
       "6       266.7980    9.044  29.5\n",
       "...          ...      ...   ...\n",
       "983033  419.3469   12.593  33.3\n",
       "983035    0.0000   11.208   0.0\n",
       "983036    0.0000   13.118   0.0\n",
       "983038  538.8548   13.079  41.2\n",
       "983039  238.4856   13.032  18.3\n",
       "\n",
       "[159806 rows x 3 columns]"
      ]
     },
     "metadata": {},
     "output_type": "display_data"
    }
   ],
   "source": [
    "#Construct miles from gallons and mpg\n",
    "missing_idx = np.where((dataset[\"miles\"].isna() == True)&(dataset[\"gallons\"].isna() == False) & (dataset[\"mpg\"].isna() == False))\n",
    "display(dataset[['miles','gallons','mpg']].iloc[missing_idx])\n",
    "dataset[\"miles\"].iloc[missing_idx] = dataset[\"mpg\"].iloc[missing_idx] * dataset[\"gallons\"].iloc[missing_idx]\n",
    "display(dataset[['miles','gallons','mpg']].iloc[missing_idx])"
   ]
  },
  {
   "cell_type": "code",
   "execution_count": 185,
   "id": "c895c961",
   "metadata": {},
   "outputs": [
    {
     "data": {
      "text/html": [
       "<div>\n",
       "<style scoped>\n",
       "    .dataframe tbody tr th:only-of-type {\n",
       "        vertical-align: middle;\n",
       "    }\n",
       "\n",
       "    .dataframe tbody tr th {\n",
       "        vertical-align: top;\n",
       "    }\n",
       "\n",
       "    .dataframe thead th {\n",
       "        text-align: right;\n",
       "    }\n",
       "</style>\n",
       "<table border=\"1\" class=\"dataframe\">\n",
       "  <thead>\n",
       "    <tr style=\"text-align: right;\">\n",
       "      <th></th>\n",
       "      <th>gallons</th>\n",
       "      <th>miles</th>\n",
       "      <th>mpg</th>\n",
       "    </tr>\n",
       "  </thead>\n",
       "  <tbody>\n",
       "  </tbody>\n",
       "</table>\n",
       "</div>"
      ],
      "text/plain": [
       "Empty DataFrame\n",
       "Columns: [gallons, miles, mpg]\n",
       "Index: []"
      ]
     },
     "metadata": {},
     "output_type": "display_data"
    },
    {
     "name": "stderr",
     "output_type": "stream",
     "text": [
      "C:\\Users\\Mpendulo\\anaconda3\\lib\\site-packages\\pandas\\core\\indexing.py:1732: SettingWithCopyWarning: \n",
      "A value is trying to be set on a copy of a slice from a DataFrame\n",
      "\n",
      "See the caveats in the documentation: https://pandas.pydata.org/pandas-docs/stable/user_guide/indexing.html#returning-a-view-versus-a-copy\n",
      "  self._setitem_single_block(indexer, value, name)\n"
     ]
    },
    {
     "data": {
      "text/html": [
       "<div>\n",
       "<style scoped>\n",
       "    .dataframe tbody tr th:only-of-type {\n",
       "        vertical-align: middle;\n",
       "    }\n",
       "\n",
       "    .dataframe tbody tr th {\n",
       "        vertical-align: top;\n",
       "    }\n",
       "\n",
       "    .dataframe thead th {\n",
       "        text-align: right;\n",
       "    }\n",
       "</style>\n",
       "<table border=\"1\" class=\"dataframe\">\n",
       "  <thead>\n",
       "    <tr style=\"text-align: right;\">\n",
       "      <th></th>\n",
       "      <th>gallons</th>\n",
       "      <th>miles</th>\n",
       "      <th>mpg</th>\n",
       "    </tr>\n",
       "  </thead>\n",
       "  <tbody>\n",
       "  </tbody>\n",
       "</table>\n",
       "</div>"
      ],
      "text/plain": [
       "Empty DataFrame\n",
       "Columns: [gallons, miles, mpg]\n",
       "Index: []"
      ]
     },
     "metadata": {},
     "output_type": "display_data"
    }
   ],
   "source": [
    "#Construct gallons from miles and mpg\n",
    "missing_idx = np.where((dataset[\"gallons\"].isna() == True)&(dataset[\"miles\"].isna() == False) & (dataset[\"mpg\"].isna() == False))\n",
    "display(dataset[['gallons','miles','mpg']].iloc[missing_idx])\n",
    "dataset[\"gallons\"].iloc[missing_idx] = dataset[\"miles\"].iloc[missing_idx] / dataset[\"mpg\"].iloc[missing_idx]\n",
    "display(dataset[['gallons','miles','mpg']].iloc[missing_idx])"
   ]
  },
  {
   "cell_type": "code",
   "execution_count": 187,
   "id": "9fc9b559",
   "metadata": {},
   "outputs": [
    {
     "data": {
      "text/html": [
       "<div>\n",
       "<style scoped>\n",
       "    .dataframe tbody tr th:only-of-type {\n",
       "        vertical-align: middle;\n",
       "    }\n",
       "\n",
       "    .dataframe tbody tr th {\n",
       "        vertical-align: top;\n",
       "    }\n",
       "\n",
       "    .dataframe thead th {\n",
       "        text-align: right;\n",
       "    }\n",
       "</style>\n",
       "<table border=\"1\" class=\"dataframe\">\n",
       "  <thead>\n",
       "    <tr style=\"text-align: right;\">\n",
       "      <th></th>\n",
       "      <th>mpg</th>\n",
       "      <th>miles</th>\n",
       "      <th>gallons</th>\n",
       "    </tr>\n",
       "  </thead>\n",
       "  <tbody>\n",
       "    <tr>\n",
       "      <th>65536</th>\n",
       "      <td>NaN</td>\n",
       "      <td>219.6</td>\n",
       "      <td>9.095</td>\n",
       "    </tr>\n",
       "    <tr>\n",
       "      <th>65538</th>\n",
       "      <td>NaN</td>\n",
       "      <td>297.8</td>\n",
       "      <td>19.166</td>\n",
       "    </tr>\n",
       "    <tr>\n",
       "      <th>65552</th>\n",
       "      <td>NaN</td>\n",
       "      <td>397.9</td>\n",
       "      <td>15.107</td>\n",
       "    </tr>\n",
       "    <tr>\n",
       "      <th>65568</th>\n",
       "      <td>NaN</td>\n",
       "      <td>586.0</td>\n",
       "      <td>19.797</td>\n",
       "    </tr>\n",
       "    <tr>\n",
       "      <th>65573</th>\n",
       "      <td>NaN</td>\n",
       "      <td>212.2</td>\n",
       "      <td>9.395</td>\n",
       "    </tr>\n",
       "    <tr>\n",
       "      <th>...</th>\n",
       "      <td>...</td>\n",
       "      <td>...</td>\n",
       "      <td>...</td>\n",
       "    </tr>\n",
       "    <tr>\n",
       "      <th>1174836</th>\n",
       "      <td>NaN</td>\n",
       "      <td>491.0</td>\n",
       "      <td>23.825</td>\n",
       "    </tr>\n",
       "    <tr>\n",
       "      <th>1174839</th>\n",
       "      <td>NaN</td>\n",
       "      <td>364.9</td>\n",
       "      <td>26.712</td>\n",
       "    </tr>\n",
       "    <tr>\n",
       "      <th>1174840</th>\n",
       "      <td>NaN</td>\n",
       "      <td>127.0</td>\n",
       "      <td>6.459</td>\n",
       "    </tr>\n",
       "    <tr>\n",
       "      <th>1174851</th>\n",
       "      <td>NaN</td>\n",
       "      <td>262.0</td>\n",
       "      <td>14.857</td>\n",
       "    </tr>\n",
       "    <tr>\n",
       "      <th>1174863</th>\n",
       "      <td>NaN</td>\n",
       "      <td>240.1</td>\n",
       "      <td>10.300</td>\n",
       "    </tr>\n",
       "  </tbody>\n",
       "</table>\n",
       "<p>113638 rows × 3 columns</p>\n",
       "</div>"
      ],
      "text/plain": [
       "         mpg  miles  gallons\n",
       "65536    NaN  219.6    9.095\n",
       "65538    NaN  297.8   19.166\n",
       "65552    NaN  397.9   15.107\n",
       "65568    NaN  586.0   19.797\n",
       "65573    NaN  212.2    9.395\n",
       "...      ...    ...      ...\n",
       "1174836  NaN  491.0   23.825\n",
       "1174839  NaN  364.9   26.712\n",
       "1174840  NaN  127.0    6.459\n",
       "1174851  NaN  262.0   14.857\n",
       "1174863  NaN  240.1   10.300\n",
       "\n",
       "[113638 rows x 3 columns]"
      ]
     },
     "metadata": {},
     "output_type": "display_data"
    },
    {
     "name": "stderr",
     "output_type": "stream",
     "text": [
      "C:\\Users\\Mpendulo\\anaconda3\\lib\\site-packages\\pandas\\core\\indexing.py:1732: SettingWithCopyWarning: \n",
      "A value is trying to be set on a copy of a slice from a DataFrame\n",
      "\n",
      "See the caveats in the documentation: https://pandas.pydata.org/pandas-docs/stable/user_guide/indexing.html#returning-a-view-versus-a-copy\n",
      "  self._setitem_single_block(indexer, value, name)\n"
     ]
    },
    {
     "data": {
      "text/html": [
       "<div>\n",
       "<style scoped>\n",
       "    .dataframe tbody tr th:only-of-type {\n",
       "        vertical-align: middle;\n",
       "    }\n",
       "\n",
       "    .dataframe tbody tr th {\n",
       "        vertical-align: top;\n",
       "    }\n",
       "\n",
       "    .dataframe thead th {\n",
       "        text-align: right;\n",
       "    }\n",
       "</style>\n",
       "<table border=\"1\" class=\"dataframe\">\n",
       "  <thead>\n",
       "    <tr style=\"text-align: right;\">\n",
       "      <th></th>\n",
       "      <th>mpg</th>\n",
       "      <th>miles</th>\n",
       "      <th>gallons</th>\n",
       "    </tr>\n",
       "  </thead>\n",
       "  <tbody>\n",
       "    <tr>\n",
       "      <th>65536</th>\n",
       "      <td>24.145135</td>\n",
       "      <td>219.6</td>\n",
       "      <td>9.095</td>\n",
       "    </tr>\n",
       "    <tr>\n",
       "      <th>65538</th>\n",
       "      <td>15.537932</td>\n",
       "      <td>297.8</td>\n",
       "      <td>19.166</td>\n",
       "    </tr>\n",
       "    <tr>\n",
       "      <th>65552</th>\n",
       "      <td>26.338783</td>\n",
       "      <td>397.9</td>\n",
       "      <td>15.107</td>\n",
       "    </tr>\n",
       "    <tr>\n",
       "      <th>65568</th>\n",
       "      <td>29.600445</td>\n",
       "      <td>586.0</td>\n",
       "      <td>19.797</td>\n",
       "    </tr>\n",
       "    <tr>\n",
       "      <th>65573</th>\n",
       "      <td>22.586482</td>\n",
       "      <td>212.2</td>\n",
       "      <td>9.395</td>\n",
       "    </tr>\n",
       "    <tr>\n",
       "      <th>...</th>\n",
       "      <td>...</td>\n",
       "      <td>...</td>\n",
       "      <td>...</td>\n",
       "    </tr>\n",
       "    <tr>\n",
       "      <th>1174836</th>\n",
       "      <td>20.608604</td>\n",
       "      <td>491.0</td>\n",
       "      <td>23.825</td>\n",
       "    </tr>\n",
       "    <tr>\n",
       "      <th>1174839</th>\n",
       "      <td>13.660527</td>\n",
       "      <td>364.9</td>\n",
       "      <td>26.712</td>\n",
       "    </tr>\n",
       "    <tr>\n",
       "      <th>1174840</th>\n",
       "      <td>19.662486</td>\n",
       "      <td>127.0</td>\n",
       "      <td>6.459</td>\n",
       "    </tr>\n",
       "    <tr>\n",
       "      <th>1174851</th>\n",
       "      <td>17.634785</td>\n",
       "      <td>262.0</td>\n",
       "      <td>14.857</td>\n",
       "    </tr>\n",
       "    <tr>\n",
       "      <th>1174863</th>\n",
       "      <td>23.310680</td>\n",
       "      <td>240.1</td>\n",
       "      <td>10.300</td>\n",
       "    </tr>\n",
       "  </tbody>\n",
       "</table>\n",
       "<p>113638 rows × 3 columns</p>\n",
       "</div>"
      ],
      "text/plain": [
       "               mpg  miles  gallons\n",
       "65536    24.145135  219.6    9.095\n",
       "65538    15.537932  297.8   19.166\n",
       "65552    26.338783  397.9   15.107\n",
       "65568    29.600445  586.0   19.797\n",
       "65573    22.586482  212.2    9.395\n",
       "...            ...    ...      ...\n",
       "1174836  20.608604  491.0   23.825\n",
       "1174839  13.660527  364.9   26.712\n",
       "1174840  19.662486  127.0    6.459\n",
       "1174851  17.634785  262.0   14.857\n",
       "1174863  23.310680  240.1   10.300\n",
       "\n",
       "[113638 rows x 3 columns]"
      ]
     },
     "metadata": {},
     "output_type": "display_data"
    }
   ],
   "source": [
    "#Construct mpg from miles and gallons\n",
    "missing_idx = np.where((dataset[\"mpg\"].isna() == True)&(dataset[\"gallons\"].isna() == False)&(dataset[\"miles\"].isna() == False)&(dataset[\"gallons\"] != 0))\n",
    "display(dataset[['mpg','miles','gallons']].iloc[missing_idx])\n",
    "dataset[\"mpg\"].iloc[missing_idx] = dataset[\"miles\"].iloc[missing_idx] / dataset[\"gallons\"].iloc[missing_idx]\n",
    "display(dataset[['mpg','miles','gallons']].iloc[missing_idx])"
   ]
  },
  {
   "cell_type": "markdown",
   "id": "6c205d46",
   "metadata": {},
   "source": [
    "<h3>After Adding Constructable Values</h3>"
   ]
  },
  {
   "cell_type": "code",
   "execution_count": 188,
   "id": "57c64dac",
   "metadata": {},
   "outputs": [
    {
     "name": "stdout",
     "output_type": "stream",
     "text": [
      "The miles column consist of  868225  missing values which constitute  73.9446036131485 % of the miles column\n",
      "The mpg column consist of  876525  missing values which constitute  74.65149434998416 % of the mpg column\n",
      "The gallons column consist of  135484  missing values which constitute  11.538841516800153 % of the gallons column\n"
     ]
    }
   ],
   "source": [
    "NaN_count = dataset[\"miles\"].isna().sum()\n",
    "print(\"The miles column consist of \",NaN_count,\" missing values which constitute \",(NaN_count/dataset['miles'].shape[0])*100,\"% of the miles column\")\n",
    "\n",
    "NaN_count = dataset[\"mpg\"].isna().sum()\n",
    "print(\"The mpg column consist of \",NaN_count,\" missing values which constitute \",(NaN_count/dataset['mpg'].shape[0])*100,\"% of the mpg column\")\n",
    "\n",
    "NaN_count = dataset[\"gallons\"].isna().sum()\n",
    "print(\"The gallons column consist of \",NaN_count,\" missing values which constitute \",(NaN_count/dataset['gallons'].shape[0])*100,\"% of the gallons column\")"
   ]
  },
  {
   "cell_type": "markdown",
   "id": "b22367b1",
   "metadata": {},
   "source": [
    "<h4>Plots</h4>"
   ]
  },
  {
   "cell_type": "code",
   "execution_count": 189,
   "id": "b0f6071b",
   "metadata": {},
   "outputs": [
    {
     "data": {
      "text/plain": [
       "<AxesSubplot:>"
      ]
     },
     "execution_count": 189,
     "metadata": {},
     "output_type": "execute_result"
    },
    {
     "data": {
      "image/png": "[encoded data removed]",
      "text/plain": [
       "<Figure size 720x720 with 1 Axes>"
      ]
     },
     "metadata": {},
     "output_type": "display_data"
    }
   ],
   "source": [
    "dataset.plot.box(logy=True,figsize=(10,10))"
   ]
  },
  {
   "cell_type": "code",
   "execution_count": 190,
   "id": "b3402d37",
   "metadata": {},
   "outputs": [
    {
     "data": {
      "text/plain": [
       "<AxesSubplot:title={'center':'Histogram for gallons'}, ylabel='Frequency'>"
      ]
     },
     "execution_count": 190,
     "metadata": {},
     "output_type": "execute_result"
    },
    {
     "data": {
      "image/png": "[encoded data removed]",
      "text/plain": [
       "<Figure size 720x720 with 1 Axes>"
      ]
     },
     "metadata": {},
     "output_type": "display_data"
    }
   ],
   "source": [
    "dataset[\"gallons\"].plot.hist(logy=True,figsize=(10,10), title='Histogram for gallons',bins=100,color='red')"
   ]
  },
  {
   "cell_type": "code",
   "execution_count": 191,
   "id": "6979565a",
   "metadata": {},
   "outputs": [
    {
     "data": {
      "text/plain": [
       "<AxesSubplot:title={'center':'Histogram for mpg'}, ylabel='Frequency'>"
      ]
     },
     "execution_count": 191,
     "metadata": {},
     "output_type": "execute_result"
    },
    {
     "data": {
      "image/png": "[encoded data removed]",
      "text/plain": [
       "<Figure size 720x720 with 1 Axes>"
      ]
     },
     "metadata": {},
     "output_type": "display_data"
    }
   ],
   "source": [
    "dataset['mpg'].plot.hist(density=True,logy=True,figsize=(10,10), title='Histogram for mpg', bins=100,color='green')"
   ]
  },
  {
   "cell_type": "code",
   "execution_count": 192,
   "id": "15129916",
   "metadata": {},
   "outputs": [
    {
     "data": {
      "text/plain": [
       "<AxesSubplot:title={'center':'Histogram for miles'}, ylabel='Frequency'>"
      ]
     },
     "execution_count": 192,
     "metadata": {},
     "output_type": "execute_result"
    },
    {
     "data": {
      "image/png": "[encoded data removed]",
      "text/plain": [
       "<Figure size 720x720 with 1 Axes>"
      ]
     },
     "metadata": {},
     "output_type": "display_data"
    }
   ],
   "source": [
    "dataset[\"miles\"].plot.hist(density=True,logy=True,figsize=(10,10), title='Histogram for miles',bins=100,color='orange')"
   ]
  },
  {
   "cell_type": "markdown",
   "id": "85526001",
   "metadata": {},
   "source": [
    "<h4>Statistical description</h4>"
   ]
  },
  {
   "cell_type": "code",
   "execution_count": 193,
   "id": "667e1b83",
   "metadata": {},
   "outputs": [
    {
     "data": {
      "text/html": [
       "<div>\n",
       "<style scoped>\n",
       "    .dataframe tbody tr th:only-of-type {\n",
       "        vertical-align: middle;\n",
       "    }\n",
       "\n",
       "    .dataframe tbody tr th {\n",
       "        vertical-align: top;\n",
       "    }\n",
       "\n",
       "    .dataframe thead th {\n",
       "        text-align: right;\n",
       "    }\n",
       "</style>\n",
       "<table border=\"1\" class=\"dataframe\">\n",
       "  <thead>\n",
       "    <tr style=\"text-align: right;\">\n",
       "      <th></th>\n",
       "      <th>miles</th>\n",
       "      <th>gallons</th>\n",
       "      <th>mpg</th>\n",
       "    </tr>\n",
       "  </thead>\n",
       "  <tbody>\n",
       "    <tr>\n",
       "      <th>count</th>\n",
       "      <td>305931.000000</td>\n",
       "      <td>1.038672e+06</td>\n",
       "      <td>297631.000000</td>\n",
       "    </tr>\n",
       "    <tr>\n",
       "      <th>mean</th>\n",
       "      <td>298.946391</td>\n",
       "      <td>1.282238e+01</td>\n",
       "      <td>27.283293</td>\n",
       "    </tr>\n",
       "    <tr>\n",
       "      <th>std</th>\n",
       "      <td>1336.446779</td>\n",
       "      <td>7.663733e+01</td>\n",
       "      <td>1034.921293</td>\n",
       "    </tr>\n",
       "    <tr>\n",
       "      <th>min</th>\n",
       "      <td>0.000000</td>\n",
       "      <td>0.000000e+00</td>\n",
       "      <td>0.000000</td>\n",
       "    </tr>\n",
       "    <tr>\n",
       "      <th>25%</th>\n",
       "      <td>201.863800</td>\n",
       "      <td>8.991000e+00</td>\n",
       "      <td>17.236624</td>\n",
       "    </tr>\n",
       "    <tr>\n",
       "      <th>50%</th>\n",
       "      <td>277.322100</td>\n",
       "      <td>1.195400e+01</td>\n",
       "      <td>23.000000</td>\n",
       "    </tr>\n",
       "    <tr>\n",
       "      <th>75%</th>\n",
       "      <td>352.452150</td>\n",
       "      <td>1.493900e+01</td>\n",
       "      <td>29.801146</td>\n",
       "    </tr>\n",
       "    <tr>\n",
       "      <th>max</th>\n",
       "      <td>195321.200000</td>\n",
       "      <td>2.838000e+04</td>\n",
       "      <td>559860.946746</td>\n",
       "    </tr>\n",
       "  </tbody>\n",
       "</table>\n",
       "</div>"
      ],
      "text/plain": [
       "               miles       gallons            mpg\n",
       "count  305931.000000  1.038672e+06  297631.000000\n",
       "mean      298.946391  1.282238e+01      27.283293\n",
       "std      1336.446779  7.663733e+01    1034.921293\n",
       "min         0.000000  0.000000e+00       0.000000\n",
       "25%       201.863800  8.991000e+00      17.236624\n",
       "50%       277.322100  1.195400e+01      23.000000\n",
       "75%       352.452150  1.493900e+01      29.801146\n",
       "max    195321.200000  2.838000e+04  559860.946746"
      ]
     },
     "execution_count": 193,
     "metadata": {},
     "output_type": "execute_result"
    }
   ],
   "source": [
    "dataset[[\"miles\",'gallons','mpg']].describe()"
   ]
  },
  {
   "cell_type": "markdown",
   "id": "a8dfa2fb",
   "metadata": {},
   "source": [
    "<h2>7.Total spent</h2>"
   ]
  },
  {
   "cell_type": "code",
   "execution_count": null,
   "id": "4d61128e",
   "metadata": {},
   "outputs": [],
   "source": []
  },
  {
   "cell_type": "markdown",
   "id": "d9f62562",
   "metadata": {},
   "source": [
    "<h2>8.Cost per gallon</h2>"
   ]
  },
  {
   "cell_type": "code",
   "execution_count": null,
   "id": "27732ec9",
   "metadata": {},
   "outputs": [],
   "source": []
  },
  {
   "cell_type": "markdown",
   "id": "4487ce3f",
   "metadata": {},
   "source": []
  },
  {
   "cell_type": "code",
   "execution_count": null,
   "id": "1ecdd3b3",
   "metadata": {},
   "outputs": [],
   "source": []
  },
  {
   "cell_type": "markdown",
   "id": "62ef185c",
   "metadata": {},
   "source": [
    "<h1>Feature Engineering</h1>"
   ]
  },
  {
   "cell_type": "code",
   "execution_count": null,
   "id": "1de1c8f8",
   "metadata": {},
   "outputs": [],
   "source": []
  },
  {
   "cell_type": "markdown",
   "id": "db24ab4b",
   "metadata": {},
   "source": [
    "<h1>Feature Selection</h1>"
   ]
  },
  {
   "cell_type": "code",
   "execution_count": null,
   "id": "9d3df604",
   "metadata": {},
   "outputs": [],
   "source": []
  },
  {
   "cell_type": "code",
   "execution_count": null,
   "id": "4de99190",
   "metadata": {},
   "outputs": [],
   "source": []
  }
 ],
 "metadata": {
  "kernelspec": {
   "display_name": "Python 3",
   "language": "python",
   "name": "python3"
  },
  "language_info": {
   "codemirror_mode": {
    "name": "ipython",
    "version": 3
   },
   "file_extension": ".py",
   "mimetype": "text/x-python",
   "name": "python",
   "nbconvert_exporter": "python",
   "pygments_lexer": "ipython3",
   "version": "3.8.8"
  }
 },
 "nbformat": 4,
 "nbformat_minor": 5
}
