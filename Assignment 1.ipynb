{
 "cells": [
  {
   "cell_type": "markdown",
   "id": "99be8983",
   "metadata": {},
   "source": [
    "<h1> Initialisation Cell</h1>"
   ]
  },
  {
   "cell_type": "code",
   "execution_count": 76,
   "id": "9c22a9dd",
   "metadata": {},
   "outputs": [],
   "source": [
    "import numpy as np\n",
    "import pandas as pd\n",
    "import re"
   ]
  },
  {
   "cell_type": "markdown",
   "id": "44b5e35c",
   "metadata": {},
   "source": [
    "<h1> Importing the Data</h1>"
   ]
  },
  {
   "cell_type": "code",
   "execution_count": 77,
   "id": "5d8f4634",
   "metadata": {},
   "outputs": [
    {
     "name": "stderr",
     "output_type": "stream",
     "text": [
      "C:\\Users\\Mpendulo\\anaconda3\\lib\\site-packages\\IPython\\core\\interactiveshell.py:3437: DtypeWarning: Columns (3,6) have mixed types.Specify dtype option on import or set low_memory=False.\n",
      "  exec(code_obj, self.user_global_ns, self.user_ns)\n"
     ]
    },
    {
     "name": "stdout",
     "output_type": "stream",
     "text": [
      "<class 'pandas.core.frame.DataFrame'>\n",
      "RangeIndex: 1174870 entries, 0 to 1174869\n",
      "Data columns (total 9 columns):\n",
      " #   Column           Non-Null Count    Dtype \n",
      "---  ------           --------------    ----- \n",
      " 0   date_fueled      1125700 non-null  object\n",
      " 1   date_captured    1174870 non-null  object\n",
      " 2   odometer         1025716 non-null  object\n",
      " 3   gallons          1100660 non-null  object\n",
      " 4   cost_per_gallon  1094110 non-null  object\n",
      " 5   total_spent      1100660 non-null  object\n",
      " 6   mpg              1100660 non-null  object\n",
      " 7   miles            146274 non-null   object\n",
      " 8   user_url         1174870 non-null  object\n",
      "dtypes: object(9)\n",
      "memory usage: 80.7+ MB\n"
     ]
    }
   ],
   "source": [
    "dataset = pd.read_csv(\"logbook_assignment1.csv\")\n",
    "dataset.info()\n",
    "dataset = np.array_split(dataset, 20)[0]\n"
   ]
  },
  {
   "cell_type": "markdown",
   "id": "22311dae",
   "metadata": {},
   "source": [
    "<h1>Helper Functions</h1>"
   ]
  },
  {
   "cell_type": "code",
   "execution_count": null,
   "id": "88699e1c",
   "metadata": {},
   "outputs": [],
   "source": []
  },
  {
   "cell_type": "markdown",
   "id": "5b034617",
   "metadata": {},
   "source": [
    "<h1>Data Cleaning</h1>"
   ]
  },
  {
   "cell_type": "markdown",
   "id": "8ab9170f",
   "metadata": {},
   "source": [
    "<h2>1.date_fueled</h2>"
   ]
  },
  {
   "cell_type": "code",
   "execution_count": 78,
   "id": "bac5dd82",
   "metadata": {},
   "outputs": [
    {
     "data": {
      "text/plain": [
       "0               NaT\n",
       "1         11 7 2012\n",
       "2        09 22 2012\n",
       "3         05 4 2019\n",
       "4        02 15 2022\n",
       "            ...    \n",
       "58739           NaT\n",
       "58740           NaT\n",
       "58741     11 6 2021\n",
       "58742     12 6 2018\n",
       "58743     04 6 2022\n",
       "Name: date_fueled, Length: 58744, dtype: object"
      ]
     },
     "metadata": {},
     "output_type": "display_data"
    }
   ],
   "source": [
    "# Convert all invalid dates to NaT\n",
    "\n",
    "regex = re.compile(r'[A-Z]{3} [0-9]{1,2} [0-9]{4}',re.I)\n",
    "months = {'Jan':'01','Feb':'02','Mar':'03','Apr':'04','May':'05','Jun':'06','Jul':'07',\n",
    "          'Aug':'08','Sep':'09','Oct':'10','Nov':'11','Dec':'12'}\n",
    "\n",
    "for i in range(dataset.shape[0]):\n",
    "    test_string = str(dataset.loc[i,'date_fueled'])\n",
    "    month = test_string[:3]\n",
    "    if len(test_string) != 11 and len(test_string) != 10:\n",
    "        dataset[\"date_fueled\"].iloc[i] = 'NaT'\n",
    "        continue\n",
    "    if month in months.keys():\n",
    "        update_string = test_string.replace(month,months[month])\n",
    "    if bool(re.match(regex, test_string)) == False:\n",
    "        dataset[\"date_fueled\"].iloc[i] = 'NaT'\n",
    "    if month in months.keys():   \n",
    "        dataset[\"date_fueled\"].iloc[i] = update_string\n",
    "display(dataset[\"date_fueled\"])\n",
    "\n",
    "\n",
    "\n",
    "    \n",
    "\n",
    "\n",
    "\n"
   ]
  },
  {
   "cell_type": "code",
   "execution_count": 79,
   "id": "10661853",
   "metadata": {},
   "outputs": [
    {
     "name": "stdout",
     "output_type": "stream",
     "text": [
      "True\n"
     ]
    }
   ],
   "source": [
    "t = '03fa'\n",
    "\n",
    "tv = bool(re.match(regex, test_string))\n",
    "print(tv)"
   ]
  },
  {
   "cell_type": "code",
   "execution_count": 80,
   "id": "2730766f",
   "metadata": {},
   "outputs": [
    {
     "data": {
      "text/plain": [
       "0              NaT\n",
       "1       2012-11-07\n",
       "2       2012-09-22\n",
       "3       2019-05-04\n",
       "4       2022-02-15\n",
       "           ...    \n",
       "58739          NaT\n",
       "58740          NaT\n",
       "58741   2021-11-06\n",
       "58742   2018-12-06\n",
       "58743   2022-04-06\n",
       "Name: date_fueled, Length: 58744, dtype: datetime64[ns]"
      ]
     },
     "execution_count": 80,
     "metadata": {},
     "output_type": "execute_result"
    }
   ],
   "source": [
    "# Set the dtype of column to datetime\n",
    "\n",
    "dataset[\"date_fueled\"] = pd.to_datetime(dataset[\"date_fueled\"],format='%m %d %Y')\n",
    "dataset[\"date_fueled\"]"
   ]
  },
  {
   "cell_type": "code",
   "execution_count": 81,
   "id": "23f6c085",
   "metadata": {},
   "outputs": [
    {
     "ename": "NameError",
     "evalue": "name 'count' is not defined",
     "output_type": "error",
     "traceback": [
      "\u001b[1;31m---------------------------------------------------------------------------\u001b[0m",
      "\u001b[1;31mNameError\u001b[0m                                 Traceback (most recent call last)",
      "\u001b[1;32m<ipython-input-81-3db0faffa893>\u001b[0m in \u001b[0;36m<module>\u001b[1;34m\u001b[0m\n\u001b[0;32m      1\u001b[0m \u001b[0mSum\u001b[0m \u001b[1;33m=\u001b[0m \u001b[1;36m0\u001b[0m\u001b[1;33m\u001b[0m\u001b[1;33m\u001b[0m\u001b[0m\n\u001b[1;32m----> 2\u001b[1;33m \u001b[1;32mfor\u001b[0m \u001b[0mi\u001b[0m \u001b[1;32min\u001b[0m \u001b[0mcount\u001b[0m\u001b[1;33m.\u001b[0m\u001b[0mkeys\u001b[0m\u001b[1;33m(\u001b[0m\u001b[1;33m)\u001b[0m\u001b[1;33m:\u001b[0m\u001b[1;33m\u001b[0m\u001b[1;33m\u001b[0m\u001b[0m\n\u001b[0m\u001b[0;32m      3\u001b[0m     \u001b[0mSum\u001b[0m \u001b[1;33m=\u001b[0m \u001b[0mSum\u001b[0m \u001b[1;33m+\u001b[0m \u001b[0mint\u001b[0m\u001b[1;33m(\u001b[0m\u001b[0mcount\u001b[0m\u001b[1;33m[\u001b[0m\u001b[0mi\u001b[0m\u001b[1;33m]\u001b[0m\u001b[1;33m)\u001b[0m\u001b[1;33m\u001b[0m\u001b[1;33m\u001b[0m\u001b[0m\n\u001b[0;32m      4\u001b[0m \u001b[1;33m\u001b[0m\u001b[0m\n\u001b[0;32m      5\u001b[0m \u001b[1;32mif\u001b[0m \u001b[0mSum\u001b[0m \u001b[1;33m==\u001b[0m \u001b[0mdataset\u001b[0m\u001b[1;33m.\u001b[0m\u001b[0mshape\u001b[0m\u001b[1;33m[\u001b[0m\u001b[1;36m0\u001b[0m\u001b[1;33m]\u001b[0m\u001b[1;33m:\u001b[0m\u001b[1;33m\u001b[0m\u001b[1;33m\u001b[0m\u001b[0m\n",
      "\u001b[1;31mNameError\u001b[0m: name 'count' is not defined"
     ]
    }
   ],
   "source": [
    "Sum = 0\n",
    "for i in count.keys():\n",
    "    Sum = Sum + int(count[i])\n",
    "\n",
    "if Sum == dataset.shape[0]:\n",
    "    print(\"All have been captured\")"
   ]
  },
  {
   "cell_type": "code",
   "execution_count": null,
   "id": "3a122971",
   "metadata": {},
   "outputs": [],
   "source": [
    "for i in range(dataset[\"date_fueled\"].shape[0]):\n",
    "    if type(dataset[\"date_fueled\"].iloc[i]) == type(float(\"nan\")):\n",
    "        dataset[\"date_fueled\"].iloc[i] = \"NaT\"\n",
    "        missing_values += 1"
   ]
  },
  {
   "cell_type": "code",
   "execution_count": null,
   "id": "810e54b8",
   "metadata": {},
   "outputs": [],
   "source": [
    "missing_percentage = (missing_values/dataset[\"date_fueled\"].shape[0])*100\n",
    "\n",
    "print(\"The percentage of missing date fueled values = \",missing_percentage,\"%\")"
   ]
  },
  {
   "cell_type": "markdown",
   "id": "4a8563fd",
   "metadata": {},
   "source": [
    "<h2>2.Date_captured</h2>"
   ]
  },
  {
   "cell_type": "code",
   "execution_count": null,
   "id": "240e1852",
   "metadata": {},
   "outputs": [],
   "source": []
  },
  {
   "cell_type": "markdown",
   "id": "b7bc7cb7",
   "metadata": {},
   "source": [
    "<h2>3.Odometer</h2>"
   ]
  },
  {
   "cell_type": "code",
   "execution_count": null,
   "id": "ef0630b9",
   "metadata": {},
   "outputs": [],
   "source": [
    "\n",
    "length = dataset[\"odometer\"].shape[0]\n",
    "for index in range(length):\n",
    "    entry = dataset[\"odometer\"].iloc[index]\n",
    "    if isinstance(entry,str):\n",
    "        dataset[\"odometer\"].iloc[index] = entry.replace(\",\",\"\")\n",
    "        print(dataset[\"odometer\"].iloc[index])\n",
    "        \n"
   ]
  },
  {
   "cell_type": "markdown",
   "id": "a4e8ffd0",
   "metadata": {},
   "source": [
    "<h2>4.Gallons</h2>"
   ]
  },
  {
   "cell_type": "code",
   "execution_count": null,
   "id": "b9240233",
   "metadata": {},
   "outputs": [],
   "source": []
  },
  {
   "cell_type": "markdown",
   "id": "0c515890",
   "metadata": {},
   "source": [
    "<h2>5.Cost per gallon</h2>"
   ]
  },
  {
   "cell_type": "code",
   "execution_count": null,
   "id": "56c52c81",
   "metadata": {},
   "outputs": [],
   "source": []
  },
  {
   "cell_type": "markdown",
   "id": "9299e58d",
   "metadata": {},
   "source": [
    "<h2>6.Total spent</h2>"
   ]
  },
  {
   "cell_type": "code",
   "execution_count": null,
   "id": "939bf99c",
   "metadata": {},
   "outputs": [],
   "source": []
  },
  {
   "cell_type": "markdown",
   "id": "26432cae",
   "metadata": {},
   "source": [
    "<h2>7.Mile per gallon</h2>"
   ]
  },
  {
   "cell_type": "code",
   "execution_count": null,
   "id": "0a411475",
   "metadata": {},
   "outputs": [],
   "source": []
  },
  {
   "cell_type": "markdown",
   "id": "51c52dde",
   "metadata": {},
   "source": [
    "<h2>8.Miles</h2>"
   ]
  },
  {
   "cell_type": "code",
   "execution_count": null,
   "id": "34fce538",
   "metadata": {},
   "outputs": [],
   "source": []
  },
  {
   "cell_type": "markdown",
   "id": "172ebd28",
   "metadata": {},
   "source": [
    "<h1>Feature Engineering</h1>"
   ]
  },
  {
   "cell_type": "code",
   "execution_count": null,
   "id": "132d927d",
   "metadata": {},
   "outputs": [],
   "source": []
  },
  {
   "cell_type": "markdown",
   "id": "b1af11be",
   "metadata": {},
   "source": [
    "<h1>Feature Selection</h1>"
   ]
  },
  {
   "cell_type": "code",
   "execution_count": null,
   "id": "70a1d2a7",
   "metadata": {},
   "outputs": [],
   "source": []
  },
  {
   "cell_type": "code",
   "execution_count": null,
   "id": "9834e3cf",
   "metadata": {},
   "outputs": [],
   "source": []
  }
 ],
 "metadata": {
  "kernelspec": {
   "display_name": "Python 3",
   "language": "python",
   "name": "python3"
  },
  "language_info": {
   "codemirror_mode": {
    "name": "ipython",
    "version": 3
   },
   "file_extension": ".py",
   "mimetype": "text/x-python",
   "name": "python",
   "nbconvert_exporter": "python",
   "pygments_lexer": "ipython3",
   "version": "3.8.8"
  }
 },
 "nbformat": 4,
 "nbformat_minor": 5
}
