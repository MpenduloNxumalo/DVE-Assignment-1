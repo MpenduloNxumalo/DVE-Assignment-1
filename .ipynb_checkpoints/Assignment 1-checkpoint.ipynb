{
 "cells": [
  {
   "cell_type": "markdown",
   "id": "c9b4ec52",
   "metadata": {},
   "source": [
    "<h1> Initialisation Cell</h1>"
   ]
  },
  {
   "cell_type": "code",
   "execution_count": 225,
   "id": "eef2faf4",
   "metadata": {},
   "outputs": [],
   "source": [
    "import numpy as np\n",
    "import pandas as pd\n",
    "import re\n",
    "from datetime import date\n",
    "import matplotlib.pyplot as plt\n",
    "import seaborn as sns"
   ]
  },
  {
   "cell_type": "markdown",
   "id": "28954437",
   "metadata": {},
   "source": [
    "<h1> Importing the Data</h1>"
   ]
  },
  {
   "cell_type": "code",
   "execution_count": 226,
   "id": "e5e57eb1",
   "metadata": {},
   "outputs": [
    {
     "name": "stderr",
     "output_type": "stream",
     "text": [
      "/usr/local/anaconda3/lib/python3.8/site-packages/IPython/core/interactiveshell.py:3165: DtypeWarning: Columns (3,6) have mixed types.Specify dtype option on import or set low_memory=False.\n",
      "  has_raised = await self.run_ast_nodes(code_ast.body, cell_name,\n"
     ]
    },
    {
     "name": "stdout",
     "output_type": "stream",
     "text": [
      "<class 'pandas.core.frame.DataFrame'>\n",
      "RangeIndex: 1174870 entries, 0 to 1174869\n",
      "Data columns (total 9 columns):\n",
      " #   Column           Non-Null Count    Dtype \n",
      "---  ------           --------------    ----- \n",
      " 0   date_fueled      1125700 non-null  object\n",
      " 1   date_captured    1174870 non-null  object\n",
      " 2   odometer         1025716 non-null  object\n",
      " 3   gallons          1100660 non-null  object\n",
      " 4   cost_per_gallon  1094110 non-null  object\n",
      " 5   total_spent      1100660 non-null  object\n",
      " 6   mpg              1100660 non-null  object\n",
      " 7   miles            146274 non-null   object\n",
      " 8   user_url         1174870 non-null  object\n",
      "dtypes: object(9)\n",
      "memory usage: 80.7+ MB\n"
     ]
    },
    {
     "data": {
      "text/html": [
       "<div>\n",
       "<style scoped>\n",
       "    .dataframe tbody tr th:only-of-type {\n",
       "        vertical-align: middle;\n",
       "    }\n",
       "\n",
       "    .dataframe tbody tr th {\n",
       "        vertical-align: top;\n",
       "    }\n",
       "\n",
       "    .dataframe thead th {\n",
       "        text-align: right;\n",
       "    }\n",
       "</style>\n",
       "<table border=\"1\" class=\"dataframe\">\n",
       "  <thead>\n",
       "    <tr style=\"text-align: right;\">\n",
       "      <th></th>\n",
       "      <th>date_fueled</th>\n",
       "      <th>date_captured</th>\n",
       "      <th>odometer</th>\n",
       "      <th>gallons</th>\n",
       "      <th>cost_per_gallon</th>\n",
       "      <th>total_spent</th>\n",
       "      <th>mpg</th>\n",
       "      <th>miles</th>\n",
       "      <th>user_url</th>\n",
       "    </tr>\n",
       "  </thead>\n",
       "  <tbody>\n",
       "    <tr>\n",
       "      <th>0</th>\n",
       "      <td>Cooling System, Heating System, Lights, Spark ...</td>\n",
       "      <td>Apr 7 2022</td>\n",
       "      <td>73,370</td>\n",
       "      <td>NaN</td>\n",
       "      <td>NaN</td>\n",
       "      <td>NaN</td>\n",
       "      <td>NaN</td>\n",
       "      <td>NaN</td>\n",
       "      <td>https://www.somewebsite.com/suzuki/swift/2015/...</td>\n",
       "    </tr>\n",
       "    <tr>\n",
       "      <th>1</th>\n",
       "      <td>Nov 7 2012</td>\n",
       "      <td>Aug 30 2016</td>\n",
       "      <td>11,983</td>\n",
       "      <td>12.120</td>\n",
       "      <td>$5.599</td>\n",
       "      <td>$67.86</td>\n",
       "      <td>31.6</td>\n",
       "      <td>NaN</td>\n",
       "      <td>https://www.somewebsite.com/bmw/x3/2009/461150</td>\n",
       "    </tr>\n",
       "    <tr>\n",
       "      <th>2</th>\n",
       "      <td>Sep 22 2012</td>\n",
       "      <td>Sep 28 2012</td>\n",
       "      <td>98,233</td>\n",
       "      <td>7.991</td>\n",
       "      <td>£5.45</td>\n",
       "      <td>£43.53</td>\n",
       "      <td>28.5</td>\n",
       "      <td>NaN</td>\n",
       "      <td>https://www.somewebsite.com/mercedes-benz/e300...</td>\n",
       "    </tr>\n",
       "    <tr>\n",
       "      <th>3</th>\n",
       "      <td>May 4 2019</td>\n",
       "      <td>May 4 2019</td>\n",
       "      <td>163,802</td>\n",
       "      <td>10.575</td>\n",
       "      <td>£5.11</td>\n",
       "      <td>£54.00</td>\n",
       "      <td>46.8</td>\n",
       "      <td>NaN</td>\n",
       "      <td>https://www.somewebsite.com/bmw/320d/2010/247233</td>\n",
       "    </tr>\n",
       "    <tr>\n",
       "      <th>4</th>\n",
       "      <td>Feb 15 2022</td>\n",
       "      <td>Feb 15 2022</td>\n",
       "      <td>NaN</td>\n",
       "      <td>11.651</td>\n",
       "      <td>$3.029</td>\n",
       "      <td>$35.29</td>\n",
       "      <td>21.0</td>\n",
       "      <td>244.4</td>\n",
       "      <td>https://www.somewebsite.com/honda/passport/201...</td>\n",
       "    </tr>\n",
       "    <tr>\n",
       "      <th>...</th>\n",
       "      <td>...</td>\n",
       "      <td>...</td>\n",
       "      <td>...</td>\n",
       "      <td>...</td>\n",
       "      <td>...</td>\n",
       "      <td>...</td>\n",
       "      <td>...</td>\n",
       "      <td>...</td>\n",
       "      <td>...</td>\n",
       "    </tr>\n",
       "    <tr>\n",
       "      <th>1174865</th>\n",
       "      <td>Feb 19 2020</td>\n",
       "      <td>Feb 19 2020</td>\n",
       "      <td>118,237</td>\n",
       "      <td>13.046</td>\n",
       "      <td>$1.999</td>\n",
       "      <td>$26.08</td>\n",
       "      <td>25.7</td>\n",
       "      <td>NaN</td>\n",
       "      <td>https://www.somewebsite.com/volkswagen/beetle/...</td>\n",
       "    </tr>\n",
       "    <tr>\n",
       "      <th>1174866</th>\n",
       "      <td>Dec 6 2019</td>\n",
       "      <td>Dec 6 2019</td>\n",
       "      <td>141,761</td>\n",
       "      <td>12.637</td>\n",
       "      <td>$2.449</td>\n",
       "      <td>$30.95</td>\n",
       "      <td>20</td>\n",
       "      <td>NaN</td>\n",
       "      <td>https://www.somewebsite.com/toyota/avalon/2000...</td>\n",
       "    </tr>\n",
       "    <tr>\n",
       "      <th>1174867</th>\n",
       "      <td>Oct 4 2021</td>\n",
       "      <td>Oct 4 2021</td>\n",
       "      <td>65,029</td>\n",
       "      <td>10.002</td>\n",
       "      <td>$3.449</td>\n",
       "      <td>$34.50</td>\n",
       "      <td>28.5</td>\n",
       "      <td>NaN</td>\n",
       "      <td>https://www.somewebsite.com/fiat/500/2013/909694</td>\n",
       "    </tr>\n",
       "    <tr>\n",
       "      <th>1174868</th>\n",
       "      <td>Jul 26 2021</td>\n",
       "      <td>Jul 26 2021</td>\n",
       "      <td>15,255</td>\n",
       "      <td>10.493</td>\n",
       "      <td>$3.539</td>\n",
       "      <td>$37.13</td>\n",
       "      <td>36.5</td>\n",
       "      <td>NaN</td>\n",
       "      <td>https://www.somewebsite.com/mini/cooper/2019/9...</td>\n",
       "    </tr>\n",
       "    <tr>\n",
       "      <th>1174869</th>\n",
       "      <td>Mar 12 2019</td>\n",
       "      <td>Mar 12 2019</td>\n",
       "      <td>204,774</td>\n",
       "      <td>17.350</td>\n",
       "      <td>$3.199</td>\n",
       "      <td>$55.50</td>\n",
       "      <td>0</td>\n",
       "      <td>NaN</td>\n",
       "      <td>https://www.somewebsite.com/lexus/lx470/2001/8...</td>\n",
       "    </tr>\n",
       "  </tbody>\n",
       "</table>\n",
       "<p>1174870 rows × 9 columns</p>\n",
       "</div>"
      ],
      "text/plain": [
       "                                               date_fueled date_captured  \\\n",
       "0        Cooling System, Heating System, Lights, Spark ...    Apr 7 2022   \n",
       "1                                               Nov 7 2012   Aug 30 2016   \n",
       "2                                              Sep 22 2012   Sep 28 2012   \n",
       "3                                               May 4 2019    May 4 2019   \n",
       "4                                              Feb 15 2022   Feb 15 2022   \n",
       "...                                                    ...           ...   \n",
       "1174865                                        Feb 19 2020   Feb 19 2020   \n",
       "1174866                                         Dec 6 2019    Dec 6 2019   \n",
       "1174867                                         Oct 4 2021    Oct 4 2021   \n",
       "1174868                                        Jul 26 2021   Jul 26 2021   \n",
       "1174869                                        Mar 12 2019   Mar 12 2019   \n",
       "\n",
       "         odometer gallons cost_per_gallon total_spent   mpg    miles  \\\n",
       "0         73,370      NaN             NaN         NaN   NaN      NaN   \n",
       "1         11,983   12.120          $5.599      $67.86  31.6      NaN   \n",
       "2         98,233    7.991           £5.45      £43.53  28.5      NaN   \n",
       "3        163,802   10.575           £5.11      £54.00  46.8      NaN   \n",
       "4             NaN  11.651          $3.029      $35.29  21.0   244.4    \n",
       "...           ...     ...             ...         ...   ...      ...   \n",
       "1174865  118,237   13.046          $1.999      $26.08  25.7      NaN   \n",
       "1174866  141,761   12.637          $2.449      $30.95    20      NaN   \n",
       "1174867   65,029   10.002          $3.449      $34.50  28.5      NaN   \n",
       "1174868   15,255   10.493          $3.539      $37.13  36.5      NaN   \n",
       "1174869  204,774   17.350          $3.199      $55.50     0      NaN   \n",
       "\n",
       "                                                  user_url  \n",
       "0        https://www.somewebsite.com/suzuki/swift/2015/...  \n",
       "1           https://www.somewebsite.com/bmw/x3/2009/461150  \n",
       "2        https://www.somewebsite.com/mercedes-benz/e300...  \n",
       "3         https://www.somewebsite.com/bmw/320d/2010/247233  \n",
       "4        https://www.somewebsite.com/honda/passport/201...  \n",
       "...                                                    ...  \n",
       "1174865  https://www.somewebsite.com/volkswagen/beetle/...  \n",
       "1174866  https://www.somewebsite.com/toyota/avalon/2000...  \n",
       "1174867   https://www.somewebsite.com/fiat/500/2013/909694  \n",
       "1174868  https://www.somewebsite.com/mini/cooper/2019/9...  \n",
       "1174869  https://www.somewebsite.com/lexus/lx470/2001/8...  \n",
       "\n",
       "[1174870 rows x 9 columns]"
      ]
     },
     "execution_count": 226,
     "metadata": {},
     "output_type": "execute_result"
    }
   ],
   "source": [
    "dataset = pd.read_csv(\"logbook_assignment1.csv\")\n",
    "dataset.info()\n",
    "dataset"
   ]
  },
  {
   "cell_type": "markdown",
   "id": "e6d5254d",
   "metadata": {},
   "source": [
    "<h1>Helper Functions</h1>"
   ]
  },
  {
   "cell_type": "code",
   "execution_count": null,
   "id": "3736b7a7",
   "metadata": {},
   "outputs": [],
   "source": []
  },
  {
   "cell_type": "markdown",
   "id": "150541c2",
   "metadata": {},
   "source": [
    "<h1>Data Cleaning</h1>"
   ]
  },
  {
   "cell_type": "markdown",
   "id": "89b976ce",
   "metadata": {},
   "source": [
    "<h2>1.date_fueled</h2>"
   ]
  },
  {
   "cell_type": "code",
   "execution_count": 227,
   "id": "31812c94",
   "metadata": {},
   "outputs": [],
   "source": [
    "dataset[\"date_fueled\"] = dataset[\"date_fueled\"].str.replace(\" \",\"-\")\n",
    "dataset[\"date_fueled\"] = dataset[\"date_fueled\"].str.replace(\"Jan\",\"01\")\n",
    "dataset[\"date_fueled\"] = dataset[\"date_fueled\"].str.replace(\"Feb\",\"02\")\n",
    "dataset[\"date_fueled\"] = dataset[\"date_fueled\"].str.replace(\"Mar\",\"03\")\n",
    "dataset[\"date_fueled\"] = dataset[\"date_fueled\"].str.replace(\"Apr\",\"04\")\n",
    "dataset[\"date_fueled\"] = dataset[\"date_fueled\"].str.replace(\"May\",\"05\")\n",
    "dataset[\"date_fueled\"] = dataset[\"date_fueled\"].str.replace(\"Jun\",\"06\")\n",
    "dataset[\"date_fueled\"] = dataset[\"date_fueled\"].str.replace(\"Jul\",\"07\")\n",
    "dataset[\"date_fueled\"] = dataset[\"date_fueled\"].str.replace(\"Aug\",\"08\")\n",
    "dataset[\"date_fueled\"] = dataset[\"date_fueled\"].str.replace(\"Sep\",\"09\")\n",
    "dataset[\"date_fueled\"] = dataset[\"date_fueled\"].str.replace(\"Oct\",\"10\")\n",
    "dataset[\"date_fueled\"] = dataset[\"date_fueled\"].str.replace(\"Nov\",\"11\")\n",
    "dataset[\"date_fueled\"] = dataset[\"date_fueled\"].str.replace(\"Dec\",\"12\")\n",
    "dataset[\"date_fueled\"] = pd.to_datetime(dataset[\"date_fueled\"],format='%m-%d-%Y',errors='coerce')"
   ]
  },
  {
   "cell_type": "code",
   "execution_count": 228,
   "id": "13a96c32",
   "metadata": {},
   "outputs": [
    {
     "name": "stdout",
     "output_type": "stream",
     "text": [
      "The date_fueled entries that were in the future or that are earlier than 2005:\n"
     ]
    },
    {
     "data": {
      "text/plain": [
       "6953      2001-05-24\n",
       "7568      1997-09-29\n",
       "10812     2003-09-22\n",
       "14771     2002-08-21\n",
       "16159     1997-08-15\n",
       "             ...    \n",
       "1170218   2002-02-21\n",
       "1170962   2000-03-12\n",
       "1171685   2002-02-21\n",
       "1172630   2001-05-06\n",
       "1173873   2003-03-07\n",
       "Name: date_fueled, Length: 688, dtype: datetime64[ns]"
      ]
     },
     "metadata": {},
     "output_type": "display_data"
    },
    {
     "data": {
      "text/plain": [
       "63905     2027-11-17\n",
       "149865    2025-04-20\n",
       "272941    2025-08-09\n",
       "317064    2030-07-10\n",
       "439193    2027-10-10\n",
       "503983    2024-12-10\n",
       "517188    2023-01-02\n",
       "554936    2028-06-07\n",
       "631252    2028-05-09\n",
       "640350    2024-11-10\n",
       "772677    2022-05-10\n",
       "789614    2025-04-19\n",
       "813760    2028-08-10\n",
       "819005    2023-01-26\n",
       "866309    2024-04-20\n",
       "877449    2029-12-09\n",
       "879772    2022-12-01\n",
       "911075    2030-04-07\n",
       "932935    2028-09-09\n",
       "938007    2024-12-07\n",
       "981460    2022-05-01\n",
       "1001628   2029-03-10\n",
       "1029376   2030-04-09\n",
       "1086018   2030-11-08\n",
       "1092503   2022-06-15\n",
       "1100247   2022-12-26\n",
       "1162369   2023-03-08\n",
       "Name: date_fueled, dtype: datetime64[ns]"
      ]
     },
     "metadata": {},
     "output_type": "display_data"
    },
    {
     "name": "stdout",
     "output_type": "stream",
     "text": [
      "entries that were in the future or that are earlier than 2005 constitute  0.06085779703286321 % of the dataset\n"
     ]
    }
   ],
   "source": [
    "today = date.today()\n",
    "\n",
    "print(\"The date_fueled entries that were in the future or that are earlier than 2005:\")\n",
    "\n",
    "\n",
    "#Years below 2005\n",
    "idx = np.where(pd.DatetimeIndex(dataset['date_fueled']).year <= 2005)\n",
    "display(dataset[\"date_fueled\"].iloc[idx])\n",
    "\n",
    "#Future dates\n",
    "idx2 = np.where(pd.DatetimeIndex(dataset['date_fueled']).date >= today)\n",
    "display(dataset[\"date_fueled\"].iloc[idx2])\n",
    "\n",
    "print(\"Entries that were in the future or that are earlier than 2005 constitute \",((len(idx[0])+len(idx2[0]))/dataset.shape[0])*100,\"% of the dataset\")\n",
    "\n",
    "dataset.drop(idx[0], axis=0, inplace=True)\n",
    "dataset.drop(idx2[0], axis=0, inplace=True)\n",
    "\n"
   ]
  },
  {
   "cell_type": "code",
   "execution_count": 229,
   "id": "725f0f07",
   "metadata": {},
   "outputs": [
    {
     "data": {
      "text/plain": [
       "Series([], Name: date_fueled, dtype: datetime64[ns])"
      ]
     },
     "metadata": {},
     "output_type": "display_data"
    },
    {
     "data": {
      "text/plain": [
       "Series([], Name: date_fueled, dtype: datetime64[ns])"
      ]
     },
     "metadata": {},
     "output_type": "display_data"
    }
   ],
   "source": [
    "#Years below 2005\n",
    "idx = np.where(pd.DatetimeIndex(dataset['date_fueled']).year <= 2005)\n",
    "display(dataset[\"date_fueled\"].iloc[idx])\n",
    "\n",
    "#Future dates\n",
    "idx2 = np.where(pd.DatetimeIndex(dataset['date_fueled']).date >= today)\n",
    "display(dataset[\"date_fueled\"].iloc[idx2])\n",
    "\n",
    "print('Entries that were in the future or that are earlier than 2005 have been removed')"
   ]
  },
  {
   "cell_type": "code",
   "execution_count": 230,
   "id": "dd513377",
   "metadata": {},
   "outputs": [
    {
     "name": "stdout",
     "output_type": "stream",
     "text": [
      "The unique value count for the date_fueled column is given by:\n"
     ]
    },
    {
     "data": {
      "text/plain": [
       "NaT           137209\n",
       "2022-04-09      2375\n",
       "2022-04-08      2283\n",
       "2022-04-10      2165\n",
       "2022-04-01      2029\n",
       "               ...  \n",
       "2008-06-11         1\n",
       "2008-02-09         1\n",
       "2008-01-16         1\n",
       "2006-10-21         1\n",
       "2006-02-03         1\n",
       "Name: date_fueled, Length: 5529, dtype: int64"
      ]
     },
     "metadata": {},
     "output_type": "display_data"
    },
    {
     "name": "stdout",
     "output_type": "stream",
     "text": [
      "\n",
      "\n",
      "The number of invalid dates =  137209\n",
      "The percentage of invalid dates =  11.685765507961046 %\n"
     ]
    }
   ],
   "source": [
    "print(\"The unique value count for the date_fueled column is given by:\")\n",
    "unique_values = dataset[\"date_fueled\"].isnull()\n",
    "\n",
    "unique_values_count = dataset[\"date_fueled\"].value_counts(dropna=False)\n",
    "display(unique_values_count)\n",
    "u_count = len(np.where(unique_values == True)[0])\n",
    "print(\"\\n\")\n",
    "print(\"The number of invalid dates = \",u_count)\n",
    "print(\"The percentage of invalid dates = \",(u_count/dataset.shape[0])*100,\"%\")"
   ]
  },
  {
   "cell_type": "code",
   "execution_count": 239,
   "id": "633afe07",
   "metadata": {},
   "outputs": [
    {
     "name": "stdout",
     "output_type": "stream",
     "text": [
      "The unique value count by year for the date_fueled column is given by:\n"
     ]
    },
    {
     "data": {
      "text/plain": [
       "<AxesSubplot:title={'center':'Unique value count by year for the date_fueled'}, ylabel='Year'>"
      ]
     },
     "execution_count": 239,
     "metadata": {},
     "output_type": "execute_result"
    },
    {
     "data": {
      "image/png": "[encoded data removed]",
      "text/plain": [
       "<Figure size 720x720 with 1 Axes>"
      ]
     },
     "metadata": {
      "needs_background": "light"
     },
     "output_type": "display_data"
    }
   ],
   "source": [
    "print(\"The unique value count by year for the date_fueled column is given by:\")\n",
    "year = pd.DatetimeIndex(dataset['date_fueled']).year.value_counts()\n",
    "year.plot.barh(figsize=(10,10) , title='Unique value count by year for the date_fueled', ylabel='Year')"
   ]
  },
  {
   "cell_type": "code",
   "execution_count": 236,
   "id": "9ac7c1d8",
   "metadata": {},
   "outputs": [
    {
     "name": "stdout",
     "output_type": "stream",
     "text": [
      "The unique value count by year for the date_fueled column is given by:\n"
     ]
    },
    {
     "data": {
      "text/plain": [
       "<AxesSubplot:>"
      ]
     },
     "execution_count": 236,
     "metadata": {},
     "output_type": "execute_result"
    },
    {
     "data": {
      "image/png": "[encoded data removed]",
      "text/plain": [
       "<Figure size 720x720 with 1 Axes>"
      ]
     },
     "metadata": {
      "needs_background": "light"
     },
     "output_type": "display_data"
    }
   ],
   "source": [
    "print(\"The unique value count by month for the date_fueled column is given by:\")\n",
    "year = pd.DatetimeIndex(dataset['date_fueled']).month.value_counts()\n",
    "year.plot.barh(figsize=(10,10), title='Unique value count by month', ylabel='Month')"
   ]
  },
  {
   "cell_type": "code",
   "execution_count": 232,
   "id": "20ecf861",
   "metadata": {},
   "outputs": [
    {
     "data": {
      "text/plain": [
       "<AxesSubplot:>"
      ]
     },
     "execution_count": 232,
     "metadata": {},
     "output_type": "execute_result"
    },
    {
     "data": {
      "image/png": "[encoded data removed]",
      "text/plain": [
       "<Figure size 720x720 with 1 Axes>"
      ]
     },
     "metadata": {
      "needs_background": "light"
     },
     "output_type": "display_data"
    }
   ],
   "source": [
    "days = dataset[\"date_fueled\"].dt.day_name()\n",
    "days.value_counts(dropna=False).plot.barh(figsize=(10,10))"
   ]
  },
  {
   "cell_type": "markdown",
   "id": "ea251da4",
   "metadata": {},
   "source": [
    "<h3>Conclusion</h3>"
   ]
  },
  {
   "cell_type": "code",
   "execution_count": null,
   "id": "a8d3bcfe",
   "metadata": {},
   "outputs": [],
   "source": [
    "<p>"
   ]
  },
  {
   "cell_type": "markdown",
   "id": "9ab9c316",
   "metadata": {},
   "source": [
    "<h2>2.Date_captured</h2>"
   ]
  },
  {
   "cell_type": "code",
   "execution_count": 233,
   "id": "de035d06",
   "metadata": {},
   "outputs": [
    {
     "data": {
      "text/plain": [
       "0         2022-04-07\n",
       "1         2016-08-30\n",
       "2         2012-09-28\n",
       "3         2019-05-04\n",
       "4         2022-02-15\n",
       "             ...    \n",
       "1174865   2020-02-19\n",
       "1174866   2019-12-06\n",
       "1174867   2021-10-04\n",
       "1174868   2021-07-26\n",
       "1174869   2019-03-12\n",
       "Name: date_captured, Length: 1174155, dtype: datetime64[ns]"
      ]
     },
     "execution_count": 233,
     "metadata": {},
     "output_type": "execute_result"
    }
   ],
   "source": [
    "dataset[\"date_captured\"] = dataset[\"date_captured\"].str.replace(\" \",\"-\")\n",
    "dataset[\"date_captured\"] = dataset[\"date_captured\"].str.replace(\"Jan\",\"01\")\n",
    "dataset[\"date_captured\"] = dataset[\"date_captured\"].str.replace(\"Feb\",\"02\")\n",
    "dataset[\"date_captured\"] = dataset[\"date_captured\"].str.replace(\"Mar\",\"03\")\n",
    "dataset[\"date_captured\"] = dataset[\"date_captured\"].str.replace(\"Apr\",\"04\")\n",
    "dataset[\"date_captured\"] = dataset[\"date_captured\"].str.replace(\"May\",\"05\")\n",
    "dataset[\"date_captured\"] = dataset[\"date_captured\"].str.replace(\"Jun\",\"06\")\n",
    "dataset[\"date_captured\"] = dataset[\"date_captured\"].str.replace(\"Jul\",\"07\")\n",
    "dataset[\"date_captured\"] = dataset[\"date_captured\"].str.replace(\"Aug\",\"08\")\n",
    "dataset[\"date_captured\"] = dataset[\"date_captured\"].str.replace(\"Sep\",\"09\")\n",
    "dataset[\"date_captured\"] = dataset[\"date_captured\"].str.replace(\"Oct\",\"10\")\n",
    "dataset[\"date_captured\"] = dataset[\"date_captured\"].str.replace(\"Nov\",\"11\")\n",
    "dataset[\"date_captured\"] = dataset[\"date_captured\"].str.replace(\"Dec\",\"12\")\n",
    "\n",
    "dataset[\"date_captured\"] = pd.to_datetime(dataset[\"date_captured\"],format='%m-%d-%Y',errors='coerce')\n",
    "dataset[\"date_captured\"]\n"
   ]
  },
  {
   "cell_type": "code",
   "execution_count": 234,
   "id": "773eb1d4",
   "metadata": {},
   "outputs": [
    {
     "name": "stdout",
     "output_type": "stream",
     "text": [
      "The unique value count for the date_fueled column is given by:\n"
     ]
    },
    {
     "data": {
      "text/plain": [
       "2016-08-31    4346\n",
       "2017-03-06    3363\n",
       "2016-09-01    3311\n",
       "2022-04-09    2888\n",
       "2022-04-10    2737\n",
       "              ... \n",
       "2008-10-18       1\n",
       "2008-08-17       1\n",
       "2009-08-13       1\n",
       "2008-12-26       1\n",
       "2009-01-29       1\n",
       "Name: date_captured, Length: 4999, dtype: int64"
      ]
     },
     "metadata": {},
     "output_type": "display_data"
    },
    {
     "name": "stdout",
     "output_type": "stream",
     "text": [
      "\n",
      "\n",
      "The number of invalid dates =  0\n",
      "The percentage of invalid dates =  0.0 %\n"
     ]
    }
   ],
   "source": [
    "print(\"The unique value count for the date_fueled column is given by:\")\n",
    "unique_values = dataset[\"date_captured\"].isnull()\n",
    "display(dataset[\"date_captured\"].value_counts(dropna=False))\n",
    "u_count = len(np.where(unique_values == True)[0])\n",
    "\n",
    "print(\"\\n\")\n",
    "print(\"The number of invalid dates = \",u_count)\n",
    "print(\"The percentage of invalid dates = \",(u_count/dataset.shape[0])*100,\"%\")"
   ]
  },
  {
   "cell_type": "code",
   "execution_count": 235,
   "id": "e0fd7604",
   "metadata": {},
   "outputs": [
    {
     "name": "stdout",
     "output_type": "stream",
     "text": [
      "The date_captured entries that were in the future or that are earlier than 2005:\n"
     ]
    },
    {
     "ename": "TypeError",
     "evalue": "Invalid comparison between dtype=datetime64[ns] and date",
     "output_type": "error",
     "traceback": [
      "\u001b[0;31m---------------------------------------------------------------------------\u001b[0m",
      "\u001b[0;31mInvalidComparison\u001b[0m                         Traceback (most recent call last)",
      "\u001b[0;32m/usr/local/anaconda3/lib/python3.8/site-packages/pandas/core/arrays/datetimelike.py\u001b[0m in \u001b[0;36mwrapper\u001b[0;34m(self, other)\u001b[0m\n\u001b[1;32m    115\u001b[0m         \u001b[0;32mtry\u001b[0m\u001b[0;34m:\u001b[0m\u001b[0;34m\u001b[0m\u001b[0;34m\u001b[0m\u001b[0m\n\u001b[0;32m--> 116\u001b[0;31m             \u001b[0mother\u001b[0m \u001b[0;34m=\u001b[0m \u001b[0m_validate_comparison_value\u001b[0m\u001b[0;34m(\u001b[0m\u001b[0mself\u001b[0m\u001b[0;34m,\u001b[0m \u001b[0mother\u001b[0m\u001b[0;34m)\u001b[0m\u001b[0;34m\u001b[0m\u001b[0;34m\u001b[0m\u001b[0m\n\u001b[0m\u001b[1;32m    117\u001b[0m         \u001b[0;32mexcept\u001b[0m \u001b[0mInvalidComparison\u001b[0m\u001b[0;34m:\u001b[0m\u001b[0;34m\u001b[0m\u001b[0;34m\u001b[0m\u001b[0m\n",
      "\u001b[0;32m/usr/local/anaconda3/lib/python3.8/site-packages/pandas/core/arrays/datetimelike.py\u001b[0m in \u001b[0;36m_validate_comparison_value\u001b[0;34m(self, other)\u001b[0m\n\u001b[1;32m     95\u001b[0m         \u001b[0;32melif\u001b[0m \u001b[0;32mnot\u001b[0m \u001b[0mis_list_like\u001b[0m\u001b[0;34m(\u001b[0m\u001b[0mother\u001b[0m\u001b[0;34m)\u001b[0m\u001b[0;34m:\u001b[0m\u001b[0;34m\u001b[0m\u001b[0;34m\u001b[0m\u001b[0m\n\u001b[0;32m---> 96\u001b[0;31m             \u001b[0;32mraise\u001b[0m \u001b[0mInvalidComparison\u001b[0m\u001b[0;34m(\u001b[0m\u001b[0mother\u001b[0m\u001b[0;34m)\u001b[0m\u001b[0;34m\u001b[0m\u001b[0;34m\u001b[0m\u001b[0m\n\u001b[0m\u001b[1;32m     97\u001b[0m \u001b[0;34m\u001b[0m\u001b[0m\n",
      "\u001b[0;31mInvalidComparison\u001b[0m: 2022-05-01",
      "\nDuring handling of the above exception, another exception occurred:\n",
      "\u001b[0;31mTypeError\u001b[0m                                 Traceback (most recent call last)",
      "\u001b[0;32m<ipython-input-235-d28ce98033a2>\u001b[0m in \u001b[0;36m<module>\u001b[0;34m\u001b[0m\n\u001b[1;32m      1\u001b[0m \u001b[0mprint\u001b[0m\u001b[0;34m(\u001b[0m\u001b[0;34m\"The date_captured entries that were in the future or that are earlier than 2005:\"\u001b[0m\u001b[0;34m)\u001b[0m\u001b[0;34m\u001b[0m\u001b[0;34m\u001b[0m\u001b[0m\n\u001b[0;32m----> 2\u001b[0;31m \u001b[0mdate_captured_filtered_df\u001b[0m \u001b[0;34m=\u001b[0m \u001b[0mdataset\u001b[0m\u001b[0;34m.\u001b[0m\u001b[0mloc\u001b[0m\u001b[0;34m[\u001b[0m\u001b[0;34m(\u001b[0m\u001b[0mdataset\u001b[0m\u001b[0;34m[\u001b[0m\u001b[0;34m'date_fueled'\u001b[0m\u001b[0;34m]\u001b[0m \u001b[0;34m>=\u001b[0m \u001b[0mtoday\u001b[0m\u001b[0;34m)\u001b[0m \u001b[0;34m&\u001b[0m \u001b[0;34m(\u001b[0m\u001b[0mdataset\u001b[0m\u001b[0;34m[\u001b[0m\u001b[0;34m'date_fueled'\u001b[0m\u001b[0;34m]\u001b[0m \u001b[0;34m<\u001b[0m \u001b[0;34m'2005-01-01'\u001b[0m\u001b[0;34m)\u001b[0m\u001b[0;34m]\u001b[0m\u001b[0;34m\u001b[0m\u001b[0;34m\u001b[0m\u001b[0m\n\u001b[0m\u001b[1;32m      3\u001b[0m \u001b[0mdisplay\u001b[0m\u001b[0;34m(\u001b[0m\u001b[0mdate_captured_filtered_df\u001b[0m\u001b[0;34m)\u001b[0m\u001b[0;34m\u001b[0m\u001b[0;34m\u001b[0m\u001b[0m\n\u001b[1;32m      4\u001b[0m \u001b[0;34m\u001b[0m\u001b[0m\n",
      "\u001b[0;32m/usr/local/anaconda3/lib/python3.8/site-packages/pandas/core/ops/common.py\u001b[0m in \u001b[0;36mnew_method\u001b[0;34m(self, other)\u001b[0m\n\u001b[1;32m     63\u001b[0m         \u001b[0mother\u001b[0m \u001b[0;34m=\u001b[0m \u001b[0mitem_from_zerodim\u001b[0m\u001b[0;34m(\u001b[0m\u001b[0mother\u001b[0m\u001b[0;34m)\u001b[0m\u001b[0;34m\u001b[0m\u001b[0;34m\u001b[0m\u001b[0m\n\u001b[1;32m     64\u001b[0m \u001b[0;34m\u001b[0m\u001b[0m\n\u001b[0;32m---> 65\u001b[0;31m         \u001b[0;32mreturn\u001b[0m \u001b[0mmethod\u001b[0m\u001b[0;34m(\u001b[0m\u001b[0mself\u001b[0m\u001b[0;34m,\u001b[0m \u001b[0mother\u001b[0m\u001b[0;34m)\u001b[0m\u001b[0;34m\u001b[0m\u001b[0;34m\u001b[0m\u001b[0m\n\u001b[0m\u001b[1;32m     66\u001b[0m \u001b[0;34m\u001b[0m\u001b[0m\n\u001b[1;32m     67\u001b[0m     \u001b[0;32mreturn\u001b[0m \u001b[0mnew_method\u001b[0m\u001b[0;34m\u001b[0m\u001b[0;34m\u001b[0m\u001b[0m\n",
      "\u001b[0;32m/usr/local/anaconda3/lib/python3.8/site-packages/pandas/core/ops/__init__.py\u001b[0m in \u001b[0;36mwrapper\u001b[0;34m(self, other)\u001b[0m\n\u001b[1;32m    368\u001b[0m         \u001b[0mrvalues\u001b[0m \u001b[0;34m=\u001b[0m \u001b[0mextract_array\u001b[0m\u001b[0;34m(\u001b[0m\u001b[0mother\u001b[0m\u001b[0;34m,\u001b[0m \u001b[0mextract_numpy\u001b[0m\u001b[0;34m=\u001b[0m\u001b[0;32mTrue\u001b[0m\u001b[0;34m)\u001b[0m\u001b[0;34m\u001b[0m\u001b[0;34m\u001b[0m\u001b[0m\n\u001b[1;32m    369\u001b[0m \u001b[0;34m\u001b[0m\u001b[0m\n\u001b[0;32m--> 370\u001b[0;31m         \u001b[0mres_values\u001b[0m \u001b[0;34m=\u001b[0m \u001b[0mcomparison_op\u001b[0m\u001b[0;34m(\u001b[0m\u001b[0mlvalues\u001b[0m\u001b[0;34m,\u001b[0m \u001b[0mrvalues\u001b[0m\u001b[0;34m,\u001b[0m \u001b[0mop\u001b[0m\u001b[0;34m)\u001b[0m\u001b[0;34m\u001b[0m\u001b[0;34m\u001b[0m\u001b[0m\n\u001b[0m\u001b[1;32m    371\u001b[0m \u001b[0;34m\u001b[0m\u001b[0m\n\u001b[1;32m    372\u001b[0m         \u001b[0;32mreturn\u001b[0m \u001b[0mself\u001b[0m\u001b[0;34m.\u001b[0m\u001b[0m_construct_result\u001b[0m\u001b[0;34m(\u001b[0m\u001b[0mres_values\u001b[0m\u001b[0;34m,\u001b[0m \u001b[0mname\u001b[0m\u001b[0;34m=\u001b[0m\u001b[0mres_name\u001b[0m\u001b[0;34m)\u001b[0m\u001b[0;34m\u001b[0m\u001b[0;34m\u001b[0m\u001b[0m\n",
      "\u001b[0;32m/usr/local/anaconda3/lib/python3.8/site-packages/pandas/core/ops/array_ops.py\u001b[0m in \u001b[0;36mcomparison_op\u001b[0;34m(left, right, op)\u001b[0m\n\u001b[1;32m    228\u001b[0m     \u001b[0;32mif\u001b[0m \u001b[0mshould_extension_dispatch\u001b[0m\u001b[0;34m(\u001b[0m\u001b[0mlvalues\u001b[0m\u001b[0;34m,\u001b[0m \u001b[0mrvalues\u001b[0m\u001b[0;34m)\u001b[0m\u001b[0;34m:\u001b[0m\u001b[0;34m\u001b[0m\u001b[0;34m\u001b[0m\u001b[0m\n\u001b[1;32m    229\u001b[0m         \u001b[0;31m# Call the method on lvalues\u001b[0m\u001b[0;34m\u001b[0m\u001b[0;34m\u001b[0m\u001b[0;34m\u001b[0m\u001b[0m\n\u001b[0;32m--> 230\u001b[0;31m         \u001b[0mres_values\u001b[0m \u001b[0;34m=\u001b[0m \u001b[0mop\u001b[0m\u001b[0;34m(\u001b[0m\u001b[0mlvalues\u001b[0m\u001b[0;34m,\u001b[0m \u001b[0mrvalues\u001b[0m\u001b[0;34m)\u001b[0m\u001b[0;34m\u001b[0m\u001b[0;34m\u001b[0m\u001b[0m\n\u001b[0m\u001b[1;32m    231\u001b[0m \u001b[0;34m\u001b[0m\u001b[0m\n\u001b[1;32m    232\u001b[0m     \u001b[0;32melif\u001b[0m \u001b[0mis_scalar\u001b[0m\u001b[0;34m(\u001b[0m\u001b[0mrvalues\u001b[0m\u001b[0;34m)\u001b[0m \u001b[0;32mand\u001b[0m \u001b[0misna\u001b[0m\u001b[0;34m(\u001b[0m\u001b[0mrvalues\u001b[0m\u001b[0;34m)\u001b[0m\u001b[0;34m:\u001b[0m\u001b[0;34m\u001b[0m\u001b[0;34m\u001b[0m\u001b[0m\n",
      "\u001b[0;32m/usr/local/anaconda3/lib/python3.8/site-packages/pandas/core/ops/common.py\u001b[0m in \u001b[0;36mnew_method\u001b[0;34m(self, other)\u001b[0m\n\u001b[1;32m     63\u001b[0m         \u001b[0mother\u001b[0m \u001b[0;34m=\u001b[0m \u001b[0mitem_from_zerodim\u001b[0m\u001b[0;34m(\u001b[0m\u001b[0mother\u001b[0m\u001b[0;34m)\u001b[0m\u001b[0;34m\u001b[0m\u001b[0;34m\u001b[0m\u001b[0m\n\u001b[1;32m     64\u001b[0m \u001b[0;34m\u001b[0m\u001b[0m\n\u001b[0;32m---> 65\u001b[0;31m         \u001b[0;32mreturn\u001b[0m \u001b[0mmethod\u001b[0m\u001b[0;34m(\u001b[0m\u001b[0mself\u001b[0m\u001b[0;34m,\u001b[0m \u001b[0mother\u001b[0m\u001b[0;34m)\u001b[0m\u001b[0;34m\u001b[0m\u001b[0;34m\u001b[0m\u001b[0m\n\u001b[0m\u001b[1;32m     66\u001b[0m \u001b[0;34m\u001b[0m\u001b[0m\n\u001b[1;32m     67\u001b[0m     \u001b[0;32mreturn\u001b[0m \u001b[0mnew_method\u001b[0m\u001b[0;34m\u001b[0m\u001b[0;34m\u001b[0m\u001b[0m\n",
      "\u001b[0;32m/usr/local/anaconda3/lib/python3.8/site-packages/pandas/core/arrays/datetimelike.py\u001b[0m in \u001b[0;36mwrapper\u001b[0;34m(self, other)\u001b[0m\n\u001b[1;32m    116\u001b[0m             \u001b[0mother\u001b[0m \u001b[0;34m=\u001b[0m \u001b[0m_validate_comparison_value\u001b[0m\u001b[0;34m(\u001b[0m\u001b[0mself\u001b[0m\u001b[0;34m,\u001b[0m \u001b[0mother\u001b[0m\u001b[0;34m)\u001b[0m\u001b[0;34m\u001b[0m\u001b[0;34m\u001b[0m\u001b[0m\n\u001b[1;32m    117\u001b[0m         \u001b[0;32mexcept\u001b[0m \u001b[0mInvalidComparison\u001b[0m\u001b[0;34m:\u001b[0m\u001b[0;34m\u001b[0m\u001b[0;34m\u001b[0m\u001b[0m\n\u001b[0;32m--> 118\u001b[0;31m             \u001b[0;32mreturn\u001b[0m \u001b[0minvalid_comparison\u001b[0m\u001b[0;34m(\u001b[0m\u001b[0mself\u001b[0m\u001b[0;34m,\u001b[0m \u001b[0mother\u001b[0m\u001b[0;34m,\u001b[0m \u001b[0mop\u001b[0m\u001b[0;34m)\u001b[0m\u001b[0;34m\u001b[0m\u001b[0;34m\u001b[0m\u001b[0m\n\u001b[0m\u001b[1;32m    119\u001b[0m \u001b[0;34m\u001b[0m\u001b[0m\n\u001b[1;32m    120\u001b[0m         \u001b[0mdtype\u001b[0m \u001b[0;34m=\u001b[0m \u001b[0mgetattr\u001b[0m\u001b[0;34m(\u001b[0m\u001b[0mother\u001b[0m\u001b[0;34m,\u001b[0m \u001b[0;34m\"dtype\"\u001b[0m\u001b[0;34m,\u001b[0m \u001b[0;32mNone\u001b[0m\u001b[0;34m)\u001b[0m\u001b[0;34m\u001b[0m\u001b[0;34m\u001b[0m\u001b[0m\n",
      "\u001b[0;32m/usr/local/anaconda3/lib/python3.8/site-packages/pandas/core/ops/invalid.py\u001b[0m in \u001b[0;36minvalid_comparison\u001b[0;34m(left, right, op)\u001b[0m\n\u001b[1;32m     32\u001b[0m     \u001b[0;32melse\u001b[0m\u001b[0;34m:\u001b[0m\u001b[0;34m\u001b[0m\u001b[0;34m\u001b[0m\u001b[0m\n\u001b[1;32m     33\u001b[0m         \u001b[0mtyp\u001b[0m \u001b[0;34m=\u001b[0m \u001b[0mtype\u001b[0m\u001b[0;34m(\u001b[0m\u001b[0mright\u001b[0m\u001b[0;34m)\u001b[0m\u001b[0;34m.\u001b[0m\u001b[0m__name__\u001b[0m\u001b[0;34m\u001b[0m\u001b[0;34m\u001b[0m\u001b[0m\n\u001b[0;32m---> 34\u001b[0;31m         \u001b[0;32mraise\u001b[0m \u001b[0mTypeError\u001b[0m\u001b[0;34m(\u001b[0m\u001b[0;34mf\"Invalid comparison between dtype={left.dtype} and {typ}\"\u001b[0m\u001b[0;34m)\u001b[0m\u001b[0;34m\u001b[0m\u001b[0;34m\u001b[0m\u001b[0m\n\u001b[0m\u001b[1;32m     35\u001b[0m     \u001b[0;32mreturn\u001b[0m \u001b[0mres_values\u001b[0m\u001b[0;34m\u001b[0m\u001b[0;34m\u001b[0m\u001b[0m\n\u001b[1;32m     36\u001b[0m \u001b[0;34m\u001b[0m\u001b[0m\n",
      "\u001b[0;31mTypeError\u001b[0m: Invalid comparison between dtype=datetime64[ns] and date"
     ]
    }
   ],
   "source": [
    "print(\"The date_captured entries that were in the future or that are earlier than 2005:\")\n",
    "date_captured_filtered_df = dataset.loc[(dataset['date_fueled'] >= today) & (dataset['date_fueled'] < '2005-01-01')]\n",
    "display(date_captured_filtered_df)\n",
    "\n"
   ]
  },
  {
   "cell_type": "code",
   "execution_count": null,
   "id": "2dc0b318",
   "metadata": {},
   "outputs": [],
   "source": []
  },
  {
   "cell_type": "markdown",
   "id": "8e1af75f",
   "metadata": {},
   "source": [
    "<h2>3.Odometer</h2>"
   ]
  },
  {
   "cell_type": "code",
   "execution_count": null,
   "id": "75597beb",
   "metadata": {},
   "outputs": [],
   "source": []
  },
  {
   "cell_type": "markdown",
   "id": "6d473925",
   "metadata": {},
   "source": [
    "<h2>4.Gallons</h2>"
   ]
  },
  {
   "cell_type": "code",
   "execution_count": null,
   "id": "a62782da",
   "metadata": {},
   "outputs": [],
   "source": []
  },
  {
   "cell_type": "markdown",
   "id": "c353a4c4",
   "metadata": {},
   "source": [
    "<h2>5.Cost per gallon</h2>"
   ]
  },
  {
   "cell_type": "code",
   "execution_count": null,
   "id": "a9de6929",
   "metadata": {},
   "outputs": [],
   "source": []
  },
  {
   "cell_type": "markdown",
   "id": "967fdd8e",
   "metadata": {},
   "source": [
    "<h2>6.Total spent</h2>"
   ]
  },
  {
   "cell_type": "code",
   "execution_count": null,
   "id": "952b551d",
   "metadata": {},
   "outputs": [],
   "source": []
  },
  {
   "cell_type": "markdown",
   "id": "ea01dd64",
   "metadata": {},
   "source": [
    "<h2>7.Mile per gallon</h2>"
   ]
  },
  {
   "cell_type": "code",
   "execution_count": null,
   "id": "dd5c06b9",
   "metadata": {},
   "outputs": [],
   "source": []
  },
  {
   "cell_type": "markdown",
   "id": "38dca275",
   "metadata": {},
   "source": [
    "<h2>8.Miles</h2>"
   ]
  },
  {
   "cell_type": "code",
   "execution_count": null,
   "id": "08e5b06f",
   "metadata": {},
   "outputs": [],
   "source": []
  },
  {
   "cell_type": "markdown",
   "id": "b060e9b2",
   "metadata": {},
   "source": [
    "<h1>Feature Engineering</h1>"
   ]
  },
  {
   "cell_type": "code",
   "execution_count": null,
   "id": "2a7cc90e",
   "metadata": {},
   "outputs": [],
   "source": []
  },
  {
   "cell_type": "markdown",
   "id": "46eb9dd5",
   "metadata": {},
   "source": [
    "<h1>Feature Selection</h1>"
   ]
  },
  {
   "cell_type": "code",
   "execution_count": null,
   "id": "ff630e90",
   "metadata": {},
   "outputs": [],
   "source": []
  },
  {
   "cell_type": "code",
   "execution_count": null,
   "id": "ec6cc7af",
   "metadata": {},
   "outputs": [],
   "source": []
  }
 ],
 "metadata": {
  "kernelspec": {
   "display_name": "Python 3",
   "language": "python",
   "name": "python3"
  },
  "language_info": {
   "codemirror_mode": {
    "name": "ipython",
    "version": 3
   },
   "file_extension": ".py",
   "mimetype": "text/x-python",
   "name": "python",
   "nbconvert_exporter": "python",
   "pygments_lexer": "ipython3",
   "version": "3.8.8"
  }
 },
 "nbformat": 4,
 "nbformat_minor": 5
}
