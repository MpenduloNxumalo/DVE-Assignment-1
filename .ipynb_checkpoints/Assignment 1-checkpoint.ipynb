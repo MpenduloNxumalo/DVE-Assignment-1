{
 "cells": [
  {
   "cell_type": "markdown",
   "id": "ec6b835c",
   "metadata": {},
   "source": [
    "<h1> Initialisation Cell</h1>"
   ]
  },
  {
   "cell_type": "code",
   "execution_count": 173,
   "id": "4918b773",
   "metadata": {},
   "outputs": [],
   "source": [
    "import numpy as np\n",
    "import pandas as pd\n",
    "import re\n",
    "from datetime import date\n",
    "import matplotlib.pyplot as plt\n",
    "import seaborn as sns\n",
    "import math"
   ]
  },
  {
   "cell_type": "markdown",
   "id": "5e8ff2da",
   "metadata": {},
   "source": [
    "<h1> Importing the Data</h1>"
   ]
  },
  {
   "cell_type": "code",
   "execution_count": 174,
   "id": "26d39b76",
   "metadata": {},
   "outputs": [
    {
     "name": "stderr",
     "output_type": "stream",
     "text": [
      "C:\\Users\\Mpendulo\\anaconda3\\lib\\site-packages\\IPython\\core\\interactiveshell.py:3437: DtypeWarning: Columns (3,6) have mixed types.Specify dtype option on import or set low_memory=False.\n",
      "  exec(code_obj, self.user_global_ns, self.user_ns)\n"
     ]
    },
    {
     "name": "stdout",
     "output_type": "stream",
     "text": [
      "<class 'pandas.core.frame.DataFrame'>\n",
      "RangeIndex: 1174870 entries, 0 to 1174869\n",
      "Data columns (total 9 columns):\n",
      " #   Column           Non-Null Count    Dtype \n",
      "---  ------           --------------    ----- \n",
      " 0   date_fueled      1125700 non-null  object\n",
      " 1   date_captured    1174870 non-null  object\n",
      " 2   odometer         1025716 non-null  object\n",
      " 3   gallons          1100660 non-null  object\n",
      " 4   cost_per_gallon  1094110 non-null  object\n",
      " 5   total_spent      1100660 non-null  object\n",
      " 6   mpg              1100660 non-null  object\n",
      " 7   miles            146274 non-null   object\n",
      " 8   user_url         1174870 non-null  object\n",
      "dtypes: object(9)\n",
      "memory usage: 80.7+ MB\n"
     ]
    },
    {
     "data": {
      "text/html": [
       "<div>\n",
       "<style scoped>\n",
       "    .dataframe tbody tr th:only-of-type {\n",
       "        vertical-align: middle;\n",
       "    }\n",
       "\n",
       "    .dataframe tbody tr th {\n",
       "        vertical-align: top;\n",
       "    }\n",
       "\n",
       "    .dataframe thead th {\n",
       "        text-align: right;\n",
       "    }\n",
       "</style>\n",
       "<table border=\"1\" class=\"dataframe\">\n",
       "  <thead>\n",
       "    <tr style=\"text-align: right;\">\n",
       "      <th></th>\n",
       "      <th>date_fueled</th>\n",
       "      <th>date_captured</th>\n",
       "      <th>odometer</th>\n",
       "      <th>gallons</th>\n",
       "      <th>cost_per_gallon</th>\n",
       "      <th>total_spent</th>\n",
       "      <th>mpg</th>\n",
       "      <th>miles</th>\n",
       "      <th>user_url</th>\n",
       "    </tr>\n",
       "  </thead>\n",
       "  <tbody>\n",
       "    <tr>\n",
       "      <th>0</th>\n",
       "      <td>Cooling System, Heating System, Lights, Spark ...</td>\n",
       "      <td>Apr 7 2022</td>\n",
       "      <td>73,370</td>\n",
       "      <td>NaN</td>\n",
       "      <td>NaN</td>\n",
       "      <td>NaN</td>\n",
       "      <td>NaN</td>\n",
       "      <td>NaN</td>\n",
       "      <td>https://www.somewebsite.com/suzuki/swift/2015/...</td>\n",
       "    </tr>\n",
       "    <tr>\n",
       "      <th>1</th>\n",
       "      <td>Nov 7 2012</td>\n",
       "      <td>Aug 30 2016</td>\n",
       "      <td>11,983</td>\n",
       "      <td>12.120</td>\n",
       "      <td>$5.599</td>\n",
       "      <td>$67.86</td>\n",
       "      <td>31.6</td>\n",
       "      <td>NaN</td>\n",
       "      <td>https://www.somewebsite.com/bmw/x3/2009/461150</td>\n",
       "    </tr>\n",
       "    <tr>\n",
       "      <th>2</th>\n",
       "      <td>Sep 22 2012</td>\n",
       "      <td>Sep 28 2012</td>\n",
       "      <td>98,233</td>\n",
       "      <td>7.991</td>\n",
       "      <td>£5.45</td>\n",
       "      <td>£43.53</td>\n",
       "      <td>28.5</td>\n",
       "      <td>NaN</td>\n",
       "      <td>https://www.somewebsite.com/mercedes-benz/e300...</td>\n",
       "    </tr>\n",
       "    <tr>\n",
       "      <th>3</th>\n",
       "      <td>May 4 2019</td>\n",
       "      <td>May 4 2019</td>\n",
       "      <td>163,802</td>\n",
       "      <td>10.575</td>\n",
       "      <td>£5.11</td>\n",
       "      <td>£54.00</td>\n",
       "      <td>46.8</td>\n",
       "      <td>NaN</td>\n",
       "      <td>https://www.somewebsite.com/bmw/320d/2010/247233</td>\n",
       "    </tr>\n",
       "    <tr>\n",
       "      <th>4</th>\n",
       "      <td>Feb 15 2022</td>\n",
       "      <td>Feb 15 2022</td>\n",
       "      <td>NaN</td>\n",
       "      <td>11.651</td>\n",
       "      <td>$3.029</td>\n",
       "      <td>$35.29</td>\n",
       "      <td>21.0</td>\n",
       "      <td>244.4</td>\n",
       "      <td>https://www.somewebsite.com/honda/passport/201...</td>\n",
       "    </tr>\n",
       "    <tr>\n",
       "      <th>...</th>\n",
       "      <td>...</td>\n",
       "      <td>...</td>\n",
       "      <td>...</td>\n",
       "      <td>...</td>\n",
       "      <td>...</td>\n",
       "      <td>...</td>\n",
       "      <td>...</td>\n",
       "      <td>...</td>\n",
       "      <td>...</td>\n",
       "    </tr>\n",
       "    <tr>\n",
       "      <th>1174865</th>\n",
       "      <td>Feb 19 2020</td>\n",
       "      <td>Feb 19 2020</td>\n",
       "      <td>118,237</td>\n",
       "      <td>13.046</td>\n",
       "      <td>$1.999</td>\n",
       "      <td>$26.08</td>\n",
       "      <td>25.7</td>\n",
       "      <td>NaN</td>\n",
       "      <td>https://www.somewebsite.com/volkswagen/beetle/...</td>\n",
       "    </tr>\n",
       "    <tr>\n",
       "      <th>1174866</th>\n",
       "      <td>Dec 6 2019</td>\n",
       "      <td>Dec 6 2019</td>\n",
       "      <td>141,761</td>\n",
       "      <td>12.637</td>\n",
       "      <td>$2.449</td>\n",
       "      <td>$30.95</td>\n",
       "      <td>20.0</td>\n",
       "      <td>NaN</td>\n",
       "      <td>https://www.somewebsite.com/toyota/avalon/2000...</td>\n",
       "    </tr>\n",
       "    <tr>\n",
       "      <th>1174867</th>\n",
       "      <td>Oct 4 2021</td>\n",
       "      <td>Oct 4 2021</td>\n",
       "      <td>65,029</td>\n",
       "      <td>10.002</td>\n",
       "      <td>$3.449</td>\n",
       "      <td>$34.50</td>\n",
       "      <td>28.5</td>\n",
       "      <td>NaN</td>\n",
       "      <td>https://www.somewebsite.com/fiat/500/2013/909694</td>\n",
       "    </tr>\n",
       "    <tr>\n",
       "      <th>1174868</th>\n",
       "      <td>Jul 26 2021</td>\n",
       "      <td>Jul 26 2021</td>\n",
       "      <td>15,255</td>\n",
       "      <td>10.493</td>\n",
       "      <td>$3.539</td>\n",
       "      <td>$37.13</td>\n",
       "      <td>36.5</td>\n",
       "      <td>NaN</td>\n",
       "      <td>https://www.somewebsite.com/mini/cooper/2019/9...</td>\n",
       "    </tr>\n",
       "    <tr>\n",
       "      <th>1174869</th>\n",
       "      <td>Mar 12 2019</td>\n",
       "      <td>Mar 12 2019</td>\n",
       "      <td>204,774</td>\n",
       "      <td>17.350</td>\n",
       "      <td>$3.199</td>\n",
       "      <td>$55.50</td>\n",
       "      <td>0.0</td>\n",
       "      <td>NaN</td>\n",
       "      <td>https://www.somewebsite.com/lexus/lx470/2001/8...</td>\n",
       "    </tr>\n",
       "  </tbody>\n",
       "</table>\n",
       "<p>1174870 rows × 9 columns</p>\n",
       "</div>"
      ],
      "text/plain": [
       "                                               date_fueled date_captured  \\\n",
       "0        Cooling System, Heating System, Lights, Spark ...    Apr 7 2022   \n",
       "1                                               Nov 7 2012   Aug 30 2016   \n",
       "2                                              Sep 22 2012   Sep 28 2012   \n",
       "3                                               May 4 2019    May 4 2019   \n",
       "4                                              Feb 15 2022   Feb 15 2022   \n",
       "...                                                    ...           ...   \n",
       "1174865                                        Feb 19 2020   Feb 19 2020   \n",
       "1174866                                         Dec 6 2019    Dec 6 2019   \n",
       "1174867                                         Oct 4 2021    Oct 4 2021   \n",
       "1174868                                        Jul 26 2021   Jul 26 2021   \n",
       "1174869                                        Mar 12 2019   Mar 12 2019   \n",
       "\n",
       "         odometer gallons cost_per_gallon total_spent   mpg    miles  \\\n",
       "0         73,370      NaN             NaN         NaN   NaN      NaN   \n",
       "1         11,983   12.120          $5.599      $67.86  31.6      NaN   \n",
       "2         98,233    7.991           £5.45      £43.53  28.5      NaN   \n",
       "3        163,802   10.575           £5.11      £54.00  46.8      NaN   \n",
       "4             NaN  11.651          $3.029      $35.29  21.0   244.4    \n",
       "...           ...     ...             ...         ...   ...      ...   \n",
       "1174865  118,237   13.046          $1.999      $26.08  25.7      NaN   \n",
       "1174866  141,761   12.637          $2.449      $30.95  20.0      NaN   \n",
       "1174867   65,029   10.002          $3.449      $34.50  28.5      NaN   \n",
       "1174868   15,255   10.493          $3.539      $37.13  36.5      NaN   \n",
       "1174869  204,774   17.350          $3.199      $55.50   0.0      NaN   \n",
       "\n",
       "                                                  user_url  \n",
       "0        https://www.somewebsite.com/suzuki/swift/2015/...  \n",
       "1           https://www.somewebsite.com/bmw/x3/2009/461150  \n",
       "2        https://www.somewebsite.com/mercedes-benz/e300...  \n",
       "3         https://www.somewebsite.com/bmw/320d/2010/247233  \n",
       "4        https://www.somewebsite.com/honda/passport/201...  \n",
       "...                                                    ...  \n",
       "1174865  https://www.somewebsite.com/volkswagen/beetle/...  \n",
       "1174866  https://www.somewebsite.com/toyota/avalon/2000...  \n",
       "1174867   https://www.somewebsite.com/fiat/500/2013/909694  \n",
       "1174868  https://www.somewebsite.com/mini/cooper/2019/9...  \n",
       "1174869  https://www.somewebsite.com/lexus/lx470/2001/8...  \n",
       "\n",
       "[1174870 rows x 9 columns]"
      ]
     },
     "execution_count": 174,
     "metadata": {},
     "output_type": "execute_result"
    }
   ],
   "source": [
    "dataset = pd.read_csv(\"logbook_assignment1.csv\")\n",
    "dataset.info()\n",
    "dataset"
   ]
  },
  {
   "cell_type": "markdown",
   "id": "3122ce67",
   "metadata": {},
   "source": [
    "<h1>Helper Functions</h1>"
   ]
  },
  {
   "cell_type": "code",
   "execution_count": 175,
   "id": "3a94fbb3",
   "metadata": {},
   "outputs": [],
   "source": [
    "def currency(cost):\n",
    "    cost=str(cost)\n",
    "    for i in range(len(cost)):\n",
    "        if cost[i].isnumeric():\n",
    "            return cost[:i]\n",
    "    return None\n",
    "\n",
    "def to_num(number):\n",
    "        num=number.replace(\",\",\"\")\n",
    "        return num\n",
    "\n",
    "def float_val(cost):\n",
    "    cost=str(cost)\n",
    "    for i in range(len(cost)):\n",
    "        if cost[i].isnumeric():\n",
    "            return float(to_num(cost[i:]))\n",
    "    return np.nan\n",
    "\n",
    "def car(url):\n",
    "    url=str(url)\n",
    "    url=url[28:]\n",
    "    list=url.split(\"/\")    \n",
    "    if (len(list)!=5):\n",
    "        return list[0]\n",
    "    else:\n",
    "        return list[1]\n",
    "\n",
    "def model(url):\n",
    "    url=str(url)\n",
    "    url=url[28:]\n",
    "    lists=url.split(\"/\")\n",
    "    if(len(lists) == 3):\n",
    "        return None\n",
    "    elif (len(lists)==4):\n",
    "        return lists[1]\n",
    "    else:\n",
    "        return lists[2]\n",
    "                   \n",
    "def year(url):\n",
    "    url=str(url)\n",
    "    url=url[28:]\n",
    "    list=url.split(\"/\")\n",
    "    if(len(list) == 3):\n",
    "        return list[1]\n",
    "    if (len(list)==4):\n",
    "        return list[2]\n",
    "    #else:\n",
    "    #    return list[3]\n",
    "    return list\n",
    "                   \n",
    "def userID(url):\n",
    "    url=str(url)\n",
    "    url=url[28:]\n",
    "    list=url.split(\"/\")\n",
    "    if(len(list) == 3):\n",
    "        return list[2]\n",
    "    if (len(list)==4):\n",
    "        return list[3]\n",
    "    else:\n",
    "        return list[4]\n",
    "        \n",
    "    "
   ]
  },
  {
   "cell_type": "markdown",
   "id": "75a77aa4",
   "metadata": {},
   "source": [
    "<h1>Data Cleaning</h1>"
   ]
  },
  {
   "cell_type": "markdown",
   "id": "a5bf4f54",
   "metadata": {},
   "source": [
    "<h2>1.date_fueled</h2>"
   ]
  },
  {
   "cell_type": "code",
   "execution_count": 176,
   "id": "925e40b7",
   "metadata": {},
   "outputs": [],
   "source": [
    "dataset[\"date_fueled\"] = dataset[\"date_fueled\"].str.replace(\" \",\"-\")\n",
    "dataset[\"date_fueled\"] = dataset[\"date_fueled\"].str.replace(\"Jan\",\"01\")\n",
    "dataset[\"date_fueled\"] = dataset[\"date_fueled\"].str.replace(\"Feb\",\"02\")\n",
    "dataset[\"date_fueled\"] = dataset[\"date_fueled\"].str.replace(\"Mar\",\"03\")\n",
    "dataset[\"date_fueled\"] = dataset[\"date_fueled\"].str.replace(\"Apr\",\"04\")\n",
    "dataset[\"date_fueled\"] = dataset[\"date_fueled\"].str.replace(\"May\",\"05\")\n",
    "dataset[\"date_fueled\"] = dataset[\"date_fueled\"].str.replace(\"Jun\",\"06\")\n",
    "dataset[\"date_fueled\"] = dataset[\"date_fueled\"].str.replace(\"Jul\",\"07\")\n",
    "dataset[\"date_fueled\"] = dataset[\"date_fueled\"].str.replace(\"Aug\",\"08\")\n",
    "dataset[\"date_fueled\"] = dataset[\"date_fueled\"].str.replace(\"Sep\",\"09\")\n",
    "dataset[\"date_fueled\"] = dataset[\"date_fueled\"].str.replace(\"Oct\",\"10\")\n",
    "dataset[\"date_fueled\"] = dataset[\"date_fueled\"].str.replace(\"Nov\",\"11\")\n",
    "dataset[\"date_fueled\"] = dataset[\"date_fueled\"].str.replace(\"Dec\",\"12\")\n",
    "dataset[\"date_fueled\"] = pd.to_datetime(dataset[\"date_fueled\"],format='%m-%d-%Y',errors='coerce')"
   ]
  },
  {
   "cell_type": "code",
   "execution_count": 177,
   "id": "e76327f4",
   "metadata": {},
   "outputs": [
    {
     "name": "stdout",
     "output_type": "stream",
     "text": [
      "The date_fueled entries that were in the future or that are earlier than 2005:\n"
     ]
    },
    {
     "data": {
      "text/plain": [
       "6953      2001-05-24\n",
       "7568      1997-09-29\n",
       "10812     2003-09-22\n",
       "14771     2002-08-21\n",
       "16159     1997-08-15\n",
       "             ...    \n",
       "1170218   2002-02-21\n",
       "1170962   2000-03-12\n",
       "1171685   2002-02-21\n",
       "1172630   2001-05-06\n",
       "1173873   2003-03-07\n",
       "Name: date_fueled, Length: 688, dtype: datetime64[ns]"
      ]
     },
     "metadata": {},
     "output_type": "display_data"
    },
    {
     "name": "stderr",
     "output_type": "stream",
     "text": [
      "<ipython-input-177-073270bfe6d9>:11: FutureWarning: Comparison of NaT with datetime.date is deprecated in order to match the standard library behavior.  In a future version these will be considered non-comparable.\n",
      "  idx2 = np.where(pd.DatetimeIndex(dataset['date_fueled']).date >= today)\n"
     ]
    },
    {
     "data": {
      "text/plain": [
       "63905     2027-11-17\n",
       "149865    2025-04-20\n",
       "272941    2025-08-09\n",
       "317064    2030-07-10\n",
       "439193    2027-10-10\n",
       "503983    2024-12-10\n",
       "517188    2023-01-02\n",
       "554936    2028-06-07\n",
       "631252    2028-05-09\n",
       "640350    2024-11-10\n",
       "772677    2022-05-10\n",
       "789614    2025-04-19\n",
       "813760    2028-08-10\n",
       "819005    2023-01-26\n",
       "866309    2024-04-20\n",
       "877449    2029-12-09\n",
       "879772    2022-12-01\n",
       "911075    2030-04-07\n",
       "932935    2028-09-09\n",
       "938007    2024-12-07\n",
       "1001628   2029-03-10\n",
       "1029376   2030-04-09\n",
       "1086018   2030-11-08\n",
       "1092503   2022-06-15\n",
       "1100247   2022-12-26\n",
       "1162369   2023-03-08\n",
       "Name: date_fueled, dtype: datetime64[ns]"
      ]
     },
     "metadata": {},
     "output_type": "display_data"
    },
    {
     "name": "stdout",
     "output_type": "stream",
     "text": [
      "Entries that were in the future or that are earlier than 2005 constitute  0.06077268123281725 % of the dataset\n"
     ]
    }
   ],
   "source": [
    "today = date.today()\n",
    "\n",
    "print(\"The date_fueled entries that were in the future or that are earlier than 2005:\")\n",
    "\n",
    "\n",
    "#Years below 2005\n",
    "idx = np.where(pd.DatetimeIndex(dataset['date_fueled']).year <= 2005)\n",
    "display(dataset[\"date_fueled\"].iloc[idx])\n",
    "\n",
    "#Future dates\n",
    "idx2 = np.where(pd.DatetimeIndex(dataset['date_fueled']).date >= today)\n",
    "display(dataset[\"date_fueled\"].iloc[idx2])\n",
    "\n",
    "print(\"Entries that were in the future or that are earlier than 2005 constitute \",((len(idx[0])+len(idx2[0]))/dataset.shape[0])*100,\"% of the dataset\")\n",
    "\n",
    "dataset.drop(idx[0], axis=0, inplace=True)\n",
    "dataset.drop(idx2[0], axis=0, inplace=True)\n",
    "\n"
   ]
  },
  {
   "cell_type": "code",
   "execution_count": 178,
   "id": "62429428",
   "metadata": {},
   "outputs": [
    {
     "data": {
      "text/plain": [
       "Series([], Name: date_fueled, dtype: datetime64[ns])"
      ]
     },
     "metadata": {},
     "output_type": "display_data"
    },
    {
     "name": "stderr",
     "output_type": "stream",
     "text": [
      "<ipython-input-178-16ce151a2330>:6: FutureWarning: Comparison of NaT with datetime.date is deprecated in order to match the standard library behavior.  In a future version these will be considered non-comparable.\n",
      "  idx2 = np.where(pd.DatetimeIndex(dataset['date_fueled']).date >= today)\n"
     ]
    },
    {
     "data": {
      "text/plain": [
       "Series([], Name: date_fueled, dtype: datetime64[ns])"
      ]
     },
     "metadata": {},
     "output_type": "display_data"
    },
    {
     "name": "stdout",
     "output_type": "stream",
     "text": [
      "Entries that were in the future or that are earlier than 2005 have been removed\n"
     ]
    }
   ],
   "source": [
    "#Years below 2005\n",
    "idx = np.where(pd.DatetimeIndex(dataset['date_fueled']).year <= 2005)\n",
    "display(dataset[\"date_fueled\"].iloc[idx])\n",
    "\n",
    "#Future dates\n",
    "idx2 = np.where(pd.DatetimeIndex(dataset['date_fueled']).date >= today)\n",
    "display(dataset[\"date_fueled\"].iloc[idx2])\n",
    "\n",
    "print('Entries that were in the future or that are earlier than 2005 have been removed')"
   ]
  },
  {
   "cell_type": "code",
   "execution_count": 179,
   "id": "033a1370",
   "metadata": {},
   "outputs": [
    {
     "name": "stdout",
     "output_type": "stream",
     "text": [
      "The unique value count for the date_fueled column is given by:\n"
     ]
    },
    {
     "data": {
      "text/plain": [
       "NaT           137209\n",
       "2022-04-09      2375\n",
       "2022-04-08      2283\n",
       "2022-04-10      2165\n",
       "2022-04-01      2029\n",
       "               ...  \n",
       "2006-03-14         1\n",
       "2007-03-21         1\n",
       "2006-12-27         1\n",
       "2008-07-31         1\n",
       "2007-05-28         1\n",
       "Name: date_fueled, Length: 5530, dtype: int64"
      ]
     },
     "metadata": {},
     "output_type": "display_data"
    },
    {
     "name": "stdout",
     "output_type": "stream",
     "text": [
      "\n",
      "\n",
      "The number of invalid dates =  137209\n",
      "The percentage of invalid dates =  11.685755555479851 %\n"
     ]
    }
   ],
   "source": [
    "print(\"The unique value count for the date_fueled column is given by:\")\n",
    "unique_values = dataset[\"date_fueled\"].isnull()\n",
    "\n",
    "unique_values_count = dataset[\"date_fueled\"].value_counts(dropna=False)\n",
    "display(unique_values_count)\n",
    "u_count = len(np.where(unique_values == True)[0])\n",
    "print(\"\\n\")\n",
    "print(\"The number of invalid dates = \",u_count)\n",
    "print(\"The percentage of invalid dates = \",(u_count/dataset.shape[0])*100,\"%\")"
   ]
  },
  {
   "cell_type": "code",
   "execution_count": 180,
   "id": "e12a6b28",
   "metadata": {},
   "outputs": [
    {
     "name": "stdout",
     "output_type": "stream",
     "text": [
      "The unique value count by year for the date_fueled column is given by:\n"
     ]
    },
    {
     "data": {
      "text/plain": [
       "<AxesSubplot:title={'center':'Unique value count by year for the date_fueled'}, ylabel='Year'>"
      ]
     },
     "execution_count": 180,
     "metadata": {},
     "output_type": "execute_result"
    },
    {
     "data": {
      "image/png": "[encoded data removed]",
      "text/plain": [
       "<Figure size 720x720 with 1 Axes>"
      ]
     },
     "metadata": {
      "needs_background": "light"
     },
     "output_type": "display_data"
    }
   ],
   "source": [
    "print(\"The unique value count by year for the date_fueled column is given by:\")\n",
    "year = pd.DatetimeIndex(dataset['date_fueled']).year.value_counts()\n",
    "year.plot.barh(figsize=(10,10) , title='Unique value count by year for the date_fueled', ylabel='Year')"
   ]
  },
  {
   "cell_type": "code",
   "execution_count": 181,
   "id": "4e3f03f7",
   "metadata": {},
   "outputs": [
    {
     "name": "stdout",
     "output_type": "stream",
     "text": [
      "The unique value count by month for the date_fueled column is given by:\n"
     ]
    },
    {
     "data": {
      "text/plain": [
       "<AxesSubplot:title={'center':'Unique value count by month'}, ylabel='Month'>"
      ]
     },
     "execution_count": 181,
     "metadata": {},
     "output_type": "execute_result"
    },
    {
     "data": {
      "image/png": "[encoded data removed]",
      "text/plain": [
       "<Figure size 720x720 with 1 Axes>"
      ]
     },
     "metadata": {
      "needs_background": "light"
     },
     "output_type": "display_data"
    }
   ],
   "source": [
    "print(\"The unique value count by month for the date_fueled column is given by:\")\n",
    "year = pd.DatetimeIndex(dataset['date_fueled']).month.value_counts()\n",
    "year.plot.barh(figsize=(10,10), title='Unique value count by month', ylabel='Month')"
   ]
  },
  {
   "cell_type": "code",
   "execution_count": 182,
   "id": "5fa657fb",
   "metadata": {},
   "outputs": [
    {
     "name": "stdout",
     "output_type": "stream",
     "text": [
      "The unique value count by day for the date_fueled column is given by:\n"
     ]
    },
    {
     "data": {
      "text/plain": [
       "<AxesSubplot:title={'center':'Unique value count by day'}, ylabel='Day'>"
      ]
     },
     "execution_count": 182,
     "metadata": {},
     "output_type": "execute_result"
    },
    {
     "data": {
      "image/png": "[encoded data removed]",
      "text/plain": [
       "<Figure size 720x720 with 1 Axes>"
      ]
     },
     "metadata": {
      "needs_background": "light"
     },
     "output_type": "display_data"
    }
   ],
   "source": [
    "print(\"The unique value count by day for the date_fueled column is given by:\")\n",
    "days = dataset[\"date_fueled\"].dt.day_name()\n",
    "days.value_counts().plot.barh(figsize=(10,10),title='Unique value count by day',ylabel='Day')"
   ]
  },
  {
   "cell_type": "markdown",
   "id": "f234640a",
   "metadata": {},
   "source": [
    "<h3>Conclusion</h3>"
   ]
  },
  {
   "cell_type": "markdown",
   "id": "4defa200",
   "metadata": {},
   "source": [
    "<p>After completing the necessary processing, we obtain the following information:/p>\n",
    "\n",
    "<ul>\n",
    "    <li>The invalid dates constitute 11.685765507961046% of the dataset</li>\n",
    "    <li>Entries that were in the future or that are earlier than 2005 constitute  0.06085779703286321 % of the dataset</li>\n",
    "    <li> As the years progress more users refuel their vehicles with 2021 being the year with the most users refueling their vehicles. This indicates as the years progress more individuals have been purchasing vehicles.</li>\n",
    "    <li> The month of March(i.e 3.0) is the month in which most users were refueling their vehicles.</li>\n",
    "    <li> Most users refueled their vehicles on a Friday and Saturday. This could be due to the fact that most individual travel from Friday and Saturday</li>\n",
    "</ul>"
   ]
  },
  {
   "cell_type": "markdown",
   "id": "079338e4",
   "metadata": {},
   "source": [
    "<h2>2.Date_captured</h2>"
   ]
  },
  {
   "cell_type": "code",
   "execution_count": 183,
   "id": "5f1ec98e",
   "metadata": {},
   "outputs": [
    {
     "data": {
      "text/plain": [
       "0         2022-04-07\n",
       "1         2016-08-30\n",
       "2         2012-09-28\n",
       "3         2019-05-04\n",
       "4         2022-02-15\n",
       "             ...    \n",
       "1174865   2020-02-19\n",
       "1174866   2019-12-06\n",
       "1174867   2021-10-04\n",
       "1174868   2021-07-26\n",
       "1174869   2019-03-12\n",
       "Name: date_captured, Length: 1174156, dtype: datetime64[ns]"
      ]
     },
     "execution_count": 183,
     "metadata": {},
     "output_type": "execute_result"
    }
   ],
   "source": [
    "dataset[\"date_captured\"] = dataset[\"date_captured\"].str.replace(\" \",\"-\")\n",
    "dataset[\"date_captured\"] = dataset[\"date_captured\"].str.replace(\"Jan\",\"01\")\n",
    "dataset[\"date_captured\"] = dataset[\"date_captured\"].str.replace(\"Feb\",\"02\")\n",
    "dataset[\"date_captured\"] = dataset[\"date_captured\"].str.replace(\"Mar\",\"03\")\n",
    "dataset[\"date_captured\"] = dataset[\"date_captured\"].str.replace(\"Apr\",\"04\")\n",
    "dataset[\"date_captured\"] = dataset[\"date_captured\"].str.replace(\"May\",\"05\")\n",
    "dataset[\"date_captured\"] = dataset[\"date_captured\"].str.replace(\"Jun\",\"06\")\n",
    "dataset[\"date_captured\"] = dataset[\"date_captured\"].str.replace(\"Jul\",\"07\")\n",
    "dataset[\"date_captured\"] = dataset[\"date_captured\"].str.replace(\"Aug\",\"08\")\n",
    "dataset[\"date_captured\"] = dataset[\"date_captured\"].str.replace(\"Sep\",\"09\")\n",
    "dataset[\"date_captured\"] = dataset[\"date_captured\"].str.replace(\"Oct\",\"10\")\n",
    "dataset[\"date_captured\"] = dataset[\"date_captured\"].str.replace(\"Nov\",\"11\")\n",
    "dataset[\"date_captured\"] = dataset[\"date_captured\"].str.replace(\"Dec\",\"12\")\n",
    "dataset[\"date_captured\"] = pd.to_datetime(dataset[\"date_captured\"],format='%m-%d-%Y',errors='coerce')\n",
    "dataset[\"date_captured\"]\n"
   ]
  },
  {
   "cell_type": "code",
   "execution_count": 184,
   "id": "2b8576f8",
   "metadata": {},
   "outputs": [
    {
     "name": "stdout",
     "output_type": "stream",
     "text": [
      "The date_captured entries that were in the future or that are earlier than 2005:\n"
     ]
    },
    {
     "data": {
      "text/plain": [
       "Series([], Name: date_captured, dtype: datetime64[ns])"
      ]
     },
     "metadata": {},
     "output_type": "display_data"
    },
    {
     "data": {
      "text/plain": [
       "Series([], Name: date_captured, dtype: datetime64[ns])"
      ]
     },
     "metadata": {},
     "output_type": "display_data"
    },
    {
     "name": "stdout",
     "output_type": "stream",
     "text": [
      "Entries that were in the future or that are earlier than 2005 constitute  0.0 % of the dataset\n"
     ]
    }
   ],
   "source": [
    "today = date.today()\n",
    "\n",
    "print(\"The date_captured entries that were in the future or that are earlier than 2005:\")\n",
    "\n",
    "\n",
    "#Years below 2005\n",
    "idx = np.where(pd.DatetimeIndex(dataset['date_captured']).year <= 2005)\n",
    "display(dataset[\"date_captured\"].iloc[idx])\n",
    "\n",
    "#Future dates\n",
    "idx2 = np.where(pd.DatetimeIndex(dataset['date_captured']).date >= today)\n",
    "display(dataset[\"date_captured\"].iloc[idx2])\n",
    "\n",
    "print(\"Entries that were in the future or that are earlier than 2005 constitute \",((len(idx[0])+len(idx2[0]))/dataset.shape[0])*100,\"% of the dataset\")\n",
    "\n",
    "dataset.drop(idx[0], axis=0, inplace=True)\n",
    "dataset.drop(idx2[0], axis=0, inplace=True)"
   ]
  },
  {
   "cell_type": "code",
   "execution_count": 185,
   "id": "16e37b81",
   "metadata": {},
   "outputs": [
    {
     "name": "stdout",
     "output_type": "stream",
     "text": [
      "The unique value count for the date_captured column is given by:\n"
     ]
    },
    {
     "data": {
      "text/plain": [
       "2016-08-31    4346\n",
       "2017-03-06    3363\n",
       "2016-09-01    3311\n",
       "2022-04-09    2888\n",
       "2022-04-10    2737\n",
       "              ... \n",
       "2008-11-15       1\n",
       "2009-08-13       1\n",
       "2008-08-17       1\n",
       "2008-10-18       1\n",
       "2008-12-26       1\n",
       "Name: date_captured, Length: 4999, dtype: int64"
      ]
     },
     "metadata": {},
     "output_type": "display_data"
    },
    {
     "name": "stdout",
     "output_type": "stream",
     "text": [
      "\n",
      "\n",
      "The number of invalid dates =  0\n",
      "The percentage of invalid dates =  0.0 %\n"
     ]
    }
   ],
   "source": [
    "print(\"The unique value count for the date_captured column is given by:\")\n",
    "unique_values = dataset[\"date_captured\"].isnull()\n",
    "display(dataset[\"date_captured\"].value_counts(dropna=False))\n",
    "u_count = len(np.where(unique_values == True)[0])\n",
    "\n",
    "print(\"\\n\")\n",
    "print(\"The number of invalid dates = \",u_count)\n",
    "print(\"The percentage of invalid dates = \",(u_count/dataset.shape[0])*100,\"%\")"
   ]
  },
  {
   "cell_type": "code",
   "execution_count": 186,
   "id": "c19fc654",
   "metadata": {},
   "outputs": [
    {
     "name": "stdout",
     "output_type": "stream",
     "text": [
      "The unique value count by year for the date_captured column is given by:\n"
     ]
    },
    {
     "data": {
      "text/plain": [
       "<AxesSubplot:title={'center':'Unique value count by year for the date_captured'}, ylabel='Year'>"
      ]
     },
     "execution_count": 186,
     "metadata": {},
     "output_type": "execute_result"
    },
    {
     "data": {
      "image/png": "[encoded data removed]",
      "text/plain": [
       "<Figure size 720x720 with 1 Axes>"
      ]
     },
     "metadata": {
      "needs_background": "light"
     },
     "output_type": "display_data"
    }
   ],
   "source": [
    "print(\"The unique value count by year for the date_captured column is given by:\")\n",
    "year = pd.DatetimeIndex(dataset['date_captured']).year.value_counts()\n",
    "year.plot.barh(figsize=(10,10) , title='Unique value count by year for the date_captured', ylabel='Year')"
   ]
  },
  {
   "cell_type": "code",
   "execution_count": 187,
   "id": "13ea5204",
   "metadata": {},
   "outputs": [
    {
     "name": "stdout",
     "output_type": "stream",
     "text": [
      "The unique value count by month for the date_captured column is given by:\n"
     ]
    },
    {
     "data": {
      "text/plain": [
       "<AxesSubplot:title={'center':'Unique value count by month'}, ylabel='Month'>"
      ]
     },
     "execution_count": 187,
     "metadata": {},
     "output_type": "execute_result"
    },
    {
     "data": {
      "image/png": "[encoded data removed]",
      "text/plain": [
       "<Figure size 720x720 with 1 Axes>"
      ]
     },
     "metadata": {
      "needs_background": "light"
     },
     "output_type": "display_data"
    }
   ],
   "source": [
    "print(\"The unique value count by month for the date_captured column is given by:\")\n",
    "month = pd.DatetimeIndex(dataset['date_captured']).month.value_counts()\n",
    "month.plot.barh(figsize=(10,10), title='Unique value count by month', ylabel='Month')"
   ]
  },
  {
   "cell_type": "code",
   "execution_count": 188,
   "id": "251d4639",
   "metadata": {},
   "outputs": [
    {
     "name": "stdout",
     "output_type": "stream",
     "text": [
      "The unique value count by day for the date_captured column is given by:\n"
     ]
    },
    {
     "data": {
      "text/plain": [
       "<AxesSubplot:title={'center':'Unique value count by day'}, ylabel='Day'>"
      ]
     },
     "execution_count": 188,
     "metadata": {},
     "output_type": "execute_result"
    },
    {
     "data": {
      "image/png": "[encoded data removed]",
      "text/plain": [
       "<Figure size 720x720 with 1 Axes>"
      ]
     },
     "metadata": {
      "needs_background": "light"
     },
     "output_type": "display_data"
    }
   ],
   "source": [
    "print(\"The unique value count by day for the date_captured column is given by:\")\n",
    "days = dataset[\"date_captured\"].dt.day_name()\n",
    "days.value_counts().plot.barh(figsize=(10,10),title='Unique value count by day',ylabel='Day')"
   ]
  },
  {
   "cell_type": "markdown",
   "id": "192cf805",
   "metadata": {},
   "source": [
    "<h3>Conclusion</h3>"
   ]
  },
  {
   "cell_type": "code",
   "execution_count": null,
   "id": "bad0c741",
   "metadata": {},
   "outputs": [],
   "source": []
  },
  {
   "cell_type": "markdown",
   "id": "035ee89d",
   "metadata": {},
   "source": [
    "<h2>3.Odometer</h2>"
   ]
  },
  {
   "cell_type": "code",
   "execution_count": 189,
   "id": "f81375cf",
   "metadata": {},
   "outputs": [
    {
     "data": {
      "text/plain": [
       "0           73370 \n",
       "1           11983 \n",
       "2           98233 \n",
       "3          163802 \n",
       "4              NaN\n",
       "            ...   \n",
       "1174865    118237 \n",
       "1174866    141761 \n",
       "1174867     65029 \n",
       "1174868     15255 \n",
       "1174869    204774 \n",
       "Name: odometer, Length: 1174156, dtype: object"
      ]
     },
     "execution_count": 189,
     "metadata": {},
     "output_type": "execute_result"
    }
   ],
   "source": [
    "#Remove the delimiter\n",
    "dataset[\"odometer\"] = dataset[\"odometer\"].str.replace(\",\",\"\")\n",
    "dataset[\"odometer\"]"
   ]
  },
  {
   "cell_type": "code",
   "execution_count": 190,
   "id": "dda9648d",
   "metadata": {},
   "outputs": [
    {
     "data": {
      "text/plain": [
       "0           73370.0\n",
       "1           11983.0\n",
       "2           98233.0\n",
       "3          163802.0\n",
       "4               NaN\n",
       "             ...   \n",
       "1174865    118237.0\n",
       "1174866    141761.0\n",
       "1174867     65029.0\n",
       "1174868     15255.0\n",
       "1174869    204774.0\n",
       "Name: odometer, Length: 1174156, dtype: float64"
      ]
     },
     "execution_count": 190,
     "metadata": {},
     "output_type": "execute_result"
    }
   ],
   "source": [
    "#Convert to appropriate dtype(i.e float64)\n",
    "dataset[\"odometer\"] = pd.to_numeric(dataset['odometer'],errors = 'coerce')\n",
    "dataset[\"odometer\"]"
   ]
  },
  {
   "cell_type": "code",
   "execution_count": 191,
   "id": "3e2fc223",
   "metadata": {},
   "outputs": [
    {
     "name": "stdout",
     "output_type": "stream",
     "text": [
      "The odometer column consist of  149004  missing values which constitute  12.69030690981437 % of the odometer column\n"
     ]
    }
   ],
   "source": [
    "#Assess number of missing values\n",
    "NaN_count = dataset[\"odometer\"].isna().sum()\n",
    "print(\"The odometer column consist of \",NaN_count,\" missing values which constitute \",(NaN_count/dataset['odometer'].shape[0])*100,\"% of the odometer column\")"
   ]
  },
  {
   "cell_type": "code",
   "execution_count": 192,
   "id": "9b0e540f",
   "metadata": {},
   "outputs": [
    {
     "data": {
      "text/plain": [
       "count    1.025152e+06\n",
       "mean     1.040020e+05\n",
       "std      3.406155e+05\n",
       "min      0.000000e+00\n",
       "25%      4.592400e+04\n",
       "50%      9.188700e+04\n",
       "75%      1.469260e+05\n",
       "max      2.543621e+08\n",
       "Name: odometer, dtype: float64"
      ]
     },
     "metadata": {},
     "output_type": "display_data"
    }
   ],
   "source": [
    "#Provide Statistical Summary of odometer column\n",
    "display(dataset[\"odometer\"].describe())"
   ]
  },
  {
   "cell_type": "markdown",
   "id": "df11704d",
   "metadata": {},
   "source": [
    "<h2>4.Gallons</h2>"
   ]
  },
  {
   "cell_type": "code",
   "execution_count": 193,
   "id": "c685300e",
   "metadata": {},
   "outputs": [
    {
     "data": {
      "text/plain": [
       "0             NaN\n",
       "1          12.120\n",
       "2           7.991\n",
       "3          10.575\n",
       "4          11.651\n",
       "            ...  \n",
       "1174865    13.046\n",
       "1174866    12.637\n",
       "1174867    10.002\n",
       "1174868    10.493\n",
       "1174869    17.350\n",
       "Name: gallons, Length: 1174156, dtype: object"
      ]
     },
     "execution_count": 193,
     "metadata": {},
     "output_type": "execute_result"
    }
   ],
   "source": [
    "#Remove the delimiter\n",
    "dataset[\"gallons\"] = dataset[\"gallons\"].str.replace(\",\",\"\")\n",
    "dataset[\"gallons\"]"
   ]
  },
  {
   "cell_type": "code",
   "execution_count": 194,
   "id": "c39f7006",
   "metadata": {},
   "outputs": [
    {
     "data": {
      "text/plain": [
       "0             NaN\n",
       "1          12.120\n",
       "2           7.991\n",
       "3          10.575\n",
       "4          11.651\n",
       "            ...  \n",
       "1174865    13.046\n",
       "1174866    12.637\n",
       "1174867    10.002\n",
       "1174868    10.493\n",
       "1174869    17.350\n",
       "Name: gallons, Length: 1174156, dtype: float64"
      ]
     },
     "execution_count": 194,
     "metadata": {},
     "output_type": "execute_result"
    }
   ],
   "source": [
    "#Convert to appropriate dtype(i.e float64)\n",
    "dataset[\"gallons\"] = pd.to_numeric(dataset['gallons'],errors = 'coerce')\n",
    "dataset[\"gallons\"]"
   ]
  },
  {
   "cell_type": "code",
   "execution_count": null,
   "id": "3c8c8cc7",
   "metadata": {},
   "outputs": [],
   "source": []
  },
  {
   "cell_type": "code",
   "execution_count": 195,
   "id": "9182c93f",
   "metadata": {},
   "outputs": [
    {
     "data": {
      "text/plain": [
       "count    1.038672e+06\n",
       "mean     1.282238e+01\n",
       "std      7.663733e+01\n",
       "min      0.000000e+00\n",
       "25%      8.991000e+00\n",
       "50%      1.195400e+01\n",
       "75%      1.493900e+01\n",
       "max      2.838000e+04\n",
       "Name: gallons, dtype: float64"
      ]
     },
     "metadata": {},
     "output_type": "display_data"
    }
   ],
   "source": [
    "#Provide Statistical Summary of odometer column\n",
    "display(dataset[\"gallons\"].describe())"
   ]
  },
  {
   "cell_type": "code",
   "execution_count": null,
   "id": "74966575",
   "metadata": {},
   "outputs": [],
   "source": []
  },
  {
   "cell_type": "markdown",
   "id": "098c4499",
   "metadata": {},
   "source": [
    "<h2>5.Mile per gallon</h2>"
   ]
  },
  {
   "cell_type": "code",
   "execution_count": 196,
   "id": "f73aa0d3",
   "metadata": {},
   "outputs": [
    {
     "data": {
      "text/plain": [
       "0           NaN\n",
       "1          31.6\n",
       "2          28.5\n",
       "3          46.8\n",
       "4          21.0\n",
       "           ... \n",
       "1174865     NaN\n",
       "1174866     NaN\n",
       "1174867     NaN\n",
       "1174868     NaN\n",
       "1174869     NaN\n",
       "Name: mpg, Length: 1174156, dtype: object"
      ]
     },
     "execution_count": 196,
     "metadata": {},
     "output_type": "execute_result"
    }
   ],
   "source": [
    "#Remove the delimiter\n",
    "dataset[\"mpg\"] = dataset[\"mpg\"].str.replace(\",\",\"\")\n",
    "dataset[\"mpg\"]"
   ]
  },
  {
   "cell_type": "code",
   "execution_count": 197,
   "id": "2b92e97c",
   "metadata": {},
   "outputs": [
    {
     "data": {
      "text/plain": [
       "0           NaN\n",
       "1          31.6\n",
       "2          28.5\n",
       "3          46.8\n",
       "4          21.0\n",
       "           ... \n",
       "1174865     NaN\n",
       "1174866     NaN\n",
       "1174867     NaN\n",
       "1174868     NaN\n",
       "1174869     NaN\n",
       "Name: mpg, Length: 1174156, dtype: float64"
      ]
     },
     "execution_count": 197,
     "metadata": {},
     "output_type": "execute_result"
    }
   ],
   "source": [
    "#Convert to appropriate dtype(i.e float64)\n",
    "dataset[\"mpg\"] = pd.to_numeric(dataset['mpg'],errors = 'coerce')\n",
    "dataset[\"mpg\"]"
   ]
  },
  {
   "cell_type": "markdown",
   "id": "0ef5c35a",
   "metadata": {},
   "source": [
    "<h2>6.Miles</h2>"
   ]
  },
  {
   "cell_type": "code",
   "execution_count": 198,
   "id": "1184b887",
   "metadata": {},
   "outputs": [
    {
     "data": {
      "text/plain": [
       "0              NaN\n",
       "1              NaN\n",
       "2              NaN\n",
       "3              NaN\n",
       "4           244.4 \n",
       "            ...   \n",
       "1174865        NaN\n",
       "1174866        NaN\n",
       "1174867        NaN\n",
       "1174868        NaN\n",
       "1174869        NaN\n",
       "Name: miles, Length: 1174156, dtype: object"
      ]
     },
     "execution_count": 198,
     "metadata": {},
     "output_type": "execute_result"
    }
   ],
   "source": [
    "#Remove the delimiter\n",
    "dataset[\"miles\"] = dataset[\"miles\"].str.replace(\",\",\"\")\n",
    "dataset[\"miles\"]"
   ]
  },
  {
   "cell_type": "code",
   "execution_count": 199,
   "id": "023a4a9b",
   "metadata": {},
   "outputs": [
    {
     "data": {
      "text/plain": [
       "0            NaN\n",
       "1            NaN\n",
       "2            NaN\n",
       "3            NaN\n",
       "4          244.4\n",
       "           ...  \n",
       "1174865      NaN\n",
       "1174866      NaN\n",
       "1174867      NaN\n",
       "1174868      NaN\n",
       "1174869      NaN\n",
       "Name: miles, Length: 1174156, dtype: float64"
      ]
     },
     "execution_count": 199,
     "metadata": {},
     "output_type": "execute_result"
    }
   ],
   "source": [
    "#Convert to appropriate dtype(i.e float64)\n",
    "dataset[\"miles\"] = pd.to_numeric(dataset['miles'],errors = 'coerce')\n",
    "dataset[\"miles\"]"
   ]
  },
  {
   "cell_type": "markdown",
   "id": "fc3fb90e",
   "metadata": {},
   "source": [
    "<h3>Before Adding Constructable Values</h3>"
   ]
  },
  {
   "cell_type": "code",
   "execution_count": 200,
   "id": "71951329",
   "metadata": {},
   "outputs": [
    {
     "name": "stdout",
     "output_type": "stream",
     "text": [
      "The gallons column consist of  135484  missing values which constitute  11.538841516800153 % of the gallons column\n",
      "The mpg column consist of  990163  missing values which constitute  84.32976538040941 % of the mpg column\n",
      "The miles column consist of  1028031  missing values which constitute  87.55489049155308 % of the miles column\n"
     ]
    }
   ],
   "source": [
    "#Assess number of missing values\n",
    "NaN_count = dataset[\"gallons\"].isna().sum()\n",
    "print(\"The gallons column consist of \",NaN_count,\" missing values which constitute \",(NaN_count/dataset['gallons'].shape[0])*100,\"% of the gallons column\")\n",
    "#Assess number of missing values\n",
    "NaN_count = dataset[\"mpg\"].isna().sum()\n",
    "print(\"The mpg column consist of \",NaN_count,\" missing values which constitute \",(NaN_count/dataset['mpg'].shape[0])*100,\"% of the mpg column\")\n",
    "#Assess number of missing values\n",
    "NaN_count = dataset[\"miles\"].isna().sum()\n",
    "print(\"The miles column consist of \",NaN_count,\" missing values which constitute \",(NaN_count/dataset['miles'].shape[0])*100,\"% of the miles column\")"
   ]
  },
  {
   "cell_type": "markdown",
   "id": "edcc05f8",
   "metadata": {},
   "source": [
    "<h4>Plots</h4>"
   ]
  },
  {
   "cell_type": "code",
   "execution_count": 201,
   "id": "6dc60105",
   "metadata": {},
   "outputs": [
    {
     "data": {
      "text/plain": [
       "<AxesSubplot:>"
      ]
     },
     "execution_count": 201,
     "metadata": {},
     "output_type": "execute_result"
    },
    {
     "data": {
      "image/png": "[encoded data removed]",
      "text/plain": [
       "<Figure size 720x720 with 1 Axes>"
      ]
     },
     "metadata": {
      "needs_background": "light"
     },
     "output_type": "display_data"
    }
   ],
   "source": [
    "#Boxplots\n",
    "dataset.plot.box(logy=True,figsize=(10,10))"
   ]
  },
  {
   "cell_type": "code",
   "execution_count": 202,
   "id": "15dc2df4",
   "metadata": {},
   "outputs": [
    {
     "data": {
      "text/plain": [
       "<AxesSubplot:title={'center':'Histogram for odometer'}, ylabel='Frequency'>"
      ]
     },
     "execution_count": 202,
     "metadata": {},
     "output_type": "execute_result"
    },
    {
     "data": {
      "image/png": "[encoded data removed]",
      "text/plain": [
       "<Figure size 720x720 with 1 Axes>"
      ]
     },
     "metadata": {
      "needs_background": "light"
     },
     "output_type": "display_data"
    }
   ],
   "source": [
    "#Assess Distribution\n",
    "dataset[\"odometer\"].plot.hist(logy=True,figsize=(10,10), title='Histogram for odometer',bins=100)\n"
   ]
  },
  {
   "cell_type": "code",
   "execution_count": 203,
   "id": "bd46edc2",
   "metadata": {},
   "outputs": [
    {
     "data": {
      "text/plain": [
       "<AxesSubplot:title={'center':'Histogram for gallons'}, ylabel='Frequency'>"
      ]
     },
     "execution_count": 203,
     "metadata": {},
     "output_type": "execute_result"
    },
    {
     "data": {
      "image/png": "[encoded data removed]",
      "text/plain": [
       "<Figure size 720x720 with 1 Axes>"
      ]
     },
     "metadata": {
      "needs_background": "light"
     },
     "output_type": "display_data"
    }
   ],
   "source": [
    "dataset[\"gallons\"].plot.hist(logy=True,figsize=(10,10), title='Histogram for gallons',bins=100,color='red')"
   ]
  },
  {
   "cell_type": "code",
   "execution_count": 204,
   "id": "354ec545",
   "metadata": {},
   "outputs": [
    {
     "data": {
      "text/plain": [
       "<AxesSubplot:title={'center':'Histogram for mpg'}, ylabel='Frequency'>"
      ]
     },
     "execution_count": 204,
     "metadata": {},
     "output_type": "execute_result"
    },
    {
     "data": {
      "image/png": "[encoded data removed]",
      "text/plain": [
       "<Figure size 720x720 with 1 Axes>"
      ]
     },
     "metadata": {
      "needs_background": "light"
     },
     "output_type": "display_data"
    }
   ],
   "source": [
    "dataset[\"mpg\"].plot.hist(logy=True,figsize=(10,10), title='Histogram for mpg',bins=100,color='green')"
   ]
  },
  {
   "cell_type": "code",
   "execution_count": 205,
   "id": "161e9753",
   "metadata": {},
   "outputs": [
    {
     "data": {
      "text/plain": [
       "<AxesSubplot:title={'center':'Histogram for miles'}, ylabel='Frequency'>"
      ]
     },
     "execution_count": 205,
     "metadata": {},
     "output_type": "execute_result"
    },
    {
     "data": {
      "image/png": "[encoded data removed]",
      "text/plain": [
       "<Figure size 720x720 with 1 Axes>"
      ]
     },
     "metadata": {
      "needs_background": "light"
     },
     "output_type": "display_data"
    }
   ],
   "source": [
    "dataset[\"miles\"].plot.hist(logy=True,figsize=(10,10), title='Histogram for miles',bins=100,color='orange')"
   ]
  },
  {
   "cell_type": "markdown",
   "id": "90a743b7",
   "metadata": {},
   "source": [
    "<h4>Statistical description</h4>"
   ]
  },
  {
   "cell_type": "code",
   "execution_count": 206,
   "id": "529ed0ef",
   "metadata": {},
   "outputs": [
    {
     "name": "stdout",
     "output_type": "stream",
     "text": [
      "The kurtosis of respective columns are as follows:\n",
      "\n"
     ]
    },
    {
     "data": {
      "text/plain": [
       "miles       5464.623120\n",
       "gallons    52817.061986\n",
       "mpg          416.448187\n",
       "dtype: float64"
      ]
     },
     "metadata": {},
     "output_type": "display_data"
    },
    {
     "name": "stdout",
     "output_type": "stream",
     "text": [
      "The skewness of respective columns are as follows:\n",
      "\n"
     ]
    },
    {
     "data": {
      "text/plain": [
       "miles       69.144093\n",
       "gallons    214.821718\n",
       "mpg          9.760422\n",
       "dtype: float64"
      ]
     },
     "execution_count": 206,
     "metadata": {},
     "output_type": "execute_result"
    }
   ],
   "source": [
    "dataset[[\"miles\",'gallons','mpg']].describe()\n",
    "\n",
    "print(\"The kurtosis of respective columns are as follows:\\n\")\n",
    "display(dataset[[\"miles\",'gallons','mpg']].kurtosis())\n",
    "\n",
    "print(\"The skewness of respective columns are as follows:\\n\")\n",
    "dataset[[\"miles\",'gallons','mpg']].skew()"
   ]
  },
  {
   "cell_type": "markdown",
   "id": "36d43ba8",
   "metadata": {},
   "source": [
    "<h3>Adding Constructable Values</h3>"
   ]
  },
  {
   "cell_type": "code",
   "execution_count": 207,
   "id": "115ebe2e",
   "metadata": {},
   "outputs": [
    {
     "data": {
      "text/html": [
       "<div>\n",
       "<style scoped>\n",
       "    .dataframe tbody tr th:only-of-type {\n",
       "        vertical-align: middle;\n",
       "    }\n",
       "\n",
       "    .dataframe tbody tr th {\n",
       "        vertical-align: top;\n",
       "    }\n",
       "\n",
       "    .dataframe thead th {\n",
       "        text-align: right;\n",
       "    }\n",
       "</style>\n",
       "<table border=\"1\" class=\"dataframe\">\n",
       "  <thead>\n",
       "    <tr style=\"text-align: right;\">\n",
       "      <th></th>\n",
       "      <th>miles</th>\n",
       "      <th>gallons</th>\n",
       "      <th>mpg</th>\n",
       "    </tr>\n",
       "  </thead>\n",
       "  <tbody>\n",
       "    <tr>\n",
       "      <th>1</th>\n",
       "      <td>NaN</td>\n",
       "      <td>12.120</td>\n",
       "      <td>31.6</td>\n",
       "    </tr>\n",
       "    <tr>\n",
       "      <th>2</th>\n",
       "      <td>NaN</td>\n",
       "      <td>7.991</td>\n",
       "      <td>28.5</td>\n",
       "    </tr>\n",
       "    <tr>\n",
       "      <th>3</th>\n",
       "      <td>NaN</td>\n",
       "      <td>10.575</td>\n",
       "      <td>46.8</td>\n",
       "    </tr>\n",
       "    <tr>\n",
       "      <th>5</th>\n",
       "      <td>NaN</td>\n",
       "      <td>3.413</td>\n",
       "      <td>29.0</td>\n",
       "    </tr>\n",
       "    <tr>\n",
       "      <th>6</th>\n",
       "      <td>NaN</td>\n",
       "      <td>9.044</td>\n",
       "      <td>29.5</td>\n",
       "    </tr>\n",
       "    <tr>\n",
       "      <th>...</th>\n",
       "      <td>...</td>\n",
       "      <td>...</td>\n",
       "      <td>...</td>\n",
       "    </tr>\n",
       "    <tr>\n",
       "      <th>983033</th>\n",
       "      <td>NaN</td>\n",
       "      <td>12.593</td>\n",
       "      <td>33.3</td>\n",
       "    </tr>\n",
       "    <tr>\n",
       "      <th>983035</th>\n",
       "      <td>NaN</td>\n",
       "      <td>11.208</td>\n",
       "      <td>0.0</td>\n",
       "    </tr>\n",
       "    <tr>\n",
       "      <th>983036</th>\n",
       "      <td>NaN</td>\n",
       "      <td>13.118</td>\n",
       "      <td>0.0</td>\n",
       "    </tr>\n",
       "    <tr>\n",
       "      <th>983038</th>\n",
       "      <td>NaN</td>\n",
       "      <td>13.079</td>\n",
       "      <td>41.2</td>\n",
       "    </tr>\n",
       "    <tr>\n",
       "      <th>983039</th>\n",
       "      <td>NaN</td>\n",
       "      <td>13.032</td>\n",
       "      <td>18.3</td>\n",
       "    </tr>\n",
       "  </tbody>\n",
       "</table>\n",
       "<p>159806 rows × 3 columns</p>\n",
       "</div>"
      ],
      "text/plain": [
       "        miles  gallons   mpg\n",
       "1         NaN   12.120  31.6\n",
       "2         NaN    7.991  28.5\n",
       "3         NaN   10.575  46.8\n",
       "5         NaN    3.413  29.0\n",
       "6         NaN    9.044  29.5\n",
       "...       ...      ...   ...\n",
       "983033    NaN   12.593  33.3\n",
       "983035    NaN   11.208   0.0\n",
       "983036    NaN   13.118   0.0\n",
       "983038    NaN   13.079  41.2\n",
       "983039    NaN   13.032  18.3\n",
       "\n",
       "[159806 rows x 3 columns]"
      ]
     },
     "metadata": {},
     "output_type": "display_data"
    },
    {
     "name": "stderr",
     "output_type": "stream",
     "text": [
      "C:\\Users\\Mpendulo\\anaconda3\\lib\\site-packages\\pandas\\core\\indexing.py:1732: SettingWithCopyWarning: \n",
      "A value is trying to be set on a copy of a slice from a DataFrame\n",
      "\n",
      "See the caveats in the documentation: https://pandas.pydata.org/pandas-docs/stable/user_guide/indexing.html#returning-a-view-versus-a-copy\n",
      "  self._setitem_single_block(indexer, value, name)\n"
     ]
    },
    {
     "data": {
      "text/html": [
       "<div>\n",
       "<style scoped>\n",
       "    .dataframe tbody tr th:only-of-type {\n",
       "        vertical-align: middle;\n",
       "    }\n",
       "\n",
       "    .dataframe tbody tr th {\n",
       "        vertical-align: top;\n",
       "    }\n",
       "\n",
       "    .dataframe thead th {\n",
       "        text-align: right;\n",
       "    }\n",
       "</style>\n",
       "<table border=\"1\" class=\"dataframe\">\n",
       "  <thead>\n",
       "    <tr style=\"text-align: right;\">\n",
       "      <th></th>\n",
       "      <th>miles</th>\n",
       "      <th>gallons</th>\n",
       "      <th>mpg</th>\n",
       "    </tr>\n",
       "  </thead>\n",
       "  <tbody>\n",
       "    <tr>\n",
       "      <th>1</th>\n",
       "      <td>382.9920</td>\n",
       "      <td>12.120</td>\n",
       "      <td>31.6</td>\n",
       "    </tr>\n",
       "    <tr>\n",
       "      <th>2</th>\n",
       "      <td>227.7435</td>\n",
       "      <td>7.991</td>\n",
       "      <td>28.5</td>\n",
       "    </tr>\n",
       "    <tr>\n",
       "      <th>3</th>\n",
       "      <td>494.9100</td>\n",
       "      <td>10.575</td>\n",
       "      <td>46.8</td>\n",
       "    </tr>\n",
       "    <tr>\n",
       "      <th>5</th>\n",
       "      <td>98.9770</td>\n",
       "      <td>3.413</td>\n",
       "      <td>29.0</td>\n",
       "    </tr>\n",
       "    <tr>\n",
       "      <th>6</th>\n",
       "      <td>266.7980</td>\n",
       "      <td>9.044</td>\n",
       "      <td>29.5</td>\n",
       "    </tr>\n",
       "    <tr>\n",
       "      <th>...</th>\n",
       "      <td>...</td>\n",
       "      <td>...</td>\n",
       "      <td>...</td>\n",
       "    </tr>\n",
       "    <tr>\n",
       "      <th>983033</th>\n",
       "      <td>419.3469</td>\n",
       "      <td>12.593</td>\n",
       "      <td>33.3</td>\n",
       "    </tr>\n",
       "    <tr>\n",
       "      <th>983035</th>\n",
       "      <td>0.0000</td>\n",
       "      <td>11.208</td>\n",
       "      <td>0.0</td>\n",
       "    </tr>\n",
       "    <tr>\n",
       "      <th>983036</th>\n",
       "      <td>0.0000</td>\n",
       "      <td>13.118</td>\n",
       "      <td>0.0</td>\n",
       "    </tr>\n",
       "    <tr>\n",
       "      <th>983038</th>\n",
       "      <td>538.8548</td>\n",
       "      <td>13.079</td>\n",
       "      <td>41.2</td>\n",
       "    </tr>\n",
       "    <tr>\n",
       "      <th>983039</th>\n",
       "      <td>238.4856</td>\n",
       "      <td>13.032</td>\n",
       "      <td>18.3</td>\n",
       "    </tr>\n",
       "  </tbody>\n",
       "</table>\n",
       "<p>159806 rows × 3 columns</p>\n",
       "</div>"
      ],
      "text/plain": [
       "           miles  gallons   mpg\n",
       "1       382.9920   12.120  31.6\n",
       "2       227.7435    7.991  28.5\n",
       "3       494.9100   10.575  46.8\n",
       "5        98.9770    3.413  29.0\n",
       "6       266.7980    9.044  29.5\n",
       "...          ...      ...   ...\n",
       "983033  419.3469   12.593  33.3\n",
       "983035    0.0000   11.208   0.0\n",
       "983036    0.0000   13.118   0.0\n",
       "983038  538.8548   13.079  41.2\n",
       "983039  238.4856   13.032  18.3\n",
       "\n",
       "[159806 rows x 3 columns]"
      ]
     },
     "metadata": {},
     "output_type": "display_data"
    }
   ],
   "source": [
    "#Construct miles from gallons and mpg\n",
    "missing_idx = np.where((dataset[\"miles\"].isna() == True)&(dataset[\"gallons\"].isna() == False) & (dataset[\"mpg\"].isna() == False))\n",
    "display(dataset[['miles','gallons','mpg']].iloc[missing_idx])\n",
    "dataset[\"miles\"].iloc[missing_idx] = dataset[\"mpg\"].iloc[missing_idx] * dataset[\"gallons\"].iloc[missing_idx]\n",
    "display(dataset[['miles','gallons','mpg']].iloc[missing_idx])"
   ]
  },
  {
   "cell_type": "code",
   "execution_count": 208,
   "id": "3ab30c9f",
   "metadata": {},
   "outputs": [
    {
     "data": {
      "text/html": [
       "<div>\n",
       "<style scoped>\n",
       "    .dataframe tbody tr th:only-of-type {\n",
       "        vertical-align: middle;\n",
       "    }\n",
       "\n",
       "    .dataframe tbody tr th {\n",
       "        vertical-align: top;\n",
       "    }\n",
       "\n",
       "    .dataframe thead th {\n",
       "        text-align: right;\n",
       "    }\n",
       "</style>\n",
       "<table border=\"1\" class=\"dataframe\">\n",
       "  <thead>\n",
       "    <tr style=\"text-align: right;\">\n",
       "      <th></th>\n",
       "      <th>gallons</th>\n",
       "      <th>miles</th>\n",
       "      <th>mpg</th>\n",
       "    </tr>\n",
       "  </thead>\n",
       "  <tbody>\n",
       "  </tbody>\n",
       "</table>\n",
       "</div>"
      ],
      "text/plain": [
       "Empty DataFrame\n",
       "Columns: [gallons, miles, mpg]\n",
       "Index: []"
      ]
     },
     "metadata": {},
     "output_type": "display_data"
    },
    {
     "name": "stderr",
     "output_type": "stream",
     "text": [
      "C:\\Users\\Mpendulo\\anaconda3\\lib\\site-packages\\pandas\\core\\indexing.py:1732: SettingWithCopyWarning: \n",
      "A value is trying to be set on a copy of a slice from a DataFrame\n",
      "\n",
      "See the caveats in the documentation: https://pandas.pydata.org/pandas-docs/stable/user_guide/indexing.html#returning-a-view-versus-a-copy\n",
      "  self._setitem_single_block(indexer, value, name)\n"
     ]
    },
    {
     "data": {
      "text/html": [
       "<div>\n",
       "<style scoped>\n",
       "    .dataframe tbody tr th:only-of-type {\n",
       "        vertical-align: middle;\n",
       "    }\n",
       "\n",
       "    .dataframe tbody tr th {\n",
       "        vertical-align: top;\n",
       "    }\n",
       "\n",
       "    .dataframe thead th {\n",
       "        text-align: right;\n",
       "    }\n",
       "</style>\n",
       "<table border=\"1\" class=\"dataframe\">\n",
       "  <thead>\n",
       "    <tr style=\"text-align: right;\">\n",
       "      <th></th>\n",
       "      <th>gallons</th>\n",
       "      <th>miles</th>\n",
       "      <th>mpg</th>\n",
       "    </tr>\n",
       "  </thead>\n",
       "  <tbody>\n",
       "  </tbody>\n",
       "</table>\n",
       "</div>"
      ],
      "text/plain": [
       "Empty DataFrame\n",
       "Columns: [gallons, miles, mpg]\n",
       "Index: []"
      ]
     },
     "metadata": {},
     "output_type": "display_data"
    }
   ],
   "source": [
    "#Construct gallons from miles and mpg\n",
    "missing_idx = np.where((dataset[\"gallons\"].isna() == True)&(dataset[\"miles\"].isna() == False) & (dataset[\"mpg\"].isna() == False))\n",
    "display(dataset[['gallons','miles','mpg']].iloc[missing_idx])\n",
    "dataset[\"gallons\"].iloc[missing_idx] = dataset[\"miles\"].iloc[missing_idx] / dataset[\"mpg\"].iloc[missing_idx]\n",
    "display(dataset[['gallons','miles','mpg']].iloc[missing_idx])"
   ]
  },
  {
   "cell_type": "code",
   "execution_count": 209,
   "id": "0da247b6",
   "metadata": {},
   "outputs": [
    {
     "data": {
      "text/html": [
       "<div>\n",
       "<style scoped>\n",
       "    .dataframe tbody tr th:only-of-type {\n",
       "        vertical-align: middle;\n",
       "    }\n",
       "\n",
       "    .dataframe tbody tr th {\n",
       "        vertical-align: top;\n",
       "    }\n",
       "\n",
       "    .dataframe thead th {\n",
       "        text-align: right;\n",
       "    }\n",
       "</style>\n",
       "<table border=\"1\" class=\"dataframe\">\n",
       "  <thead>\n",
       "    <tr style=\"text-align: right;\">\n",
       "      <th></th>\n",
       "      <th>mpg</th>\n",
       "      <th>miles</th>\n",
       "      <th>gallons</th>\n",
       "    </tr>\n",
       "  </thead>\n",
       "  <tbody>\n",
       "    <tr>\n",
       "      <th>65536</th>\n",
       "      <td>NaN</td>\n",
       "      <td>219.6</td>\n",
       "      <td>9.095</td>\n",
       "    </tr>\n",
       "    <tr>\n",
       "      <th>65538</th>\n",
       "      <td>NaN</td>\n",
       "      <td>297.8</td>\n",
       "      <td>19.166</td>\n",
       "    </tr>\n",
       "    <tr>\n",
       "      <th>65552</th>\n",
       "      <td>NaN</td>\n",
       "      <td>397.9</td>\n",
       "      <td>15.107</td>\n",
       "    </tr>\n",
       "    <tr>\n",
       "      <th>65568</th>\n",
       "      <td>NaN</td>\n",
       "      <td>586.0</td>\n",
       "      <td>19.797</td>\n",
       "    </tr>\n",
       "    <tr>\n",
       "      <th>65573</th>\n",
       "      <td>NaN</td>\n",
       "      <td>212.2</td>\n",
       "      <td>9.395</td>\n",
       "    </tr>\n",
       "    <tr>\n",
       "      <th>...</th>\n",
       "      <td>...</td>\n",
       "      <td>...</td>\n",
       "      <td>...</td>\n",
       "    </tr>\n",
       "    <tr>\n",
       "      <th>1174836</th>\n",
       "      <td>NaN</td>\n",
       "      <td>491.0</td>\n",
       "      <td>23.825</td>\n",
       "    </tr>\n",
       "    <tr>\n",
       "      <th>1174839</th>\n",
       "      <td>NaN</td>\n",
       "      <td>364.9</td>\n",
       "      <td>26.712</td>\n",
       "    </tr>\n",
       "    <tr>\n",
       "      <th>1174840</th>\n",
       "      <td>NaN</td>\n",
       "      <td>127.0</td>\n",
       "      <td>6.459</td>\n",
       "    </tr>\n",
       "    <tr>\n",
       "      <th>1174851</th>\n",
       "      <td>NaN</td>\n",
       "      <td>262.0</td>\n",
       "      <td>14.857</td>\n",
       "    </tr>\n",
       "    <tr>\n",
       "      <th>1174863</th>\n",
       "      <td>NaN</td>\n",
       "      <td>240.1</td>\n",
       "      <td>10.300</td>\n",
       "    </tr>\n",
       "  </tbody>\n",
       "</table>\n",
       "<p>113638 rows × 3 columns</p>\n",
       "</div>"
      ],
      "text/plain": [
       "         mpg  miles  gallons\n",
       "65536    NaN  219.6    9.095\n",
       "65538    NaN  297.8   19.166\n",
       "65552    NaN  397.9   15.107\n",
       "65568    NaN  586.0   19.797\n",
       "65573    NaN  212.2    9.395\n",
       "...      ...    ...      ...\n",
       "1174836  NaN  491.0   23.825\n",
       "1174839  NaN  364.9   26.712\n",
       "1174840  NaN  127.0    6.459\n",
       "1174851  NaN  262.0   14.857\n",
       "1174863  NaN  240.1   10.300\n",
       "\n",
       "[113638 rows x 3 columns]"
      ]
     },
     "metadata": {},
     "output_type": "display_data"
    },
    {
     "name": "stderr",
     "output_type": "stream",
     "text": [
      "C:\\Users\\Mpendulo\\anaconda3\\lib\\site-packages\\pandas\\core\\indexing.py:1732: SettingWithCopyWarning: \n",
      "A value is trying to be set on a copy of a slice from a DataFrame\n",
      "\n",
      "See the caveats in the documentation: https://pandas.pydata.org/pandas-docs/stable/user_guide/indexing.html#returning-a-view-versus-a-copy\n",
      "  self._setitem_single_block(indexer, value, name)\n"
     ]
    },
    {
     "data": {
      "text/html": [
       "<div>\n",
       "<style scoped>\n",
       "    .dataframe tbody tr th:only-of-type {\n",
       "        vertical-align: middle;\n",
       "    }\n",
       "\n",
       "    .dataframe tbody tr th {\n",
       "        vertical-align: top;\n",
       "    }\n",
       "\n",
       "    .dataframe thead th {\n",
       "        text-align: right;\n",
       "    }\n",
       "</style>\n",
       "<table border=\"1\" class=\"dataframe\">\n",
       "  <thead>\n",
       "    <tr style=\"text-align: right;\">\n",
       "      <th></th>\n",
       "      <th>mpg</th>\n",
       "      <th>miles</th>\n",
       "      <th>gallons</th>\n",
       "    </tr>\n",
       "  </thead>\n",
       "  <tbody>\n",
       "    <tr>\n",
       "      <th>65536</th>\n",
       "      <td>24.145135</td>\n",
       "      <td>219.6</td>\n",
       "      <td>9.095</td>\n",
       "    </tr>\n",
       "    <tr>\n",
       "      <th>65538</th>\n",
       "      <td>15.537932</td>\n",
       "      <td>297.8</td>\n",
       "      <td>19.166</td>\n",
       "    </tr>\n",
       "    <tr>\n",
       "      <th>65552</th>\n",
       "      <td>26.338783</td>\n",
       "      <td>397.9</td>\n",
       "      <td>15.107</td>\n",
       "    </tr>\n",
       "    <tr>\n",
       "      <th>65568</th>\n",
       "      <td>29.600445</td>\n",
       "      <td>586.0</td>\n",
       "      <td>19.797</td>\n",
       "    </tr>\n",
       "    <tr>\n",
       "      <th>65573</th>\n",
       "      <td>22.586482</td>\n",
       "      <td>212.2</td>\n",
       "      <td>9.395</td>\n",
       "    </tr>\n",
       "    <tr>\n",
       "      <th>...</th>\n",
       "      <td>...</td>\n",
       "      <td>...</td>\n",
       "      <td>...</td>\n",
       "    </tr>\n",
       "    <tr>\n",
       "      <th>1174836</th>\n",
       "      <td>20.608604</td>\n",
       "      <td>491.0</td>\n",
       "      <td>23.825</td>\n",
       "    </tr>\n",
       "    <tr>\n",
       "      <th>1174839</th>\n",
       "      <td>13.660527</td>\n",
       "      <td>364.9</td>\n",
       "      <td>26.712</td>\n",
       "    </tr>\n",
       "    <tr>\n",
       "      <th>1174840</th>\n",
       "      <td>19.662486</td>\n",
       "      <td>127.0</td>\n",
       "      <td>6.459</td>\n",
       "    </tr>\n",
       "    <tr>\n",
       "      <th>1174851</th>\n",
       "      <td>17.634785</td>\n",
       "      <td>262.0</td>\n",
       "      <td>14.857</td>\n",
       "    </tr>\n",
       "    <tr>\n",
       "      <th>1174863</th>\n",
       "      <td>23.310680</td>\n",
       "      <td>240.1</td>\n",
       "      <td>10.300</td>\n",
       "    </tr>\n",
       "  </tbody>\n",
       "</table>\n",
       "<p>113638 rows × 3 columns</p>\n",
       "</div>"
      ],
      "text/plain": [
       "               mpg  miles  gallons\n",
       "65536    24.145135  219.6    9.095\n",
       "65538    15.537932  297.8   19.166\n",
       "65552    26.338783  397.9   15.107\n",
       "65568    29.600445  586.0   19.797\n",
       "65573    22.586482  212.2    9.395\n",
       "...            ...    ...      ...\n",
       "1174836  20.608604  491.0   23.825\n",
       "1174839  13.660527  364.9   26.712\n",
       "1174840  19.662486  127.0    6.459\n",
       "1174851  17.634785  262.0   14.857\n",
       "1174863  23.310680  240.1   10.300\n",
       "\n",
       "[113638 rows x 3 columns]"
      ]
     },
     "metadata": {},
     "output_type": "display_data"
    }
   ],
   "source": [
    "#Construct mpg from miles and gallons\n",
    "missing_idx = np.where((dataset[\"mpg\"].isna() == True)&(dataset[\"gallons\"].isna() == False)&(dataset[\"miles\"].isna() == False)&(dataset[\"gallons\"] != 0))\n",
    "display(dataset[['mpg','miles','gallons']].iloc[missing_idx])\n",
    "dataset[\"mpg\"].iloc[missing_idx] = dataset[\"miles\"].iloc[missing_idx] / dataset[\"gallons\"].iloc[missing_idx]\n",
    "display(dataset[['mpg','miles','gallons']].iloc[missing_idx])"
   ]
  },
  {
   "cell_type": "markdown",
   "id": "8c8d91e4",
   "metadata": {},
   "source": [
    "<h3>After Adding Constructable Values</h3>"
   ]
  },
  {
   "cell_type": "code",
   "execution_count": 210,
   "id": "e78fdff5",
   "metadata": {},
   "outputs": [
    {
     "name": "stdout",
     "output_type": "stream",
     "text": [
      "The miles column consist of  868225  missing values which constitute  73.9446036131485 % of the miles column\n",
      "The mpg column consist of  876525  missing values which constitute  74.65149434998416 % of the mpg column\n",
      "The gallons column consist of  135484  missing values which constitute  11.538841516800153 % of the gallons column\n"
     ]
    }
   ],
   "source": [
    "NaN_count = dataset[\"miles\"].isna().sum()\n",
    "print(\"The miles column consist of \",NaN_count,\" missing values which constitute \",(NaN_count/dataset['miles'].shape[0])*100,\"% of the miles column\")\n",
    "\n",
    "NaN_count = dataset[\"mpg\"].isna().sum()\n",
    "print(\"The mpg column consist of \",NaN_count,\" missing values which constitute \",(NaN_count/dataset['mpg'].shape[0])*100,\"% of the mpg column\")\n",
    "\n",
    "NaN_count = dataset[\"gallons\"].isna().sum()\n",
    "print(\"The gallons column consist of \",NaN_count,\" missing values which constitute \",(NaN_count/dataset['gallons'].shape[0])*100,\"% of the gallons column\")"
   ]
  },
  {
   "cell_type": "markdown",
   "id": "df6c21f3",
   "metadata": {},
   "source": [
    "<h4>Plots</h4>"
   ]
  },
  {
   "cell_type": "code",
   "execution_count": 211,
   "id": "28ee20e2",
   "metadata": {},
   "outputs": [
    {
     "data": {
      "text/plain": [
       "<AxesSubplot:>"
      ]
     },
     "execution_count": 211,
     "metadata": {},
     "output_type": "execute_result"
    },
    {
     "data": {
      "image/png": "[encoded data removed]",
      "text/plain": [
       "<Figure size 720x720 with 1 Axes>"
      ]
     },
     "metadata": {
      "needs_background": "light"
     },
     "output_type": "display_data"
    }
   ],
   "source": [
    "dataset.plot.box(logy=True,figsize=(10,10))"
   ]
  },
  {
   "cell_type": "code",
   "execution_count": 212,
   "id": "51f3a5aa",
   "metadata": {},
   "outputs": [
    {
     "data": {
      "text/plain": [
       "<AxesSubplot:title={'center':'Histogram for gallons'}, ylabel='Frequency'>"
      ]
     },
     "execution_count": 212,
     "metadata": {},
     "output_type": "execute_result"
    },
    {
     "data": {
      "image/png": "[encoded data removed]",
      "text/plain": [
       "<Figure size 720x720 with 1 Axes>"
      ]
     },
     "metadata": {
      "needs_background": "light"
     },
     "output_type": "display_data"
    }
   ],
   "source": [
    "dataset[\"gallons\"].plot.hist(logy=True,figsize=(10,10), title='Histogram for gallons',bins=100,color='red')"
   ]
  },
  {
   "cell_type": "code",
   "execution_count": 213,
   "id": "6e9c428d",
   "metadata": {},
   "outputs": [
    {
     "data": {
      "text/plain": [
       "<AxesSubplot:title={'center':'Histogram for mpg'}, ylabel='Frequency'>"
      ]
     },
     "execution_count": 213,
     "metadata": {},
     "output_type": "execute_result"
    },
    {
     "data": {
      "image/png": "[encoded data removed]",
      "text/plain": [
       "<Figure size 720x720 with 1 Axes>"
      ]
     },
     "metadata": {
      "needs_background": "light"
     },
     "output_type": "display_data"
    }
   ],
   "source": [
    "dataset['mpg'].plot.hist(logy=True,figsize=(10,10), title='Histogram for mpg', bins=100,color='green')"
   ]
  },
  {
   "cell_type": "code",
   "execution_count": 214,
   "id": "1759e76f",
   "metadata": {},
   "outputs": [
    {
     "data": {
      "text/plain": [
       "<AxesSubplot:title={'center':'Histogram for miles'}, ylabel='Frequency'>"
      ]
     },
     "execution_count": 214,
     "metadata": {},
     "output_type": "execute_result"
    },
    {
     "data": {
      "image/png": "[encoded data removed]",
      "text/plain": [
       "<Figure size 720x720 with 1 Axes>"
      ]
     },
     "metadata": {
      "needs_background": "light"
     },
     "output_type": "display_data"
    }
   ],
   "source": [
    "dataset[\"miles\"].plot.hist(density=True,logy=True,figsize=(10,10), title='Histogram for miles',bins=100,color='orange')"
   ]
  },
  {
   "cell_type": "markdown",
   "id": "b2cc9b42",
   "metadata": {},
   "source": [
    "<h4>Statistical description</h4>"
   ]
  },
  {
   "cell_type": "code",
   "execution_count": 215,
   "id": "23f83b00",
   "metadata": {},
   "outputs": [
    {
     "data": {
      "text/html": [
       "<div>\n",
       "<style scoped>\n",
       "    .dataframe tbody tr th:only-of-type {\n",
       "        vertical-align: middle;\n",
       "    }\n",
       "\n",
       "    .dataframe tbody tr th {\n",
       "        vertical-align: top;\n",
       "    }\n",
       "\n",
       "    .dataframe thead th {\n",
       "        text-align: right;\n",
       "    }\n",
       "</style>\n",
       "<table border=\"1\" class=\"dataframe\">\n",
       "  <thead>\n",
       "    <tr style=\"text-align: right;\">\n",
       "      <th></th>\n",
       "      <th>miles</th>\n",
       "      <th>gallons</th>\n",
       "      <th>mpg</th>\n",
       "    </tr>\n",
       "  </thead>\n",
       "  <tbody>\n",
       "    <tr>\n",
       "      <th>count</th>\n",
       "      <td>305931.000000</td>\n",
       "      <td>1.038672e+06</td>\n",
       "      <td>297631.000000</td>\n",
       "    </tr>\n",
       "    <tr>\n",
       "      <th>mean</th>\n",
       "      <td>298.946391</td>\n",
       "      <td>1.282238e+01</td>\n",
       "      <td>27.283293</td>\n",
       "    </tr>\n",
       "    <tr>\n",
       "      <th>std</th>\n",
       "      <td>1336.446779</td>\n",
       "      <td>7.663733e+01</td>\n",
       "      <td>1034.921293</td>\n",
       "    </tr>\n",
       "    <tr>\n",
       "      <th>min</th>\n",
       "      <td>0.000000</td>\n",
       "      <td>0.000000e+00</td>\n",
       "      <td>0.000000</td>\n",
       "    </tr>\n",
       "    <tr>\n",
       "      <th>25%</th>\n",
       "      <td>201.863800</td>\n",
       "      <td>8.991000e+00</td>\n",
       "      <td>17.236624</td>\n",
       "    </tr>\n",
       "    <tr>\n",
       "      <th>50%</th>\n",
       "      <td>277.322100</td>\n",
       "      <td>1.195400e+01</td>\n",
       "      <td>23.000000</td>\n",
       "    </tr>\n",
       "    <tr>\n",
       "      <th>75%</th>\n",
       "      <td>352.452150</td>\n",
       "      <td>1.493900e+01</td>\n",
       "      <td>29.801146</td>\n",
       "    </tr>\n",
       "    <tr>\n",
       "      <th>max</th>\n",
       "      <td>195321.200000</td>\n",
       "      <td>2.838000e+04</td>\n",
       "      <td>559860.946746</td>\n",
       "    </tr>\n",
       "  </tbody>\n",
       "</table>\n",
       "</div>"
      ],
      "text/plain": [
       "               miles       gallons            mpg\n",
       "count  305931.000000  1.038672e+06  297631.000000\n",
       "mean      298.946391  1.282238e+01      27.283293\n",
       "std      1336.446779  7.663733e+01    1034.921293\n",
       "min         0.000000  0.000000e+00       0.000000\n",
       "25%       201.863800  8.991000e+00      17.236624\n",
       "50%       277.322100  1.195400e+01      23.000000\n",
       "75%       352.452150  1.493900e+01      29.801146\n",
       "max    195321.200000  2.838000e+04  559860.946746"
      ]
     },
     "metadata": {},
     "output_type": "display_data"
    },
    {
     "name": "stdout",
     "output_type": "stream",
     "text": [
      "The kurtosis of respective columns are as follows:\n",
      "\n"
     ]
    },
    {
     "data": {
      "text/plain": [
       "miles       11039.728708\n",
       "gallons     52817.061986\n",
       "mpg        287701.933209\n",
       "dtype: float64"
      ]
     },
     "metadata": {},
     "output_type": "display_data"
    },
    {
     "name": "stdout",
     "output_type": "stream",
     "text": [
      "The skewness of respective columns are as follows:\n",
      "\n",
      "The unique value count of respective columns are as follows:\n"
     ]
    },
    {
     "data": {
      "text/plain": [
       "miles      \n",
       "0.0000         22567\n",
       "300.0000         293\n",
       "320.0000         270\n",
       "280.0000         223\n",
       "292.0000         222\n",
       "               ...  \n",
       "245.1780           1\n",
       "245.1780           1\n",
       "245.1750           1\n",
       "245.1744           1\n",
       "195321.2000        1\n",
       "Length: 134966, dtype: int64"
      ]
     },
     "metadata": {},
     "output_type": "display_data"
    },
    {
     "data": {
      "text/plain": [
       "gallons  \n",
       "10.567       1846\n",
       "13.209       1774\n",
       "5.283        1744\n",
       "7.925        1694\n",
       "15.850       1063\n",
       "             ... \n",
       "32.367          1\n",
       "32.364          1\n",
       "32.363          1\n",
       "32.361          1\n",
       "28380.000       1\n",
       "Length: 36321, dtype: int64"
      ]
     },
     "metadata": {},
     "output_type": "display_data"
    },
    {
     "data": {
      "text/plain": [
       "mpg          \n",
       "0.000000         23283\n",
       "20.600000          866\n",
       "21.200000          861\n",
       "21.100000          850\n",
       "22.200000          850\n",
       "                 ...  \n",
       "21.361284            1\n",
       "21.361214            1\n",
       "21.361193            1\n",
       "21.361191            1\n",
       "559860.946746        1\n",
       "Length: 112621, dtype: int64"
      ]
     },
     "metadata": {},
     "output_type": "display_data"
    }
   ],
   "source": [
    "display(dataset[[\"miles\",'gallons','mpg']].describe())\n",
    "\n",
    "\n",
    "print(\"The kurtosis of respective columns are as follows:\\n\")\n",
    "display(dataset[[\"miles\",'gallons','mpg']].kurtosis())\n",
    "\n",
    "print(\"The skewness of respective columns are as follows:\\n\")\n",
    "dataset[[\"miles\",'gallons','mpg']].skew(axis=1)\n",
    "\n",
    "print(\"The unique value count of respective columns are as follows:\")\n",
    "display(dataset[[\"miles\"]].value_counts())\n",
    "display(dataset[[\"gallons\"]].value_counts())\n",
    "display(dataset[[\"mpg\"]].value_counts())\n",
    "\n"
   ]
  },
  {
   "cell_type": "markdown",
   "id": "351e2190",
   "metadata": {},
   "source": [
    "<h3>Conclusion</h3>"
   ]
  },
  {
   "cell_type": "markdown",
   "id": "a003d256",
   "metadata": {},
   "source": [
    "<p>From the above statistical description we see that for the miles, gallons and mpg columns we have:</p>\n",
    "\n",
    "<ul>\n",
    "    <li>The standard deviation is greater than the mean, this may indicate that there is a significant spread between data points and indicates that the chances of a randomly selected element from the dataset being close to the mean value is very low.</li>\n",
    "    <li>The kurtosis of the miles column is Leptokurtic(i.e kurtosis > 0), which indicates to us that the distribution is heavy-tailed which signifies the presence of outlier within the data</li>\n",
    "    <li>The skewness of the miles column is positive which indicates asymmetry in the distribution corresponding to the tail being larger towards the right hand side of the distribution</li>\n",
    "</ul>\n",
    "\n",
    "<p>The results make sense because even though there is a significant amount of data, majority of the values for these columns are invalid entries(i.e NaN values) causing a greater spread between the correctly recorded values and hence each column had a standard deviation greater then the mean. Furthermore, when we assess the above histogram on the respective columns we find the distribution is skewed towards the right with a heavy tail indicating outliers. Lastly, the most frequent value in mpg is the value 0 which corresponds to the miles also having the most frequent value being the value 0."
   ]
  },
  {
   "cell_type": "markdown",
   "id": "197dc39b",
   "metadata": {},
   "source": [
    "<h1>Feature Engineering</h1>"
   ]
  },
  {
   "cell_type": "code",
   "execution_count": 216,
   "id": "86f4fd4f",
   "metadata": {},
   "outputs": [
    {
     "data": {
      "text/html": [
       "<div>\n",
       "<style scoped>\n",
       "    .dataframe tbody tr th:only-of-type {\n",
       "        vertical-align: middle;\n",
       "    }\n",
       "\n",
       "    .dataframe tbody tr th {\n",
       "        vertical-align: top;\n",
       "    }\n",
       "\n",
       "    .dataframe thead th {\n",
       "        text-align: right;\n",
       "    }\n",
       "</style>\n",
       "<table border=\"1\" class=\"dataframe\">\n",
       "  <thead>\n",
       "    <tr style=\"text-align: right;\">\n",
       "      <th></th>\n",
       "      <th>date_fueled</th>\n",
       "      <th>date_captured</th>\n",
       "      <th>odometer</th>\n",
       "      <th>gallons</th>\n",
       "      <th>cost_per_gallon</th>\n",
       "      <th>total_spent</th>\n",
       "      <th>mpg</th>\n",
       "      <th>miles</th>\n",
       "      <th>user_url</th>\n",
       "      <th>currency</th>\n",
       "    </tr>\n",
       "  </thead>\n",
       "  <tbody>\n",
       "    <tr>\n",
       "      <th>0</th>\n",
       "      <td>NaT</td>\n",
       "      <td>2022-04-07</td>\n",
       "      <td>73370.0</td>\n",
       "      <td>NaN</td>\n",
       "      <td>NaN</td>\n",
       "      <td>NaN</td>\n",
       "      <td>NaN</td>\n",
       "      <td>NaN</td>\n",
       "      <td>https://www.somewebsite.com/suzuki/swift/2015/...</td>\n",
       "      <td>None</td>\n",
       "    </tr>\n",
       "    <tr>\n",
       "      <th>1</th>\n",
       "      <td>2012-11-07</td>\n",
       "      <td>2016-08-30</td>\n",
       "      <td>11983.0</td>\n",
       "      <td>12.120</td>\n",
       "      <td>$5.599</td>\n",
       "      <td>$67.86</td>\n",
       "      <td>31.6</td>\n",
       "      <td>382.9920</td>\n",
       "      <td>https://www.somewebsite.com/bmw/x3/2009/461150</td>\n",
       "      <td>$</td>\n",
       "    </tr>\n",
       "    <tr>\n",
       "      <th>2</th>\n",
       "      <td>2012-09-22</td>\n",
       "      <td>2012-09-28</td>\n",
       "      <td>98233.0</td>\n",
       "      <td>7.991</td>\n",
       "      <td>£5.45</td>\n",
       "      <td>£43.53</td>\n",
       "      <td>28.5</td>\n",
       "      <td>227.7435</td>\n",
       "      <td>https://www.somewebsite.com/mercedes-benz/e300...</td>\n",
       "      <td>£</td>\n",
       "    </tr>\n",
       "    <tr>\n",
       "      <th>3</th>\n",
       "      <td>2019-05-04</td>\n",
       "      <td>2019-05-04</td>\n",
       "      <td>163802.0</td>\n",
       "      <td>10.575</td>\n",
       "      <td>£5.11</td>\n",
       "      <td>£54.00</td>\n",
       "      <td>46.8</td>\n",
       "      <td>494.9100</td>\n",
       "      <td>https://www.somewebsite.com/bmw/320d/2010/247233</td>\n",
       "      <td>£</td>\n",
       "    </tr>\n",
       "    <tr>\n",
       "      <th>4</th>\n",
       "      <td>2022-02-15</td>\n",
       "      <td>2022-02-15</td>\n",
       "      <td>NaN</td>\n",
       "      <td>11.651</td>\n",
       "      <td>$3.029</td>\n",
       "      <td>$35.29</td>\n",
       "      <td>21.0</td>\n",
       "      <td>244.4000</td>\n",
       "      <td>https://www.somewebsite.com/honda/passport/201...</td>\n",
       "      <td>$</td>\n",
       "    </tr>\n",
       "    <tr>\n",
       "      <th>5</th>\n",
       "      <td>2021-10-23</td>\n",
       "      <td>2021-10-23</td>\n",
       "      <td>147567.0</td>\n",
       "      <td>3.413</td>\n",
       "      <td>$3.739</td>\n",
       "      <td>$12.76</td>\n",
       "      <td>29.0</td>\n",
       "      <td>98.9770</td>\n",
       "      <td>https://www.somewebsite.com/volkswagen/passat/...</td>\n",
       "      <td>$</td>\n",
       "    </tr>\n",
       "    <tr>\n",
       "      <th>6</th>\n",
       "      <td>2021-11-20</td>\n",
       "      <td>2021-12-12</td>\n",
       "      <td>105929.0</td>\n",
       "      <td>9.044</td>\n",
       "      <td>$4.639</td>\n",
       "      <td>$41.96</td>\n",
       "      <td>29.5</td>\n",
       "      <td>266.7980</td>\n",
       "      <td>https://www.somewebsite.com/mazda/3_sport/2010...</td>\n",
       "      <td>$</td>\n",
       "    </tr>\n",
       "    <tr>\n",
       "      <th>7</th>\n",
       "      <td>2022-01-20</td>\n",
       "      <td>2022-01-20</td>\n",
       "      <td>59475.0</td>\n",
       "      <td>14.962</td>\n",
       "      <td>$2.929</td>\n",
       "      <td>$43.82</td>\n",
       "      <td>27.3</td>\n",
       "      <td>408.4626</td>\n",
       "      <td>https://www.somewebsite.com/subaru/forester/20...</td>\n",
       "      <td>$</td>\n",
       "    </tr>\n",
       "    <tr>\n",
       "      <th>8</th>\n",
       "      <td>NaT</td>\n",
       "      <td>2018-04-16</td>\n",
       "      <td>137562.0</td>\n",
       "      <td>NaN</td>\n",
       "      <td>NaN</td>\n",
       "      <td>NaN</td>\n",
       "      <td>NaN</td>\n",
       "      <td>NaN</td>\n",
       "      <td>https://www.somewebsite.com/kianival/2009/789684</td>\n",
       "      <td>None</td>\n",
       "    </tr>\n",
       "    <tr>\n",
       "      <th>9</th>\n",
       "      <td>NaT</td>\n",
       "      <td>2020-11-29</td>\n",
       "      <td>99296.0</td>\n",
       "      <td>2.710</td>\n",
       "      <td>$1.999</td>\n",
       "      <td>$5.42</td>\n",
       "      <td>0.0</td>\n",
       "      <td>0.0000</td>\n",
       "      <td>https://www.somewebsite.com/lexus/rx350/2012/8...</td>\n",
       "      <td>$</td>\n",
       "    </tr>\n",
       "    <tr>\n",
       "      <th>10</th>\n",
       "      <td>2020-11-15</td>\n",
       "      <td>2020-11-15</td>\n",
       "      <td>102001.0</td>\n",
       "      <td>9.883</td>\n",
       "      <td>RON16.69</td>\n",
       "      <td>RON164.98</td>\n",
       "      <td>38.0</td>\n",
       "      <td>375.5540</td>\n",
       "      <td>https://www.somewebsite.com/suzuki/s-cross/201...</td>\n",
       "      <td>RON</td>\n",
       "    </tr>\n",
       "    <tr>\n",
       "      <th>11</th>\n",
       "      <td>2022-01-14</td>\n",
       "      <td>2022-01-14</td>\n",
       "      <td>22823.0</td>\n",
       "      <td>13.761</td>\n",
       "      <td>$2.599</td>\n",
       "      <td>$35.76</td>\n",
       "      <td>21.0</td>\n",
       "      <td>288.9810</td>\n",
       "      <td>https://www.somewebsite.com/honda/pilot/2019/9...</td>\n",
       "      <td>$</td>\n",
       "    </tr>\n",
       "    <tr>\n",
       "      <th>12</th>\n",
       "      <td>2021-11-22</td>\n",
       "      <td>2021-11-22</td>\n",
       "      <td>39423.0</td>\n",
       "      <td>12.631</td>\n",
       "      <td>$4.459</td>\n",
       "      <td>$56.32</td>\n",
       "      <td>24.1</td>\n",
       "      <td>304.4071</td>\n",
       "      <td>https://www.somewebsite.com/bmw/430i/2018/855648</td>\n",
       "      <td>$</td>\n",
       "    </tr>\n",
       "    <tr>\n",
       "      <th>13</th>\n",
       "      <td>2021-03-28</td>\n",
       "      <td>2021-03-28</td>\n",
       "      <td>107189.0</td>\n",
       "      <td>15.165</td>\n",
       "      <td>$2.759</td>\n",
       "      <td>$41.84</td>\n",
       "      <td>17.3</td>\n",
       "      <td>262.3545</td>\n",
       "      <td>https://www.somewebsite.com/ford/flex/2013/101...</td>\n",
       "      <td>$</td>\n",
       "    </tr>\n",
       "    <tr>\n",
       "      <th>14</th>\n",
       "      <td>2021-11-17</td>\n",
       "      <td>2021-11-17</td>\n",
       "      <td>207086.0</td>\n",
       "      <td>8.024</td>\n",
       "      <td>€6.09</td>\n",
       "      <td>€48.87</td>\n",
       "      <td>53.6</td>\n",
       "      <td>430.0864</td>\n",
       "      <td>https://www.somewebsite.com/ford/fiesta/2002/7...</td>\n",
       "      <td>€</td>\n",
       "    </tr>\n",
       "    <tr>\n",
       "      <th>15</th>\n",
       "      <td>2020-10-01</td>\n",
       "      <td>2020-10-01</td>\n",
       "      <td>12760.0</td>\n",
       "      <td>5.690</td>\n",
       "      <td>€5.26</td>\n",
       "      <td>€29.92</td>\n",
       "      <td>29.2</td>\n",
       "      <td>166.1480</td>\n",
       "      <td>https://www.somewebsite.com/fiat/124_spider/20...</td>\n",
       "      <td>€</td>\n",
       "    </tr>\n",
       "    <tr>\n",
       "      <th>16</th>\n",
       "      <td>2021-05-11</td>\n",
       "      <td>2021-05-11</td>\n",
       "      <td>7811.0</td>\n",
       "      <td>16.001</td>\n",
       "      <td>NaN</td>\n",
       "      <td>$0.00</td>\n",
       "      <td>24.7</td>\n",
       "      <td>395.2247</td>\n",
       "      <td>https://www.somewebsite.com/hyundai/palisade/2...</td>\n",
       "      <td>$</td>\n",
       "    </tr>\n",
       "    <tr>\n",
       "      <th>17</th>\n",
       "      <td>2020-04-30</td>\n",
       "      <td>2020-04-30</td>\n",
       "      <td>95054.0</td>\n",
       "      <td>9.350</td>\n",
       "      <td>$1.859</td>\n",
       "      <td>$17.38</td>\n",
       "      <td>29.8</td>\n",
       "      <td>278.6300</td>\n",
       "      <td>https://www.somewebsite.com/ford/transit_conne...</td>\n",
       "      <td>$</td>\n",
       "    </tr>\n",
       "    <tr>\n",
       "      <th>18</th>\n",
       "      <td>2016-07-05</td>\n",
       "      <td>2017-10-06</td>\n",
       "      <td>62690.0</td>\n",
       "      <td>26.900</td>\n",
       "      <td>$2.359</td>\n",
       "      <td>$63.46</td>\n",
       "      <td>11.2</td>\n",
       "      <td>301.2800</td>\n",
       "      <td>https://www.somewebsite.com/ford/e-250/2006/67...</td>\n",
       "      <td>$</td>\n",
       "    </tr>\n",
       "    <tr>\n",
       "      <th>19</th>\n",
       "      <td>2014-09-11</td>\n",
       "      <td>2014-09-11</td>\n",
       "      <td>39215.0</td>\n",
       "      <td>11.850</td>\n",
       "      <td>$3.569</td>\n",
       "      <td>$42.29</td>\n",
       "      <td>25.7</td>\n",
       "      <td>304.5450</td>\n",
       "      <td>https://www.somewebsite.com/bmw/128i/2012/304767</td>\n",
       "      <td>$</td>\n",
       "    </tr>\n",
       "    <tr>\n",
       "      <th>20</th>\n",
       "      <td>2020-05-15</td>\n",
       "      <td>2020-05-15</td>\n",
       "      <td>92439.0</td>\n",
       "      <td>30.443</td>\n",
       "      <td>$2.109</td>\n",
       "      <td>$64.20</td>\n",
       "      <td>12.7</td>\n",
       "      <td>386.6261</td>\n",
       "      <td>https://www.somewebsite.com/ford/f-350_super_d...</td>\n",
       "      <td>$</td>\n",
       "    </tr>\n",
       "    <tr>\n",
       "      <th>21</th>\n",
       "      <td>2018-01-03</td>\n",
       "      <td>2018-01-02</td>\n",
       "      <td>NaN</td>\n",
       "      <td>13.681</td>\n",
       "      <td>NaN</td>\n",
       "      <td>NZ$0.00</td>\n",
       "      <td>27.4</td>\n",
       "      <td>374.7000</td>\n",
       "      <td>https://www.somewebsite.com/volkswagen/gti/200...</td>\n",
       "      <td>NZ$</td>\n",
       "    </tr>\n",
       "    <tr>\n",
       "      <th>22</th>\n",
       "      <td>2019-06-18</td>\n",
       "      <td>2019-06-18</td>\n",
       "      <td>219920.0</td>\n",
       "      <td>14.804</td>\n",
       "      <td>$3.899</td>\n",
       "      <td>$57.72</td>\n",
       "      <td>17.4</td>\n",
       "      <td>257.5896</td>\n",
       "      <td>https://www.somewebsite.com/hyundai/santa_fe/2...</td>\n",
       "      <td>$</td>\n",
       "    </tr>\n",
       "    <tr>\n",
       "      <th>23</th>\n",
       "      <td>2016-06-01</td>\n",
       "      <td>2016-06-01</td>\n",
       "      <td>8269.0</td>\n",
       "      <td>13.485</td>\n",
       "      <td>$2.499</td>\n",
       "      <td>$33.70</td>\n",
       "      <td>0.0</td>\n",
       "      <td>0.0000</td>\n",
       "      <td>https://www.somewebsite.com/bmw/328d_xdrive/20...</td>\n",
       "      <td>$</td>\n",
       "    </tr>\n",
       "    <tr>\n",
       "      <th>24</th>\n",
       "      <td>2019-11-07</td>\n",
       "      <td>2019-11-07</td>\n",
       "      <td>120768.0</td>\n",
       "      <td>4.325</td>\n",
       "      <td>$2.759</td>\n",
       "      <td>$11.93</td>\n",
       "      <td>23.6</td>\n",
       "      <td>102.0700</td>\n",
       "      <td>https://www.somewebsite.com/toyota/camry/1994/...</td>\n",
       "      <td>$</td>\n",
       "    </tr>\n",
       "    <tr>\n",
       "      <th>25</th>\n",
       "      <td>NaT</td>\n",
       "      <td>2020-12-31</td>\n",
       "      <td>95115.0</td>\n",
       "      <td>9.183</td>\n",
       "      <td>zł16.81</td>\n",
       "      <td>zł154.33</td>\n",
       "      <td>28.0</td>\n",
       "      <td>257.1240</td>\n",
       "      <td>https://www.somewebsite.com/ford/kuga/2012/555481</td>\n",
       "      <td>zł</td>\n",
       "    </tr>\n",
       "    <tr>\n",
       "      <th>26</th>\n",
       "      <td>NaT</td>\n",
       "      <td>2016-09-01</td>\n",
       "      <td>250101.0</td>\n",
       "      <td>18.060</td>\n",
       "      <td>$2.879</td>\n",
       "      <td>$51.99</td>\n",
       "      <td>18.1</td>\n",
       "      <td>326.8860</td>\n",
       "      <td>https://www.somewebsite.com/volkswagen/eurovan...</td>\n",
       "      <td>$</td>\n",
       "    </tr>\n",
       "    <tr>\n",
       "      <th>27</th>\n",
       "      <td>2012-11-28</td>\n",
       "      <td>2015-09-08</td>\n",
       "      <td>NaN</td>\n",
       "      <td>11.781</td>\n",
       "      <td>€7.19</td>\n",
       "      <td>€84.73</td>\n",
       "      <td>22.1</td>\n",
       "      <td>260.6000</td>\n",
       "      <td>https://www.somewebsite.com/renault/kangoo/200...</td>\n",
       "      <td>€</td>\n",
       "    </tr>\n",
       "    <tr>\n",
       "      <th>28</th>\n",
       "      <td>2022-02-21</td>\n",
       "      <td>2022-02-21</td>\n",
       "      <td>35616.0</td>\n",
       "      <td>14.719</td>\n",
       "      <td>$3.329</td>\n",
       "      <td>$49.00</td>\n",
       "      <td>27.2</td>\n",
       "      <td>400.3568</td>\n",
       "      <td>https://www.somewebsite.com/ford/edge/2020/107...</td>\n",
       "      <td>$</td>\n",
       "    </tr>\n",
       "    <tr>\n",
       "      <th>29</th>\n",
       "      <td>2021-12-07</td>\n",
       "      <td>2021-12-07</td>\n",
       "      <td>124703.0</td>\n",
       "      <td>19.115</td>\n",
       "      <td>$2.899</td>\n",
       "      <td>$55.41</td>\n",
       "      <td>13.6</td>\n",
       "      <td>259.9640</td>\n",
       "      <td>https://www.somewebsite.com/nissan/xterra/2011...</td>\n",
       "      <td>$</td>\n",
       "    </tr>\n",
       "  </tbody>\n",
       "</table>\n",
       "</div>"
      ],
      "text/plain": [
       "   date_fueled date_captured  odometer  gallons cost_per_gallon total_spent  \\\n",
       "0          NaT    2022-04-07   73370.0      NaN             NaN         NaN   \n",
       "1   2012-11-07    2016-08-30   11983.0   12.120          $5.599      $67.86   \n",
       "2   2012-09-22    2012-09-28   98233.0    7.991           £5.45      £43.53   \n",
       "3   2019-05-04    2019-05-04  163802.0   10.575           £5.11      £54.00   \n",
       "4   2022-02-15    2022-02-15       NaN   11.651          $3.029      $35.29   \n",
       "5   2021-10-23    2021-10-23  147567.0    3.413          $3.739      $12.76   \n",
       "6   2021-11-20    2021-12-12  105929.0    9.044          $4.639      $41.96   \n",
       "7   2022-01-20    2022-01-20   59475.0   14.962          $2.929      $43.82   \n",
       "8          NaT    2018-04-16  137562.0      NaN             NaN         NaN   \n",
       "9          NaT    2020-11-29   99296.0    2.710          $1.999       $5.42   \n",
       "10  2020-11-15    2020-11-15  102001.0    9.883        RON16.69   RON164.98   \n",
       "11  2022-01-14    2022-01-14   22823.0   13.761          $2.599      $35.76   \n",
       "12  2021-11-22    2021-11-22   39423.0   12.631          $4.459      $56.32   \n",
       "13  2021-03-28    2021-03-28  107189.0   15.165          $2.759      $41.84   \n",
       "14  2021-11-17    2021-11-17  207086.0    8.024           €6.09      €48.87   \n",
       "15  2020-10-01    2020-10-01   12760.0    5.690           €5.26      €29.92   \n",
       "16  2021-05-11    2021-05-11    7811.0   16.001             NaN       $0.00   \n",
       "17  2020-04-30    2020-04-30   95054.0    9.350          $1.859      $17.38   \n",
       "18  2016-07-05    2017-10-06   62690.0   26.900          $2.359      $63.46   \n",
       "19  2014-09-11    2014-09-11   39215.0   11.850          $3.569      $42.29   \n",
       "20  2020-05-15    2020-05-15   92439.0   30.443          $2.109      $64.20   \n",
       "21  2018-01-03    2018-01-02       NaN   13.681             NaN     NZ$0.00   \n",
       "22  2019-06-18    2019-06-18  219920.0   14.804          $3.899      $57.72   \n",
       "23  2016-06-01    2016-06-01    8269.0   13.485          $2.499      $33.70   \n",
       "24  2019-11-07    2019-11-07  120768.0    4.325          $2.759      $11.93   \n",
       "25         NaT    2020-12-31   95115.0    9.183         zł16.81    zł154.33   \n",
       "26         NaT    2016-09-01  250101.0   18.060          $2.879      $51.99   \n",
       "27  2012-11-28    2015-09-08       NaN   11.781           €7.19      €84.73   \n",
       "28  2022-02-21    2022-02-21   35616.0   14.719          $3.329      $49.00   \n",
       "29  2021-12-07    2021-12-07  124703.0   19.115          $2.899      $55.41   \n",
       "\n",
       "     mpg     miles                                           user_url currency  \n",
       "0    NaN       NaN  https://www.somewebsite.com/suzuki/swift/2015/...     None  \n",
       "1   31.6  382.9920     https://www.somewebsite.com/bmw/x3/2009/461150        $  \n",
       "2   28.5  227.7435  https://www.somewebsite.com/mercedes-benz/e300...        £  \n",
       "3   46.8  494.9100   https://www.somewebsite.com/bmw/320d/2010/247233        £  \n",
       "4   21.0  244.4000  https://www.somewebsite.com/honda/passport/201...        $  \n",
       "5   29.0   98.9770  https://www.somewebsite.com/volkswagen/passat/...        $  \n",
       "6   29.5  266.7980  https://www.somewebsite.com/mazda/3_sport/2010...        $  \n",
       "7   27.3  408.4626  https://www.somewebsite.com/subaru/forester/20...        $  \n",
       "8    NaN       NaN   https://www.somewebsite.com/kianival/2009/789684     None  \n",
       "9    0.0    0.0000  https://www.somewebsite.com/lexus/rx350/2012/8...        $  \n",
       "10  38.0  375.5540  https://www.somewebsite.com/suzuki/s-cross/201...      RON  \n",
       "11  21.0  288.9810  https://www.somewebsite.com/honda/pilot/2019/9...        $  \n",
       "12  24.1  304.4071   https://www.somewebsite.com/bmw/430i/2018/855648        $  \n",
       "13  17.3  262.3545  https://www.somewebsite.com/ford/flex/2013/101...        $  \n",
       "14  53.6  430.0864  https://www.somewebsite.com/ford/fiesta/2002/7...        €  \n",
       "15  29.2  166.1480  https://www.somewebsite.com/fiat/124_spider/20...        €  \n",
       "16  24.7  395.2247  https://www.somewebsite.com/hyundai/palisade/2...        $  \n",
       "17  29.8  278.6300  https://www.somewebsite.com/ford/transit_conne...        $  \n",
       "18  11.2  301.2800  https://www.somewebsite.com/ford/e-250/2006/67...        $  \n",
       "19  25.7  304.5450   https://www.somewebsite.com/bmw/128i/2012/304767        $  \n",
       "20  12.7  386.6261  https://www.somewebsite.com/ford/f-350_super_d...        $  \n",
       "21  27.4  374.7000  https://www.somewebsite.com/volkswagen/gti/200...      NZ$  \n",
       "22  17.4  257.5896  https://www.somewebsite.com/hyundai/santa_fe/2...        $  \n",
       "23   0.0    0.0000  https://www.somewebsite.com/bmw/328d_xdrive/20...        $  \n",
       "24  23.6  102.0700  https://www.somewebsite.com/toyota/camry/1994/...        $  \n",
       "25  28.0  257.1240  https://www.somewebsite.com/ford/kuga/2012/555481       zł  \n",
       "26  18.1  326.8860  https://www.somewebsite.com/volkswagen/eurovan...        $  \n",
       "27  22.1  260.6000  https://www.somewebsite.com/renault/kangoo/200...        €  \n",
       "28  27.2  400.3568  https://www.somewebsite.com/ford/edge/2020/107...        $  \n",
       "29  13.6  259.9640  https://www.somewebsite.com/nissan/xterra/2011...        $  "
      ]
     },
     "metadata": {},
     "output_type": "display_data"
    },
    {
     "data": {
      "text/plain": [
       "$      741872\n",
       "£       87568\n",
       "€       59261\n",
       "CA$     46846\n",
       "R       36415\n",
       "        ...  \n",
       "TMT        11\n",
       "CV$        11\n",
       "KGS         9\n",
       "L$          9\n",
       "IQD         8\n",
       "Name: currency, Length: 121, dtype: int64"
      ]
     },
     "execution_count": 216,
     "metadata": {},
     "output_type": "execute_result"
    }
   ],
   "source": [
    "dataset[\"currency\"] = dataset[\"total_spent\"].apply(currency)\n",
    "display(dataset.head(30))\n",
    "\n",
    "dataset[\"currency\"].value_counts()"
   ]
  },
  {
   "cell_type": "markdown",
   "id": "6278de38",
   "metadata": {},
   "source": [
    "<h2>7.Total spent</h2>"
   ]
  },
  {
   "cell_type": "code",
   "execution_count": 217,
   "id": "a99d034e",
   "metadata": {},
   "outputs": [
    {
     "data": {
      "text/html": [
       "<div>\n",
       "<style scoped>\n",
       "    .dataframe tbody tr th:only-of-type {\n",
       "        vertical-align: middle;\n",
       "    }\n",
       "\n",
       "    .dataframe tbody tr th {\n",
       "        vertical-align: top;\n",
       "    }\n",
       "\n",
       "    .dataframe thead th {\n",
       "        text-align: right;\n",
       "    }\n",
       "</style>\n",
       "<table border=\"1\" class=\"dataframe\">\n",
       "  <thead>\n",
       "    <tr style=\"text-align: right;\">\n",
       "      <th></th>\n",
       "      <th>date_fueled</th>\n",
       "      <th>date_captured</th>\n",
       "      <th>odometer</th>\n",
       "      <th>gallons</th>\n",
       "      <th>cost_per_gallon</th>\n",
       "      <th>total_spent</th>\n",
       "      <th>mpg</th>\n",
       "      <th>miles</th>\n",
       "      <th>user_url</th>\n",
       "      <th>currency</th>\n",
       "      <th>total_spent_float</th>\n",
       "    </tr>\n",
       "  </thead>\n",
       "  <tbody>\n",
       "    <tr>\n",
       "      <th>0</th>\n",
       "      <td>NaT</td>\n",
       "      <td>2022-04-07</td>\n",
       "      <td>73370.0</td>\n",
       "      <td>NaN</td>\n",
       "      <td>NaN</td>\n",
       "      <td>NaN</td>\n",
       "      <td>NaN</td>\n",
       "      <td>NaN</td>\n",
       "      <td>https://www.somewebsite.com/suzuki/swift/2015/...</td>\n",
       "      <td>None</td>\n",
       "      <td>NaN</td>\n",
       "    </tr>\n",
       "    <tr>\n",
       "      <th>1</th>\n",
       "      <td>2012-11-07</td>\n",
       "      <td>2016-08-30</td>\n",
       "      <td>11983.0</td>\n",
       "      <td>12.120</td>\n",
       "      <td>$5.599</td>\n",
       "      <td>$67.86</td>\n",
       "      <td>31.6</td>\n",
       "      <td>382.9920</td>\n",
       "      <td>https://www.somewebsite.com/bmw/x3/2009/461150</td>\n",
       "      <td>$</td>\n",
       "      <td>67.86</td>\n",
       "    </tr>\n",
       "    <tr>\n",
       "      <th>2</th>\n",
       "      <td>2012-09-22</td>\n",
       "      <td>2012-09-28</td>\n",
       "      <td>98233.0</td>\n",
       "      <td>7.991</td>\n",
       "      <td>£5.45</td>\n",
       "      <td>£43.53</td>\n",
       "      <td>28.5</td>\n",
       "      <td>227.7435</td>\n",
       "      <td>https://www.somewebsite.com/mercedes-benz/e300...</td>\n",
       "      <td>£</td>\n",
       "      <td>43.53</td>\n",
       "    </tr>\n",
       "    <tr>\n",
       "      <th>3</th>\n",
       "      <td>2019-05-04</td>\n",
       "      <td>2019-05-04</td>\n",
       "      <td>163802.0</td>\n",
       "      <td>10.575</td>\n",
       "      <td>£5.11</td>\n",
       "      <td>£54.00</td>\n",
       "      <td>46.8</td>\n",
       "      <td>494.9100</td>\n",
       "      <td>https://www.somewebsite.com/bmw/320d/2010/247233</td>\n",
       "      <td>£</td>\n",
       "      <td>54.00</td>\n",
       "    </tr>\n",
       "    <tr>\n",
       "      <th>4</th>\n",
       "      <td>2022-02-15</td>\n",
       "      <td>2022-02-15</td>\n",
       "      <td>NaN</td>\n",
       "      <td>11.651</td>\n",
       "      <td>$3.029</td>\n",
       "      <td>$35.29</td>\n",
       "      <td>21.0</td>\n",
       "      <td>244.4000</td>\n",
       "      <td>https://www.somewebsite.com/honda/passport/201...</td>\n",
       "      <td>$</td>\n",
       "      <td>35.29</td>\n",
       "    </tr>\n",
       "    <tr>\n",
       "      <th>...</th>\n",
       "      <td>...</td>\n",
       "      <td>...</td>\n",
       "      <td>...</td>\n",
       "      <td>...</td>\n",
       "      <td>...</td>\n",
       "      <td>...</td>\n",
       "      <td>...</td>\n",
       "      <td>...</td>\n",
       "      <td>...</td>\n",
       "      <td>...</td>\n",
       "      <td>...</td>\n",
       "    </tr>\n",
       "    <tr>\n",
       "      <th>1174865</th>\n",
       "      <td>2020-02-19</td>\n",
       "      <td>2020-02-19</td>\n",
       "      <td>118237.0</td>\n",
       "      <td>13.046</td>\n",
       "      <td>$1.999</td>\n",
       "      <td>$26.08</td>\n",
       "      <td>NaN</td>\n",
       "      <td>NaN</td>\n",
       "      <td>https://www.somewebsite.com/volkswagen/beetle/...</td>\n",
       "      <td>$</td>\n",
       "      <td>26.08</td>\n",
       "    </tr>\n",
       "    <tr>\n",
       "      <th>1174866</th>\n",
       "      <td>2019-12-06</td>\n",
       "      <td>2019-12-06</td>\n",
       "      <td>141761.0</td>\n",
       "      <td>12.637</td>\n",
       "      <td>$2.449</td>\n",
       "      <td>$30.95</td>\n",
       "      <td>NaN</td>\n",
       "      <td>NaN</td>\n",
       "      <td>https://www.somewebsite.com/toyota/avalon/2000...</td>\n",
       "      <td>$</td>\n",
       "      <td>30.95</td>\n",
       "    </tr>\n",
       "    <tr>\n",
       "      <th>1174867</th>\n",
       "      <td>2021-10-04</td>\n",
       "      <td>2021-10-04</td>\n",
       "      <td>65029.0</td>\n",
       "      <td>10.002</td>\n",
       "      <td>$3.449</td>\n",
       "      <td>$34.50</td>\n",
       "      <td>NaN</td>\n",
       "      <td>NaN</td>\n",
       "      <td>https://www.somewebsite.com/fiat/500/2013/909694</td>\n",
       "      <td>$</td>\n",
       "      <td>34.50</td>\n",
       "    </tr>\n",
       "    <tr>\n",
       "      <th>1174868</th>\n",
       "      <td>2021-07-26</td>\n",
       "      <td>2021-07-26</td>\n",
       "      <td>15255.0</td>\n",
       "      <td>10.493</td>\n",
       "      <td>$3.539</td>\n",
       "      <td>$37.13</td>\n",
       "      <td>NaN</td>\n",
       "      <td>NaN</td>\n",
       "      <td>https://www.somewebsite.com/mini/cooper/2019/9...</td>\n",
       "      <td>$</td>\n",
       "      <td>37.13</td>\n",
       "    </tr>\n",
       "    <tr>\n",
       "      <th>1174869</th>\n",
       "      <td>2019-03-12</td>\n",
       "      <td>2019-03-12</td>\n",
       "      <td>204774.0</td>\n",
       "      <td>17.350</td>\n",
       "      <td>$3.199</td>\n",
       "      <td>$55.50</td>\n",
       "      <td>NaN</td>\n",
       "      <td>NaN</td>\n",
       "      <td>https://www.somewebsite.com/lexus/lx470/2001/8...</td>\n",
       "      <td>$</td>\n",
       "      <td>55.50</td>\n",
       "    </tr>\n",
       "  </tbody>\n",
       "</table>\n",
       "<p>1174156 rows × 11 columns</p>\n",
       "</div>"
      ],
      "text/plain": [
       "        date_fueled date_captured  odometer  gallons cost_per_gallon  \\\n",
       "0               NaT    2022-04-07   73370.0      NaN             NaN   \n",
       "1        2012-11-07    2016-08-30   11983.0   12.120          $5.599   \n",
       "2        2012-09-22    2012-09-28   98233.0    7.991           £5.45   \n",
       "3        2019-05-04    2019-05-04  163802.0   10.575           £5.11   \n",
       "4        2022-02-15    2022-02-15       NaN   11.651          $3.029   \n",
       "...             ...           ...       ...      ...             ...   \n",
       "1174865  2020-02-19    2020-02-19  118237.0   13.046          $1.999   \n",
       "1174866  2019-12-06    2019-12-06  141761.0   12.637          $2.449   \n",
       "1174867  2021-10-04    2021-10-04   65029.0   10.002          $3.449   \n",
       "1174868  2021-07-26    2021-07-26   15255.0   10.493          $3.539   \n",
       "1174869  2019-03-12    2019-03-12  204774.0   17.350          $3.199   \n",
       "\n",
       "        total_spent   mpg     miles  \\\n",
       "0               NaN   NaN       NaN   \n",
       "1            $67.86  31.6  382.9920   \n",
       "2            £43.53  28.5  227.7435   \n",
       "3            £54.00  46.8  494.9100   \n",
       "4            $35.29  21.0  244.4000   \n",
       "...             ...   ...       ...   \n",
       "1174865      $26.08   NaN       NaN   \n",
       "1174866      $30.95   NaN       NaN   \n",
       "1174867      $34.50   NaN       NaN   \n",
       "1174868      $37.13   NaN       NaN   \n",
       "1174869      $55.50   NaN       NaN   \n",
       "\n",
       "                                                  user_url currency  \\\n",
       "0        https://www.somewebsite.com/suzuki/swift/2015/...     None   \n",
       "1           https://www.somewebsite.com/bmw/x3/2009/461150        $   \n",
       "2        https://www.somewebsite.com/mercedes-benz/e300...        £   \n",
       "3         https://www.somewebsite.com/bmw/320d/2010/247233        £   \n",
       "4        https://www.somewebsite.com/honda/passport/201...        $   \n",
       "...                                                    ...      ...   \n",
       "1174865  https://www.somewebsite.com/volkswagen/beetle/...        $   \n",
       "1174866  https://www.somewebsite.com/toyota/avalon/2000...        $   \n",
       "1174867   https://www.somewebsite.com/fiat/500/2013/909694        $   \n",
       "1174868  https://www.somewebsite.com/mini/cooper/2019/9...        $   \n",
       "1174869  https://www.somewebsite.com/lexus/lx470/2001/8...        $   \n",
       "\n",
       "         total_spent_float  \n",
       "0                      NaN  \n",
       "1                    67.86  \n",
       "2                    43.53  \n",
       "3                    54.00  \n",
       "4                    35.29  \n",
       "...                    ...  \n",
       "1174865              26.08  \n",
       "1174866              30.95  \n",
       "1174867              34.50  \n",
       "1174868              37.13  \n",
       "1174869              55.50  \n",
       "\n",
       "[1174156 rows x 11 columns]"
      ]
     },
     "execution_count": 217,
     "metadata": {},
     "output_type": "execute_result"
    }
   ],
   "source": [
    "dataset[\"total_spent_float\"]=dataset[\"total_spent\"].apply(float_val)\n",
    "dataset"
   ]
  },
  {
   "cell_type": "code",
   "execution_count": null,
   "id": "3b4a35f4",
   "metadata": {},
   "outputs": [],
   "source": []
  },
  {
   "cell_type": "markdown",
   "id": "06ae7e56",
   "metadata": {},
   "source": [
    "<h2>8.Cost per gallon</h2>"
   ]
  },
  {
   "cell_type": "code",
   "execution_count": 218,
   "id": "42bb15ab",
   "metadata": {},
   "outputs": [
    {
     "data": {
      "text/html": [
       "<div>\n",
       "<style scoped>\n",
       "    .dataframe tbody tr th:only-of-type {\n",
       "        vertical-align: middle;\n",
       "    }\n",
       "\n",
       "    .dataframe tbody tr th {\n",
       "        vertical-align: top;\n",
       "    }\n",
       "\n",
       "    .dataframe thead th {\n",
       "        text-align: right;\n",
       "    }\n",
       "</style>\n",
       "<table border=\"1\" class=\"dataframe\">\n",
       "  <thead>\n",
       "    <tr style=\"text-align: right;\">\n",
       "      <th></th>\n",
       "      <th>date_fueled</th>\n",
       "      <th>date_captured</th>\n",
       "      <th>odometer</th>\n",
       "      <th>gallons</th>\n",
       "      <th>cost_per_gallon</th>\n",
       "      <th>total_spent</th>\n",
       "      <th>mpg</th>\n",
       "      <th>miles</th>\n",
       "      <th>user_url</th>\n",
       "      <th>currency</th>\n",
       "      <th>total_spent_float</th>\n",
       "      <th>cpg_float</th>\n",
       "    </tr>\n",
       "  </thead>\n",
       "  <tbody>\n",
       "    <tr>\n",
       "      <th>0</th>\n",
       "      <td>NaT</td>\n",
       "      <td>2022-04-07</td>\n",
       "      <td>73370.0</td>\n",
       "      <td>NaN</td>\n",
       "      <td>NaN</td>\n",
       "      <td>NaN</td>\n",
       "      <td>NaN</td>\n",
       "      <td>NaN</td>\n",
       "      <td>https://www.somewebsite.com/suzuki/swift/2015/...</td>\n",
       "      <td>None</td>\n",
       "      <td>NaN</td>\n",
       "      <td>NaN</td>\n",
       "    </tr>\n",
       "    <tr>\n",
       "      <th>1</th>\n",
       "      <td>2012-11-07</td>\n",
       "      <td>2016-08-30</td>\n",
       "      <td>11983.0</td>\n",
       "      <td>12.120</td>\n",
       "      <td>$5.599</td>\n",
       "      <td>$67.86</td>\n",
       "      <td>31.6</td>\n",
       "      <td>382.9920</td>\n",
       "      <td>https://www.somewebsite.com/bmw/x3/2009/461150</td>\n",
       "      <td>$</td>\n",
       "      <td>67.86</td>\n",
       "      <td>5.599</td>\n",
       "    </tr>\n",
       "    <tr>\n",
       "      <th>2</th>\n",
       "      <td>2012-09-22</td>\n",
       "      <td>2012-09-28</td>\n",
       "      <td>98233.0</td>\n",
       "      <td>7.991</td>\n",
       "      <td>£5.45</td>\n",
       "      <td>£43.53</td>\n",
       "      <td>28.5</td>\n",
       "      <td>227.7435</td>\n",
       "      <td>https://www.somewebsite.com/mercedes-benz/e300...</td>\n",
       "      <td>£</td>\n",
       "      <td>43.53</td>\n",
       "      <td>5.450</td>\n",
       "    </tr>\n",
       "    <tr>\n",
       "      <th>3</th>\n",
       "      <td>2019-05-04</td>\n",
       "      <td>2019-05-04</td>\n",
       "      <td>163802.0</td>\n",
       "      <td>10.575</td>\n",
       "      <td>£5.11</td>\n",
       "      <td>£54.00</td>\n",
       "      <td>46.8</td>\n",
       "      <td>494.9100</td>\n",
       "      <td>https://www.somewebsite.com/bmw/320d/2010/247233</td>\n",
       "      <td>£</td>\n",
       "      <td>54.00</td>\n",
       "      <td>5.110</td>\n",
       "    </tr>\n",
       "    <tr>\n",
       "      <th>4</th>\n",
       "      <td>2022-02-15</td>\n",
       "      <td>2022-02-15</td>\n",
       "      <td>NaN</td>\n",
       "      <td>11.651</td>\n",
       "      <td>$3.029</td>\n",
       "      <td>$35.29</td>\n",
       "      <td>21.0</td>\n",
       "      <td>244.4000</td>\n",
       "      <td>https://www.somewebsite.com/honda/passport/201...</td>\n",
       "      <td>$</td>\n",
       "      <td>35.29</td>\n",
       "      <td>3.029</td>\n",
       "    </tr>\n",
       "    <tr>\n",
       "      <th>...</th>\n",
       "      <td>...</td>\n",
       "      <td>...</td>\n",
       "      <td>...</td>\n",
       "      <td>...</td>\n",
       "      <td>...</td>\n",
       "      <td>...</td>\n",
       "      <td>...</td>\n",
       "      <td>...</td>\n",
       "      <td>...</td>\n",
       "      <td>...</td>\n",
       "      <td>...</td>\n",
       "      <td>...</td>\n",
       "    </tr>\n",
       "    <tr>\n",
       "      <th>1174865</th>\n",
       "      <td>2020-02-19</td>\n",
       "      <td>2020-02-19</td>\n",
       "      <td>118237.0</td>\n",
       "      <td>13.046</td>\n",
       "      <td>$1.999</td>\n",
       "      <td>$26.08</td>\n",
       "      <td>NaN</td>\n",
       "      <td>NaN</td>\n",
       "      <td>https://www.somewebsite.com/volkswagen/beetle/...</td>\n",
       "      <td>$</td>\n",
       "      <td>26.08</td>\n",
       "      <td>1.999</td>\n",
       "    </tr>\n",
       "    <tr>\n",
       "      <th>1174866</th>\n",
       "      <td>2019-12-06</td>\n",
       "      <td>2019-12-06</td>\n",
       "      <td>141761.0</td>\n",
       "      <td>12.637</td>\n",
       "      <td>$2.449</td>\n",
       "      <td>$30.95</td>\n",
       "      <td>NaN</td>\n",
       "      <td>NaN</td>\n",
       "      <td>https://www.somewebsite.com/toyota/avalon/2000...</td>\n",
       "      <td>$</td>\n",
       "      <td>30.95</td>\n",
       "      <td>2.449</td>\n",
       "    </tr>\n",
       "    <tr>\n",
       "      <th>1174867</th>\n",
       "      <td>2021-10-04</td>\n",
       "      <td>2021-10-04</td>\n",
       "      <td>65029.0</td>\n",
       "      <td>10.002</td>\n",
       "      <td>$3.449</td>\n",
       "      <td>$34.50</td>\n",
       "      <td>NaN</td>\n",
       "      <td>NaN</td>\n",
       "      <td>https://www.somewebsite.com/fiat/500/2013/909694</td>\n",
       "      <td>$</td>\n",
       "      <td>34.50</td>\n",
       "      <td>3.449</td>\n",
       "    </tr>\n",
       "    <tr>\n",
       "      <th>1174868</th>\n",
       "      <td>2021-07-26</td>\n",
       "      <td>2021-07-26</td>\n",
       "      <td>15255.0</td>\n",
       "      <td>10.493</td>\n",
       "      <td>$3.539</td>\n",
       "      <td>$37.13</td>\n",
       "      <td>NaN</td>\n",
       "      <td>NaN</td>\n",
       "      <td>https://www.somewebsite.com/mini/cooper/2019/9...</td>\n",
       "      <td>$</td>\n",
       "      <td>37.13</td>\n",
       "      <td>3.539</td>\n",
       "    </tr>\n",
       "    <tr>\n",
       "      <th>1174869</th>\n",
       "      <td>2019-03-12</td>\n",
       "      <td>2019-03-12</td>\n",
       "      <td>204774.0</td>\n",
       "      <td>17.350</td>\n",
       "      <td>$3.199</td>\n",
       "      <td>$55.50</td>\n",
       "      <td>NaN</td>\n",
       "      <td>NaN</td>\n",
       "      <td>https://www.somewebsite.com/lexus/lx470/2001/8...</td>\n",
       "      <td>$</td>\n",
       "      <td>55.50</td>\n",
       "      <td>3.199</td>\n",
       "    </tr>\n",
       "  </tbody>\n",
       "</table>\n",
       "<p>1174156 rows × 12 columns</p>\n",
       "</div>"
      ],
      "text/plain": [
       "        date_fueled date_captured  odometer  gallons cost_per_gallon  \\\n",
       "0               NaT    2022-04-07   73370.0      NaN             NaN   \n",
       "1        2012-11-07    2016-08-30   11983.0   12.120          $5.599   \n",
       "2        2012-09-22    2012-09-28   98233.0    7.991           £5.45   \n",
       "3        2019-05-04    2019-05-04  163802.0   10.575           £5.11   \n",
       "4        2022-02-15    2022-02-15       NaN   11.651          $3.029   \n",
       "...             ...           ...       ...      ...             ...   \n",
       "1174865  2020-02-19    2020-02-19  118237.0   13.046          $1.999   \n",
       "1174866  2019-12-06    2019-12-06  141761.0   12.637          $2.449   \n",
       "1174867  2021-10-04    2021-10-04   65029.0   10.002          $3.449   \n",
       "1174868  2021-07-26    2021-07-26   15255.0   10.493          $3.539   \n",
       "1174869  2019-03-12    2019-03-12  204774.0   17.350          $3.199   \n",
       "\n",
       "        total_spent   mpg     miles  \\\n",
       "0               NaN   NaN       NaN   \n",
       "1            $67.86  31.6  382.9920   \n",
       "2            £43.53  28.5  227.7435   \n",
       "3            £54.00  46.8  494.9100   \n",
       "4            $35.29  21.0  244.4000   \n",
       "...             ...   ...       ...   \n",
       "1174865      $26.08   NaN       NaN   \n",
       "1174866      $30.95   NaN       NaN   \n",
       "1174867      $34.50   NaN       NaN   \n",
       "1174868      $37.13   NaN       NaN   \n",
       "1174869      $55.50   NaN       NaN   \n",
       "\n",
       "                                                  user_url currency  \\\n",
       "0        https://www.somewebsite.com/suzuki/swift/2015/...     None   \n",
       "1           https://www.somewebsite.com/bmw/x3/2009/461150        $   \n",
       "2        https://www.somewebsite.com/mercedes-benz/e300...        £   \n",
       "3         https://www.somewebsite.com/bmw/320d/2010/247233        £   \n",
       "4        https://www.somewebsite.com/honda/passport/201...        $   \n",
       "...                                                    ...      ...   \n",
       "1174865  https://www.somewebsite.com/volkswagen/beetle/...        $   \n",
       "1174866  https://www.somewebsite.com/toyota/avalon/2000...        $   \n",
       "1174867   https://www.somewebsite.com/fiat/500/2013/909694        $   \n",
       "1174868  https://www.somewebsite.com/mini/cooper/2019/9...        $   \n",
       "1174869  https://www.somewebsite.com/lexus/lx470/2001/8...        $   \n",
       "\n",
       "         total_spent_float  cpg_float  \n",
       "0                      NaN        NaN  \n",
       "1                    67.86      5.599  \n",
       "2                    43.53      5.450  \n",
       "3                    54.00      5.110  \n",
       "4                    35.29      3.029  \n",
       "...                    ...        ...  \n",
       "1174865              26.08      1.999  \n",
       "1174866              30.95      2.449  \n",
       "1174867              34.50      3.449  \n",
       "1174868              37.13      3.539  \n",
       "1174869              55.50      3.199  \n",
       "\n",
       "[1174156 rows x 12 columns]"
      ]
     },
     "execution_count": 218,
     "metadata": {},
     "output_type": "execute_result"
    }
   ],
   "source": [
    "dataset[\"cpg_float\"]=dataset[\"cost_per_gallon\"].apply(float_val)\n",
    "dataset"
   ]
  },
  {
   "cell_type": "markdown",
   "id": "b8760716",
   "metadata": {},
   "source": [
    "<h2>Car Information Extraction</h2>"
   ]
  },
  {
   "cell_type": "code",
   "execution_count": 219,
   "id": "a1353085",
   "metadata": {},
   "outputs": [
    {
     "data": {
      "text/html": [
       "<div>\n",
       "<style scoped>\n",
       "    .dataframe tbody tr th:only-of-type {\n",
       "        vertical-align: middle;\n",
       "    }\n",
       "\n",
       "    .dataframe tbody tr th {\n",
       "        vertical-align: top;\n",
       "    }\n",
       "\n",
       "    .dataframe thead th {\n",
       "        text-align: right;\n",
       "    }\n",
       "</style>\n",
       "<table border=\"1\" class=\"dataframe\">\n",
       "  <thead>\n",
       "    <tr style=\"text-align: right;\">\n",
       "      <th></th>\n",
       "      <th>date_fueled</th>\n",
       "      <th>date_captured</th>\n",
       "      <th>odometer</th>\n",
       "      <th>gallons</th>\n",
       "      <th>cost_per_gallon</th>\n",
       "      <th>total_spent</th>\n",
       "      <th>mpg</th>\n",
       "      <th>miles</th>\n",
       "      <th>user_url</th>\n",
       "      <th>currency</th>\n",
       "      <th>total_spent_float</th>\n",
       "      <th>cpg_float</th>\n",
       "      <th>car_make</th>\n",
       "    </tr>\n",
       "  </thead>\n",
       "  <tbody>\n",
       "    <tr>\n",
       "      <th>0</th>\n",
       "      <td>NaT</td>\n",
       "      <td>2022-04-07</td>\n",
       "      <td>73370.0</td>\n",
       "      <td>NaN</td>\n",
       "      <td>NaN</td>\n",
       "      <td>NaN</td>\n",
       "      <td>NaN</td>\n",
       "      <td>NaN</td>\n",
       "      <td>https://www.somewebsite.com/suzuki/swift/2015/...</td>\n",
       "      <td>None</td>\n",
       "      <td>NaN</td>\n",
       "      <td>NaN</td>\n",
       "      <td>suzuki</td>\n",
       "    </tr>\n",
       "    <tr>\n",
       "      <th>1</th>\n",
       "      <td>2012-11-07</td>\n",
       "      <td>2016-08-30</td>\n",
       "      <td>11983.0</td>\n",
       "      <td>12.120</td>\n",
       "      <td>$5.599</td>\n",
       "      <td>$67.86</td>\n",
       "      <td>31.6</td>\n",
       "      <td>382.9920</td>\n",
       "      <td>https://www.somewebsite.com/bmw/x3/2009/461150</td>\n",
       "      <td>$</td>\n",
       "      <td>67.86</td>\n",
       "      <td>5.599</td>\n",
       "      <td>bmw</td>\n",
       "    </tr>\n",
       "    <tr>\n",
       "      <th>2</th>\n",
       "      <td>2012-09-22</td>\n",
       "      <td>2012-09-28</td>\n",
       "      <td>98233.0</td>\n",
       "      <td>7.991</td>\n",
       "      <td>£5.45</td>\n",
       "      <td>£43.53</td>\n",
       "      <td>28.5</td>\n",
       "      <td>227.7435</td>\n",
       "      <td>https://www.somewebsite.com/mercedes-benz/e300...</td>\n",
       "      <td>£</td>\n",
       "      <td>43.53</td>\n",
       "      <td>5.450</td>\n",
       "      <td>mercedes-benz</td>\n",
       "    </tr>\n",
       "    <tr>\n",
       "      <th>3</th>\n",
       "      <td>2019-05-04</td>\n",
       "      <td>2019-05-04</td>\n",
       "      <td>163802.0</td>\n",
       "      <td>10.575</td>\n",
       "      <td>£5.11</td>\n",
       "      <td>£54.00</td>\n",
       "      <td>46.8</td>\n",
       "      <td>494.9100</td>\n",
       "      <td>https://www.somewebsite.com/bmw/320d/2010/247233</td>\n",
       "      <td>£</td>\n",
       "      <td>54.00</td>\n",
       "      <td>5.110</td>\n",
       "      <td>bmw</td>\n",
       "    </tr>\n",
       "    <tr>\n",
       "      <th>4</th>\n",
       "      <td>2022-02-15</td>\n",
       "      <td>2022-02-15</td>\n",
       "      <td>NaN</td>\n",
       "      <td>11.651</td>\n",
       "      <td>$3.029</td>\n",
       "      <td>$35.29</td>\n",
       "      <td>21.0</td>\n",
       "      <td>244.4000</td>\n",
       "      <td>https://www.somewebsite.com/honda/passport/201...</td>\n",
       "      <td>$</td>\n",
       "      <td>35.29</td>\n",
       "      <td>3.029</td>\n",
       "      <td>honda</td>\n",
       "    </tr>\n",
       "    <tr>\n",
       "      <th>5</th>\n",
       "      <td>2021-10-23</td>\n",
       "      <td>2021-10-23</td>\n",
       "      <td>147567.0</td>\n",
       "      <td>3.413</td>\n",
       "      <td>$3.739</td>\n",
       "      <td>$12.76</td>\n",
       "      <td>29.0</td>\n",
       "      <td>98.9770</td>\n",
       "      <td>https://www.somewebsite.com/volkswagen/passat/...</td>\n",
       "      <td>$</td>\n",
       "      <td>12.76</td>\n",
       "      <td>3.739</td>\n",
       "      <td>volkswagen</td>\n",
       "    </tr>\n",
       "    <tr>\n",
       "      <th>6</th>\n",
       "      <td>2021-11-20</td>\n",
       "      <td>2021-12-12</td>\n",
       "      <td>105929.0</td>\n",
       "      <td>9.044</td>\n",
       "      <td>$4.639</td>\n",
       "      <td>$41.96</td>\n",
       "      <td>29.5</td>\n",
       "      <td>266.7980</td>\n",
       "      <td>https://www.somewebsite.com/mazda/3_sport/2010...</td>\n",
       "      <td>$</td>\n",
       "      <td>41.96</td>\n",
       "      <td>4.639</td>\n",
       "      <td>mazda</td>\n",
       "    </tr>\n",
       "    <tr>\n",
       "      <th>7</th>\n",
       "      <td>2022-01-20</td>\n",
       "      <td>2022-01-20</td>\n",
       "      <td>59475.0</td>\n",
       "      <td>14.962</td>\n",
       "      <td>$2.929</td>\n",
       "      <td>$43.82</td>\n",
       "      <td>27.3</td>\n",
       "      <td>408.4626</td>\n",
       "      <td>https://www.somewebsite.com/subaru/forester/20...</td>\n",
       "      <td>$</td>\n",
       "      <td>43.82</td>\n",
       "      <td>2.929</td>\n",
       "      <td>subaru</td>\n",
       "    </tr>\n",
       "    <tr>\n",
       "      <th>8</th>\n",
       "      <td>NaT</td>\n",
       "      <td>2018-04-16</td>\n",
       "      <td>137562.0</td>\n",
       "      <td>NaN</td>\n",
       "      <td>NaN</td>\n",
       "      <td>NaN</td>\n",
       "      <td>NaN</td>\n",
       "      <td>NaN</td>\n",
       "      <td>https://www.somewebsite.com/kianival/2009/789684</td>\n",
       "      <td>None</td>\n",
       "      <td>NaN</td>\n",
       "      <td>NaN</td>\n",
       "      <td>kianival</td>\n",
       "    </tr>\n",
       "    <tr>\n",
       "      <th>9</th>\n",
       "      <td>NaT</td>\n",
       "      <td>2020-11-29</td>\n",
       "      <td>99296.0</td>\n",
       "      <td>2.710</td>\n",
       "      <td>$1.999</td>\n",
       "      <td>$5.42</td>\n",
       "      <td>0.0</td>\n",
       "      <td>0.0000</td>\n",
       "      <td>https://www.somewebsite.com/lexus/rx350/2012/8...</td>\n",
       "      <td>$</td>\n",
       "      <td>5.42</td>\n",
       "      <td>1.999</td>\n",
       "      <td>lexus</td>\n",
       "    </tr>\n",
       "  </tbody>\n",
       "</table>\n",
       "</div>"
      ],
      "text/plain": [
       "  date_fueled date_captured  odometer  gallons cost_per_gallon total_spent  \\\n",
       "0         NaT    2022-04-07   73370.0      NaN             NaN         NaN   \n",
       "1  2012-11-07    2016-08-30   11983.0   12.120          $5.599      $67.86   \n",
       "2  2012-09-22    2012-09-28   98233.0    7.991           £5.45      £43.53   \n",
       "3  2019-05-04    2019-05-04  163802.0   10.575           £5.11      £54.00   \n",
       "4  2022-02-15    2022-02-15       NaN   11.651          $3.029      $35.29   \n",
       "5  2021-10-23    2021-10-23  147567.0    3.413          $3.739      $12.76   \n",
       "6  2021-11-20    2021-12-12  105929.0    9.044          $4.639      $41.96   \n",
       "7  2022-01-20    2022-01-20   59475.0   14.962          $2.929      $43.82   \n",
       "8         NaT    2018-04-16  137562.0      NaN             NaN         NaN   \n",
       "9         NaT    2020-11-29   99296.0    2.710          $1.999       $5.42   \n",
       "\n",
       "    mpg     miles                                           user_url currency  \\\n",
       "0   NaN       NaN  https://www.somewebsite.com/suzuki/swift/2015/...     None   \n",
       "1  31.6  382.9920     https://www.somewebsite.com/bmw/x3/2009/461150        $   \n",
       "2  28.5  227.7435  https://www.somewebsite.com/mercedes-benz/e300...        £   \n",
       "3  46.8  494.9100   https://www.somewebsite.com/bmw/320d/2010/247233        £   \n",
       "4  21.0  244.4000  https://www.somewebsite.com/honda/passport/201...        $   \n",
       "5  29.0   98.9770  https://www.somewebsite.com/volkswagen/passat/...        $   \n",
       "6  29.5  266.7980  https://www.somewebsite.com/mazda/3_sport/2010...        $   \n",
       "7  27.3  408.4626  https://www.somewebsite.com/subaru/forester/20...        $   \n",
       "8   NaN       NaN   https://www.somewebsite.com/kianival/2009/789684     None   \n",
       "9   0.0    0.0000  https://www.somewebsite.com/lexus/rx350/2012/8...        $   \n",
       "\n",
       "   total_spent_float  cpg_float       car_make  \n",
       "0                NaN        NaN         suzuki  \n",
       "1              67.86      5.599            bmw  \n",
       "2              43.53      5.450  mercedes-benz  \n",
       "3              54.00      5.110            bmw  \n",
       "4              35.29      3.029          honda  \n",
       "5              12.76      3.739     volkswagen  \n",
       "6              41.96      4.639          mazda  \n",
       "7              43.82      2.929         subaru  \n",
       "8                NaN        NaN       kianival  \n",
       "9               5.42      1.999          lexus  "
      ]
     },
     "execution_count": 219,
     "metadata": {},
     "output_type": "execute_result"
    }
   ],
   "source": [
    "dataset[\"car_make\"]=dataset[\"user_url\"].apply(car)\n",
    "dataset.head(10)"
   ]
  },
  {
   "cell_type": "code",
   "execution_count": 220,
   "id": "ebc884ac",
   "metadata": {},
   "outputs": [
    {
     "data": {
      "text/html": [
       "<div>\n",
       "<style scoped>\n",
       "    .dataframe tbody tr th:only-of-type {\n",
       "        vertical-align: middle;\n",
       "    }\n",
       "\n",
       "    .dataframe tbody tr th {\n",
       "        vertical-align: top;\n",
       "    }\n",
       "\n",
       "    .dataframe thead th {\n",
       "        text-align: right;\n",
       "    }\n",
       "</style>\n",
       "<table border=\"1\" class=\"dataframe\">\n",
       "  <thead>\n",
       "    <tr style=\"text-align: right;\">\n",
       "      <th></th>\n",
       "      <th>date_fueled</th>\n",
       "      <th>date_captured</th>\n",
       "      <th>odometer</th>\n",
       "      <th>gallons</th>\n",
       "      <th>cost_per_gallon</th>\n",
       "      <th>total_spent</th>\n",
       "      <th>mpg</th>\n",
       "      <th>miles</th>\n",
       "      <th>user_url</th>\n",
       "      <th>currency</th>\n",
       "      <th>total_spent_float</th>\n",
       "      <th>cpg_float</th>\n",
       "      <th>car_make</th>\n",
       "      <th>model</th>\n",
       "    </tr>\n",
       "  </thead>\n",
       "  <tbody>\n",
       "    <tr>\n",
       "      <th>0</th>\n",
       "      <td>NaT</td>\n",
       "      <td>2022-04-07</td>\n",
       "      <td>73370.0</td>\n",
       "      <td>NaN</td>\n",
       "      <td>NaN</td>\n",
       "      <td>NaN</td>\n",
       "      <td>NaN</td>\n",
       "      <td>NaN</td>\n",
       "      <td>https://www.somewebsite.com/suzuki/swift/2015/...</td>\n",
       "      <td>None</td>\n",
       "      <td>NaN</td>\n",
       "      <td>NaN</td>\n",
       "      <td>suzuki</td>\n",
       "      <td>swift</td>\n",
       "    </tr>\n",
       "    <tr>\n",
       "      <th>1</th>\n",
       "      <td>2012-11-07</td>\n",
       "      <td>2016-08-30</td>\n",
       "      <td>11983.0</td>\n",
       "      <td>12.120</td>\n",
       "      <td>$5.599</td>\n",
       "      <td>$67.86</td>\n",
       "      <td>31.6</td>\n",
       "      <td>382.9920</td>\n",
       "      <td>https://www.somewebsite.com/bmw/x3/2009/461150</td>\n",
       "      <td>$</td>\n",
       "      <td>67.86</td>\n",
       "      <td>5.599</td>\n",
       "      <td>bmw</td>\n",
       "      <td>x3</td>\n",
       "    </tr>\n",
       "    <tr>\n",
       "      <th>2</th>\n",
       "      <td>2012-09-22</td>\n",
       "      <td>2012-09-28</td>\n",
       "      <td>98233.0</td>\n",
       "      <td>7.991</td>\n",
       "      <td>£5.45</td>\n",
       "      <td>£43.53</td>\n",
       "      <td>28.5</td>\n",
       "      <td>227.7435</td>\n",
       "      <td>https://www.somewebsite.com/mercedes-benz/e300...</td>\n",
       "      <td>£</td>\n",
       "      <td>43.53</td>\n",
       "      <td>5.450</td>\n",
       "      <td>mercedes-benz</td>\n",
       "      <td>e300</td>\n",
       "    </tr>\n",
       "    <tr>\n",
       "      <th>3</th>\n",
       "      <td>2019-05-04</td>\n",
       "      <td>2019-05-04</td>\n",
       "      <td>163802.0</td>\n",
       "      <td>10.575</td>\n",
       "      <td>£5.11</td>\n",
       "      <td>£54.00</td>\n",
       "      <td>46.8</td>\n",
       "      <td>494.9100</td>\n",
       "      <td>https://www.somewebsite.com/bmw/320d/2010/247233</td>\n",
       "      <td>£</td>\n",
       "      <td>54.00</td>\n",
       "      <td>5.110</td>\n",
       "      <td>bmw</td>\n",
       "      <td>320d</td>\n",
       "    </tr>\n",
       "    <tr>\n",
       "      <th>4</th>\n",
       "      <td>2022-02-15</td>\n",
       "      <td>2022-02-15</td>\n",
       "      <td>NaN</td>\n",
       "      <td>11.651</td>\n",
       "      <td>$3.029</td>\n",
       "      <td>$35.29</td>\n",
       "      <td>21.0</td>\n",
       "      <td>244.4000</td>\n",
       "      <td>https://www.somewebsite.com/honda/passport/201...</td>\n",
       "      <td>$</td>\n",
       "      <td>35.29</td>\n",
       "      <td>3.029</td>\n",
       "      <td>honda</td>\n",
       "      <td>passport</td>\n",
       "    </tr>\n",
       "    <tr>\n",
       "      <th>5</th>\n",
       "      <td>2021-10-23</td>\n",
       "      <td>2021-10-23</td>\n",
       "      <td>147567.0</td>\n",
       "      <td>3.413</td>\n",
       "      <td>$3.739</td>\n",
       "      <td>$12.76</td>\n",
       "      <td>29.0</td>\n",
       "      <td>98.9770</td>\n",
       "      <td>https://www.somewebsite.com/volkswagen/passat/...</td>\n",
       "      <td>$</td>\n",
       "      <td>12.76</td>\n",
       "      <td>3.739</td>\n",
       "      <td>volkswagen</td>\n",
       "      <td>passat</td>\n",
       "    </tr>\n",
       "    <tr>\n",
       "      <th>6</th>\n",
       "      <td>2021-11-20</td>\n",
       "      <td>2021-12-12</td>\n",
       "      <td>105929.0</td>\n",
       "      <td>9.044</td>\n",
       "      <td>$4.639</td>\n",
       "      <td>$41.96</td>\n",
       "      <td>29.5</td>\n",
       "      <td>266.7980</td>\n",
       "      <td>https://www.somewebsite.com/mazda/3_sport/2010...</td>\n",
       "      <td>$</td>\n",
       "      <td>41.96</td>\n",
       "      <td>4.639</td>\n",
       "      <td>mazda</td>\n",
       "      <td>3_sport</td>\n",
       "    </tr>\n",
       "    <tr>\n",
       "      <th>7</th>\n",
       "      <td>2022-01-20</td>\n",
       "      <td>2022-01-20</td>\n",
       "      <td>59475.0</td>\n",
       "      <td>14.962</td>\n",
       "      <td>$2.929</td>\n",
       "      <td>$43.82</td>\n",
       "      <td>27.3</td>\n",
       "      <td>408.4626</td>\n",
       "      <td>https://www.somewebsite.com/subaru/forester/20...</td>\n",
       "      <td>$</td>\n",
       "      <td>43.82</td>\n",
       "      <td>2.929</td>\n",
       "      <td>subaru</td>\n",
       "      <td>forester</td>\n",
       "    </tr>\n",
       "    <tr>\n",
       "      <th>8</th>\n",
       "      <td>NaT</td>\n",
       "      <td>2018-04-16</td>\n",
       "      <td>137562.0</td>\n",
       "      <td>NaN</td>\n",
       "      <td>NaN</td>\n",
       "      <td>NaN</td>\n",
       "      <td>NaN</td>\n",
       "      <td>NaN</td>\n",
       "      <td>https://www.somewebsite.com/kianival/2009/789684</td>\n",
       "      <td>None</td>\n",
       "      <td>NaN</td>\n",
       "      <td>NaN</td>\n",
       "      <td>kianival</td>\n",
       "      <td>None</td>\n",
       "    </tr>\n",
       "    <tr>\n",
       "      <th>9</th>\n",
       "      <td>NaT</td>\n",
       "      <td>2020-11-29</td>\n",
       "      <td>99296.0</td>\n",
       "      <td>2.710</td>\n",
       "      <td>$1.999</td>\n",
       "      <td>$5.42</td>\n",
       "      <td>0.0</td>\n",
       "      <td>0.0000</td>\n",
       "      <td>https://www.somewebsite.com/lexus/rx350/2012/8...</td>\n",
       "      <td>$</td>\n",
       "      <td>5.42</td>\n",
       "      <td>1.999</td>\n",
       "      <td>lexus</td>\n",
       "      <td>rx350</td>\n",
       "    </tr>\n",
       "  </tbody>\n",
       "</table>\n",
       "</div>"
      ],
      "text/plain": [
       "  date_fueled date_captured  odometer  gallons cost_per_gallon total_spent  \\\n",
       "0         NaT    2022-04-07   73370.0      NaN             NaN         NaN   \n",
       "1  2012-11-07    2016-08-30   11983.0   12.120          $5.599      $67.86   \n",
       "2  2012-09-22    2012-09-28   98233.0    7.991           £5.45      £43.53   \n",
       "3  2019-05-04    2019-05-04  163802.0   10.575           £5.11      £54.00   \n",
       "4  2022-02-15    2022-02-15       NaN   11.651          $3.029      $35.29   \n",
       "5  2021-10-23    2021-10-23  147567.0    3.413          $3.739      $12.76   \n",
       "6  2021-11-20    2021-12-12  105929.0    9.044          $4.639      $41.96   \n",
       "7  2022-01-20    2022-01-20   59475.0   14.962          $2.929      $43.82   \n",
       "8         NaT    2018-04-16  137562.0      NaN             NaN         NaN   \n",
       "9         NaT    2020-11-29   99296.0    2.710          $1.999       $5.42   \n",
       "\n",
       "    mpg     miles                                           user_url currency  \\\n",
       "0   NaN       NaN  https://www.somewebsite.com/suzuki/swift/2015/...     None   \n",
       "1  31.6  382.9920     https://www.somewebsite.com/bmw/x3/2009/461150        $   \n",
       "2  28.5  227.7435  https://www.somewebsite.com/mercedes-benz/e300...        £   \n",
       "3  46.8  494.9100   https://www.somewebsite.com/bmw/320d/2010/247233        £   \n",
       "4  21.0  244.4000  https://www.somewebsite.com/honda/passport/201...        $   \n",
       "5  29.0   98.9770  https://www.somewebsite.com/volkswagen/passat/...        $   \n",
       "6  29.5  266.7980  https://www.somewebsite.com/mazda/3_sport/2010...        $   \n",
       "7  27.3  408.4626  https://www.somewebsite.com/subaru/forester/20...        $   \n",
       "8   NaN       NaN   https://www.somewebsite.com/kianival/2009/789684     None   \n",
       "9   0.0    0.0000  https://www.somewebsite.com/lexus/rx350/2012/8...        $   \n",
       "\n",
       "   total_spent_float  cpg_float       car_make     model  \n",
       "0                NaN        NaN         suzuki     swift  \n",
       "1              67.86      5.599            bmw        x3  \n",
       "2              43.53      5.450  mercedes-benz      e300  \n",
       "3              54.00      5.110            bmw      320d  \n",
       "4              35.29      3.029          honda  passport  \n",
       "5              12.76      3.739     volkswagen    passat  \n",
       "6              41.96      4.639          mazda   3_sport  \n",
       "7              43.82      2.929         subaru  forester  \n",
       "8                NaN        NaN       kianival      None  \n",
       "9               5.42      1.999          lexus     rx350  "
      ]
     },
     "execution_count": 220,
     "metadata": {},
     "output_type": "execute_result"
    }
   ],
   "source": [
    "dataset[\"model\"]=dataset[\"user_url\"].apply(model)\n",
    "dataset.head(10)"
   ]
  },
  {
   "cell_type": "code",
   "execution_count": 221,
   "id": "f97ed678",
   "metadata": {},
   "outputs": [
    {
     "ename": "AssertionError",
     "evalue": "",
     "output_type": "error",
     "traceback": [
      "\u001b[1;31m---------------------------------------------------------------------------\u001b[0m",
      "\u001b[1;31mAssertionError\u001b[0m                            Traceback (most recent call last)",
      "\u001b[1;32m<ipython-input-221-42ba8bb6d070>\u001b[0m in \u001b[0;36m<module>\u001b[1;34m\u001b[0m\n\u001b[1;32m----> 1\u001b[1;33m \u001b[0mdataset\u001b[0m\u001b[1;33m[\u001b[0m\u001b[1;34m\"year\"\u001b[0m\u001b[1;33m]\u001b[0m \u001b[1;33m=\u001b[0m \u001b[0mdataset\u001b[0m\u001b[1;33m[\u001b[0m\u001b[1;34m\"user_url\"\u001b[0m\u001b[1;33m]\u001b[0m\u001b[1;33m.\u001b[0m\u001b[0mapply\u001b[0m\u001b[1;33m(\u001b[0m\u001b[0myear\u001b[0m\u001b[1;33m)\u001b[0m\u001b[1;33m\u001b[0m\u001b[1;33m\u001b[0m\u001b[0m\n\u001b[0m\u001b[0;32m      2\u001b[0m \u001b[0mdataset\u001b[0m\u001b[1;33m.\u001b[0m\u001b[0mhead\u001b[0m\u001b[1;33m(\u001b[0m\u001b[1;36m10\u001b[0m\u001b[1;33m)\u001b[0m\u001b[1;33m\u001b[0m\u001b[1;33m\u001b[0m\u001b[0m\n",
      "\u001b[1;32m~\\anaconda3\\lib\\site-packages\\pandas\\core\\series.py\u001b[0m in \u001b[0;36mapply\u001b[1;34m(self, func, convert_dtype, args, **kwargs)\u001b[0m\n\u001b[0;32m   4354\u001b[0m         \u001b[0mdtype\u001b[0m\u001b[1;33m:\u001b[0m \u001b[0mfloat64\u001b[0m\u001b[1;33m\u001b[0m\u001b[1;33m\u001b[0m\u001b[0m\n\u001b[0;32m   4355\u001b[0m         \"\"\"\n\u001b[1;32m-> 4356\u001b[1;33m         \u001b[1;32mreturn\u001b[0m \u001b[0mSeriesApply\u001b[0m\u001b[1;33m(\u001b[0m\u001b[0mself\u001b[0m\u001b[1;33m,\u001b[0m \u001b[0mfunc\u001b[0m\u001b[1;33m,\u001b[0m \u001b[0mconvert_dtype\u001b[0m\u001b[1;33m,\u001b[0m \u001b[0margs\u001b[0m\u001b[1;33m,\u001b[0m \u001b[0mkwargs\u001b[0m\u001b[1;33m)\u001b[0m\u001b[1;33m.\u001b[0m\u001b[0mapply\u001b[0m\u001b[1;33m(\u001b[0m\u001b[1;33m)\u001b[0m\u001b[1;33m\u001b[0m\u001b[1;33m\u001b[0m\u001b[0m\n\u001b[0m\u001b[0;32m   4357\u001b[0m \u001b[1;33m\u001b[0m\u001b[0m\n\u001b[0;32m   4358\u001b[0m     def _reduce(\n",
      "\u001b[1;32m~\\anaconda3\\lib\\site-packages\\pandas\\core\\apply.py\u001b[0m in \u001b[0;36mapply\u001b[1;34m(self)\u001b[0m\n\u001b[0;32m   1028\u001b[0m         \u001b[1;31m# dispatch to agg\u001b[0m\u001b[1;33m\u001b[0m\u001b[1;33m\u001b[0m\u001b[1;33m\u001b[0m\u001b[0m\n\u001b[0;32m   1029\u001b[0m         \u001b[1;32mif\u001b[0m \u001b[0mis_list_like\u001b[0m\u001b[1;33m(\u001b[0m\u001b[0mself\u001b[0m\u001b[1;33m.\u001b[0m\u001b[0mf\u001b[0m\u001b[1;33m)\u001b[0m\u001b[1;33m:\u001b[0m\u001b[1;33m\u001b[0m\u001b[1;33m\u001b[0m\u001b[0m\n\u001b[1;32m-> 1030\u001b[1;33m             \u001b[1;32mreturn\u001b[0m \u001b[0mself\u001b[0m\u001b[1;33m.\u001b[0m\u001b[0mapply_multiple\u001b[0m\u001b[1;33m(\u001b[0m\u001b[1;33m)\u001b[0m\u001b[1;33m\u001b[0m\u001b[1;33m\u001b[0m\u001b[0m\n\u001b[0m\u001b[0;32m   1031\u001b[0m \u001b[1;33m\u001b[0m\u001b[0m\n\u001b[0;32m   1032\u001b[0m         \u001b[1;32mif\u001b[0m \u001b[0misinstance\u001b[0m\u001b[1;33m(\u001b[0m\u001b[0mself\u001b[0m\u001b[1;33m.\u001b[0m\u001b[0mf\u001b[0m\u001b[1;33m,\u001b[0m \u001b[0mstr\u001b[0m\u001b[1;33m)\u001b[0m\u001b[1;33m:\u001b[0m\u001b[1;33m\u001b[0m\u001b[1;33m\u001b[0m\u001b[0m\n",
      "\u001b[1;32m~\\anaconda3\\lib\\site-packages\\pandas\\core\\apply.py\u001b[0m in \u001b[0;36mapply_multiple\u001b[1;34m(self)\u001b[0m\n\u001b[0;32m    516\u001b[0m             \u001b[0mResult\u001b[0m \u001b[0mwhen\u001b[0m \u001b[0mself\u001b[0m\u001b[1;33m.\u001b[0m\u001b[0mf\u001b[0m \u001b[1;32mis\u001b[0m \u001b[0ma\u001b[0m \u001b[0mlist\u001b[0m\u001b[1;33m-\u001b[0m\u001b[0mlike\u001b[0m \u001b[1;32mor\u001b[0m \u001b[0mdict\u001b[0m\u001b[1;33m-\u001b[0m\u001b[0mlike\u001b[0m\u001b[1;33m,\u001b[0m \u001b[1;32mNone\u001b[0m \u001b[0motherwise\u001b[0m\u001b[1;33m.\u001b[0m\u001b[1;33m\u001b[0m\u001b[1;33m\u001b[0m\u001b[0m\n\u001b[0;32m    517\u001b[0m         \"\"\"\n\u001b[1;32m--> 518\u001b[1;33m         \u001b[1;32mreturn\u001b[0m \u001b[0mself\u001b[0m\u001b[1;33m.\u001b[0m\u001b[0mobj\u001b[0m\u001b[1;33m.\u001b[0m\u001b[0maggregate\u001b[0m\u001b[1;33m(\u001b[0m\u001b[0mself\u001b[0m\u001b[1;33m.\u001b[0m\u001b[0mf\u001b[0m\u001b[1;33m,\u001b[0m \u001b[0mself\u001b[0m\u001b[1;33m.\u001b[0m\u001b[0maxis\u001b[0m\u001b[1;33m,\u001b[0m \u001b[1;33m*\u001b[0m\u001b[0mself\u001b[0m\u001b[1;33m.\u001b[0m\u001b[0margs\u001b[0m\u001b[1;33m,\u001b[0m \u001b[1;33m**\u001b[0m\u001b[0mself\u001b[0m\u001b[1;33m.\u001b[0m\u001b[0mkwargs\u001b[0m\u001b[1;33m)\u001b[0m\u001b[1;33m\u001b[0m\u001b[1;33m\u001b[0m\u001b[0m\n\u001b[0m\u001b[0;32m    519\u001b[0m \u001b[1;33m\u001b[0m\u001b[0m\n\u001b[0;32m    520\u001b[0m     def normalize_dictlike_arg(\n",
      "\u001b[1;32m~\\anaconda3\\lib\\site-packages\\pandas\\core\\series.py\u001b[0m in \u001b[0;36maggregate\u001b[1;34m(self, func, axis, *args, **kwargs)\u001b[0m\n\u001b[0;32m   4224\u001b[0m \u001b[1;33m\u001b[0m\u001b[0m\n\u001b[0;32m   4225\u001b[0m         \u001b[0mop\u001b[0m \u001b[1;33m=\u001b[0m \u001b[0mSeriesApply\u001b[0m\u001b[1;33m(\u001b[0m\u001b[0mself\u001b[0m\u001b[1;33m,\u001b[0m \u001b[0mfunc\u001b[0m\u001b[1;33m,\u001b[0m \u001b[0mconvert_dtype\u001b[0m\u001b[1;33m=\u001b[0m\u001b[1;32mFalse\u001b[0m\u001b[1;33m,\u001b[0m \u001b[0margs\u001b[0m\u001b[1;33m=\u001b[0m\u001b[0margs\u001b[0m\u001b[1;33m,\u001b[0m \u001b[0mkwargs\u001b[0m\u001b[1;33m=\u001b[0m\u001b[0mkwargs\u001b[0m\u001b[1;33m)\u001b[0m\u001b[1;33m\u001b[0m\u001b[1;33m\u001b[0m\u001b[0m\n\u001b[1;32m-> 4226\u001b[1;33m         \u001b[0mresult\u001b[0m \u001b[1;33m=\u001b[0m \u001b[0mop\u001b[0m\u001b[1;33m.\u001b[0m\u001b[0magg\u001b[0m\u001b[1;33m(\u001b[0m\u001b[1;33m)\u001b[0m\u001b[1;33m\u001b[0m\u001b[1;33m\u001b[0m\u001b[0m\n\u001b[0m\u001b[0;32m   4227\u001b[0m         \u001b[1;32mreturn\u001b[0m \u001b[0mresult\u001b[0m\u001b[1;33m\u001b[0m\u001b[1;33m\u001b[0m\u001b[0m\n\u001b[0;32m   4228\u001b[0m \u001b[1;33m\u001b[0m\u001b[0m\n",
      "\u001b[1;32m~\\anaconda3\\lib\\site-packages\\pandas\\core\\apply.py\u001b[0m in \u001b[0;36magg\u001b[1;34m(self)\u001b[0m\n\u001b[0;32m   1037\u001b[0m \u001b[1;33m\u001b[0m\u001b[0m\n\u001b[0;32m   1038\u001b[0m     \u001b[1;32mdef\u001b[0m \u001b[0magg\u001b[0m\u001b[1;33m(\u001b[0m\u001b[0mself\u001b[0m\u001b[1;33m)\u001b[0m\u001b[1;33m:\u001b[0m\u001b[1;33m\u001b[0m\u001b[1;33m\u001b[0m\u001b[0m\n\u001b[1;32m-> 1039\u001b[1;33m         \u001b[0mresult\u001b[0m \u001b[1;33m=\u001b[0m \u001b[0msuper\u001b[0m\u001b[1;33m(\u001b[0m\u001b[1;33m)\u001b[0m\u001b[1;33m.\u001b[0m\u001b[0magg\u001b[0m\u001b[1;33m(\u001b[0m\u001b[1;33m)\u001b[0m\u001b[1;33m\u001b[0m\u001b[1;33m\u001b[0m\u001b[0m\n\u001b[0m\u001b[0;32m   1040\u001b[0m         \u001b[1;32mif\u001b[0m \u001b[0mresult\u001b[0m \u001b[1;32mis\u001b[0m \u001b[1;32mNone\u001b[0m\u001b[1;33m:\u001b[0m\u001b[1;33m\u001b[0m\u001b[1;33m\u001b[0m\u001b[0m\n\u001b[0;32m   1041\u001b[0m             \u001b[0mf\u001b[0m \u001b[1;33m=\u001b[0m \u001b[0mself\u001b[0m\u001b[1;33m.\u001b[0m\u001b[0mf\u001b[0m\u001b[1;33m\u001b[0m\u001b[1;33m\u001b[0m\u001b[0m\n",
      "\u001b[1;32m~\\anaconda3\\lib\\site-packages\\pandas\\core\\apply.py\u001b[0m in \u001b[0;36magg\u001b[1;34m(self)\u001b[0m\n\u001b[0;32m    159\u001b[0m \u001b[1;33m\u001b[0m\u001b[0m\n\u001b[0;32m    160\u001b[0m         \u001b[1;32mif\u001b[0m \u001b[0mis_dict_like\u001b[0m\u001b[1;33m(\u001b[0m\u001b[0marg\u001b[0m\u001b[1;33m)\u001b[0m\u001b[1;33m:\u001b[0m\u001b[1;33m\u001b[0m\u001b[1;33m\u001b[0m\u001b[0m\n\u001b[1;32m--> 161\u001b[1;33m             \u001b[1;32mreturn\u001b[0m \u001b[0mself\u001b[0m\u001b[1;33m.\u001b[0m\u001b[0magg_dict_like\u001b[0m\u001b[1;33m(\u001b[0m\u001b[1;33m)\u001b[0m\u001b[1;33m\u001b[0m\u001b[1;33m\u001b[0m\u001b[0m\n\u001b[0m\u001b[0;32m    162\u001b[0m         \u001b[1;32melif\u001b[0m \u001b[0mis_list_like\u001b[0m\u001b[1;33m(\u001b[0m\u001b[0marg\u001b[0m\u001b[1;33m)\u001b[0m\u001b[1;33m:\u001b[0m\u001b[1;33m\u001b[0m\u001b[1;33m\u001b[0m\u001b[0m\n\u001b[0;32m    163\u001b[0m             \u001b[1;31m# we require a list, but not a 'str'\u001b[0m\u001b[1;33m\u001b[0m\u001b[1;33m\u001b[0m\u001b[1;33m\u001b[0m\u001b[0m\n",
      "\u001b[1;32m~\\anaconda3\\lib\\site-packages\\pandas\\core\\apply.py\u001b[0m in \u001b[0;36magg_dict_like\u001b[1;34m(self)\u001b[0m\n\u001b[0;32m    430\u001b[0m             \u001b[1;31m# key only used for output\u001b[0m\u001b[1;33m\u001b[0m\u001b[1;33m\u001b[0m\u001b[1;33m\u001b[0m\u001b[0m\n\u001b[0;32m    431\u001b[0m             \u001b[0mcolg\u001b[0m \u001b[1;33m=\u001b[0m \u001b[0mobj\u001b[0m\u001b[1;33m.\u001b[0m\u001b[0m_gotitem\u001b[0m\u001b[1;33m(\u001b[0m\u001b[0mselection\u001b[0m\u001b[1;33m,\u001b[0m \u001b[0mndim\u001b[0m\u001b[1;33m=\u001b[0m\u001b[1;36m1\u001b[0m\u001b[1;33m)\u001b[0m\u001b[1;33m\u001b[0m\u001b[1;33m\u001b[0m\u001b[0m\n\u001b[1;32m--> 432\u001b[1;33m             \u001b[0mresults\u001b[0m \u001b[1;33m=\u001b[0m \u001b[1;33m{\u001b[0m\u001b[0mkey\u001b[0m\u001b[1;33m:\u001b[0m \u001b[0mcolg\u001b[0m\u001b[1;33m.\u001b[0m\u001b[0magg\u001b[0m\u001b[1;33m(\u001b[0m\u001b[0mhow\u001b[0m\u001b[1;33m)\u001b[0m \u001b[1;32mfor\u001b[0m \u001b[0mkey\u001b[0m\u001b[1;33m,\u001b[0m \u001b[0mhow\u001b[0m \u001b[1;32min\u001b[0m \u001b[0marg\u001b[0m\u001b[1;33m.\u001b[0m\u001b[0mitems\u001b[0m\u001b[1;33m(\u001b[0m\u001b[1;33m)\u001b[0m\u001b[1;33m}\u001b[0m\u001b[1;33m\u001b[0m\u001b[1;33m\u001b[0m\u001b[0m\n\u001b[0m\u001b[0;32m    433\u001b[0m         \u001b[1;32melse\u001b[0m\u001b[1;33m:\u001b[0m\u001b[1;33m\u001b[0m\u001b[1;33m\u001b[0m\u001b[0m\n\u001b[0;32m    434\u001b[0m             \u001b[1;31m# key used for column selection and output\u001b[0m\u001b[1;33m\u001b[0m\u001b[1;33m\u001b[0m\u001b[1;33m\u001b[0m\u001b[0m\n",
      "\u001b[1;32m~\\anaconda3\\lib\\site-packages\\pandas\\core\\apply.py\u001b[0m in \u001b[0;36m<dictcomp>\u001b[1;34m(.0)\u001b[0m\n\u001b[0;32m    430\u001b[0m             \u001b[1;31m# key only used for output\u001b[0m\u001b[1;33m\u001b[0m\u001b[1;33m\u001b[0m\u001b[1;33m\u001b[0m\u001b[0m\n\u001b[0;32m    431\u001b[0m             \u001b[0mcolg\u001b[0m \u001b[1;33m=\u001b[0m \u001b[0mobj\u001b[0m\u001b[1;33m.\u001b[0m\u001b[0m_gotitem\u001b[0m\u001b[1;33m(\u001b[0m\u001b[0mselection\u001b[0m\u001b[1;33m,\u001b[0m \u001b[0mndim\u001b[0m\u001b[1;33m=\u001b[0m\u001b[1;36m1\u001b[0m\u001b[1;33m)\u001b[0m\u001b[1;33m\u001b[0m\u001b[1;33m\u001b[0m\u001b[0m\n\u001b[1;32m--> 432\u001b[1;33m             \u001b[0mresults\u001b[0m \u001b[1;33m=\u001b[0m \u001b[1;33m{\u001b[0m\u001b[0mkey\u001b[0m\u001b[1;33m:\u001b[0m \u001b[0mcolg\u001b[0m\u001b[1;33m.\u001b[0m\u001b[0magg\u001b[0m\u001b[1;33m(\u001b[0m\u001b[0mhow\u001b[0m\u001b[1;33m)\u001b[0m \u001b[1;32mfor\u001b[0m \u001b[0mkey\u001b[0m\u001b[1;33m,\u001b[0m \u001b[0mhow\u001b[0m \u001b[1;32min\u001b[0m \u001b[0marg\u001b[0m\u001b[1;33m.\u001b[0m\u001b[0mitems\u001b[0m\u001b[1;33m(\u001b[0m\u001b[1;33m)\u001b[0m\u001b[1;33m}\u001b[0m\u001b[1;33m\u001b[0m\u001b[1;33m\u001b[0m\u001b[0m\n\u001b[0m\u001b[0;32m    433\u001b[0m         \u001b[1;32melse\u001b[0m\u001b[1;33m:\u001b[0m\u001b[1;33m\u001b[0m\u001b[1;33m\u001b[0m\u001b[0m\n\u001b[0;32m    434\u001b[0m             \u001b[1;31m# key used for column selection and output\u001b[0m\u001b[1;33m\u001b[0m\u001b[1;33m\u001b[0m\u001b[1;33m\u001b[0m\u001b[0m\n",
      "\u001b[1;32m~\\anaconda3\\lib\\site-packages\\pandas\\core\\series.py\u001b[0m in \u001b[0;36maggregate\u001b[1;34m(self, func, axis, *args, **kwargs)\u001b[0m\n\u001b[0;32m   4224\u001b[0m \u001b[1;33m\u001b[0m\u001b[0m\n\u001b[0;32m   4225\u001b[0m         \u001b[0mop\u001b[0m \u001b[1;33m=\u001b[0m \u001b[0mSeriesApply\u001b[0m\u001b[1;33m(\u001b[0m\u001b[0mself\u001b[0m\u001b[1;33m,\u001b[0m \u001b[0mfunc\u001b[0m\u001b[1;33m,\u001b[0m \u001b[0mconvert_dtype\u001b[0m\u001b[1;33m=\u001b[0m\u001b[1;32mFalse\u001b[0m\u001b[1;33m,\u001b[0m \u001b[0margs\u001b[0m\u001b[1;33m=\u001b[0m\u001b[0margs\u001b[0m\u001b[1;33m,\u001b[0m \u001b[0mkwargs\u001b[0m\u001b[1;33m=\u001b[0m\u001b[0mkwargs\u001b[0m\u001b[1;33m)\u001b[0m\u001b[1;33m\u001b[0m\u001b[1;33m\u001b[0m\u001b[0m\n\u001b[1;32m-> 4226\u001b[1;33m         \u001b[0mresult\u001b[0m \u001b[1;33m=\u001b[0m \u001b[0mop\u001b[0m\u001b[1;33m.\u001b[0m\u001b[0magg\u001b[0m\u001b[1;33m(\u001b[0m\u001b[1;33m)\u001b[0m\u001b[1;33m\u001b[0m\u001b[1;33m\u001b[0m\u001b[0m\n\u001b[0m\u001b[0;32m   4227\u001b[0m         \u001b[1;32mreturn\u001b[0m \u001b[0mresult\u001b[0m\u001b[1;33m\u001b[0m\u001b[1;33m\u001b[0m\u001b[0m\n\u001b[0;32m   4228\u001b[0m \u001b[1;33m\u001b[0m\u001b[0m\n",
      "\u001b[1;32m~\\anaconda3\\lib\\site-packages\\pandas\\core\\apply.py\u001b[0m in \u001b[0;36magg\u001b[1;34m(self)\u001b[0m\n\u001b[0;32m   1044\u001b[0m \u001b[1;33m\u001b[0m\u001b[0m\n\u001b[0;32m   1045\u001b[0m             \u001b[1;31m# string, list-like, and dict-like are entirely handled in super\u001b[0m\u001b[1;33m\u001b[0m\u001b[1;33m\u001b[0m\u001b[1;33m\u001b[0m\u001b[0m\n\u001b[1;32m-> 1046\u001b[1;33m             \u001b[1;32massert\u001b[0m \u001b[0mcallable\u001b[0m\u001b[1;33m(\u001b[0m\u001b[0mf\u001b[0m\u001b[1;33m)\u001b[0m\u001b[1;33m\u001b[0m\u001b[1;33m\u001b[0m\u001b[0m\n\u001b[0m\u001b[0;32m   1047\u001b[0m \u001b[1;33m\u001b[0m\u001b[0m\n\u001b[0;32m   1048\u001b[0m             \u001b[1;31m# we can be called from an inner function which\u001b[0m\u001b[1;33m\u001b[0m\u001b[1;33m\u001b[0m\u001b[1;33m\u001b[0m\u001b[0m\n",
      "\u001b[1;31mAssertionError\u001b[0m: "
     ]
    }
   ],
   "source": [
    "dataset[\"year\"] = dataset[\"user_url\"].apply(year)\n",
    "dataset.head(10)"
   ]
  },
  {
   "cell_type": "code",
   "execution_count": null,
   "id": "94a1eacf",
   "metadata": {},
   "outputs": [],
   "source": [
    "dataset[\"UserID\"]=dataset[\"user_url\"].apply(userID)\n",
    "dataset.head(10)"
   ]
  },
  {
   "cell_type": "markdown",
   "id": "edc9493d",
   "metadata": {},
   "source": [
    "<h2>Imperial units converse</h2>"
   ]
  },
  {
   "cell_type": "code",
   "execution_count": null,
   "id": "910192f9",
   "metadata": {},
   "outputs": [],
   "source": [
    "dataset[\"liters_filled\"]=dataset.apply(lambda x: (x[\"gallons\"]*4.5460) if (x[\"currency\"]==\"£\") else x[\"gallons\"]*3.78541, axis=1)"
   ]
  },
  {
   "cell_type": "code",
   "execution_count": null,
   "id": "0223dcfe",
   "metadata": {},
   "outputs": [],
   "source": [
    "dataset[\"km driven\"]=dataset[\"miles\"]*1.60934"
   ]
  },
  {
   "cell_type": "code",
   "execution_count": null,
   "id": "eb4a48bb",
   "metadata": {},
   "outputs": [],
   "source": [
    "dataset[\"ltrs/100km\"]=dataset[\"liters_filled\"]/(dataset[\"km driven\"]/100)"
   ]
  },
  {
   "cell_type": "code",
   "execution_count": null,
   "id": "88ec4fa1",
   "metadata": {},
   "outputs": [],
   "source": [
    "dataset"
   ]
  },
  {
   "cell_type": "markdown",
   "id": "162207a6",
   "metadata": {},
   "source": [
    "<h1>Feature Selection</h1>"
   ]
  },
  {
   "cell_type": "code",
   "execution_count": null,
   "id": "558d407c",
   "metadata": {},
   "outputs": [],
   "source": []
  },
  {
   "cell_type": "code",
   "execution_count": null,
   "id": "403958c7",
   "metadata": {},
   "outputs": [],
   "source": []
  },
  {
   "cell_type": "code",
   "execution_count": null,
   "id": "b77c99e2",
   "metadata": {},
   "outputs": [],
   "source": []
  }
 ],
 "metadata": {
  "kernelspec": {
   "display_name": "Python 3",
   "language": "python",
   "name": "python3"
  },
  "language_info": {
   "codemirror_mode": {
    "name": "ipython",
    "version": 3
   },
   "file_extension": ".py",
   "mimetype": "text/x-python",
   "name": "python",
   "nbconvert_exporter": "python",
   "pygments_lexer": "ipython3",
   "version": "3.8.8"
  }
 },
 "nbformat": 4,
 "nbformat_minor": 5
}
